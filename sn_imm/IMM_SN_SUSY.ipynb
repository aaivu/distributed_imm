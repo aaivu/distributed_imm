{
 "cells": [
  {
   "cell_type": "code",
   "execution_count": 1,
   "metadata": {},
   "outputs": [],
   "source": [
    "from sklearn.cluster import KMeans\n",
    "from sklearn.preprocessing import StandardScaler, OneHotEncoder\n",
    "from sklearn.compose import ColumnTransformer\n",
    "import pandas as pd\n",
    "import numpy as np\n",
    "from ExKMC.Tree import Tree\n",
    "from IPython.display import Image\n",
    "import time"
   ]
  },
  {
   "cell_type": "code",
   "execution_count": 2,
   "metadata": {},
   "outputs": [],
   "source": [
    "\n",
    "df = pd.read_csv(\"/Users/bojitha/Downloads/SUSY.csv.gz\" , compression='gzip', header=None)\n",
    "\n",
    "# df = pd.read_csv(\"experiment_results/subset_features_28_datapoints_3000000.csv\")\n"
   ]
  },
  {
   "cell_type": "code",
   "execution_count": 5,
   "metadata": {},
   "outputs": [
    {
     "name": "stdout",
     "output_type": "stream",
     "text": [
      "Index(['feature 1', 'feature 2', 'feature 3', 'feature 4', 'feature 5',\n",
      "       'feature 6', 'feature 7', 'feature 8', 'feature 9', 'feature 10',\n",
      "       'feature 11', 'feature 12', 'feature 13', 'feature 14', 'feature 15',\n",
      "       'feature 16', 'feature 17', 'feature 18'],\n",
      "      dtype='object')\n"
     ]
    },
    {
     "data": {
      "text/plain": [
       "Index(['feature 1', 'feature 2', 'feature 3', 'feature 4', 'feature 5',\n",
       "       'feature 6', 'feature 7', 'feature 8', 'feature 9', 'feature 10',\n",
       "       'feature 11', 'feature 12', 'feature 13', 'feature 14', 'feature 15',\n",
       "       'feature 16', 'feature 17', 'feature 18'],\n",
       "      dtype='object')"
      ]
     },
     "execution_count": 5,
     "metadata": {},
     "output_type": "execute_result"
    }
   ],
   "source": [
    "df = df.drop(df.columns[0], axis=1)\n",
    "df.columns = [f'feature {i+1}' for i in range(df.shape[1])]\n",
    "print(df.columns)\n",
    "\n",
    "df.columns"
   ]
  },
  {
   "cell_type": "code",
   "execution_count": 6,
   "metadata": {},
   "outputs": [
    {
     "data": {
      "text/plain": [
       "<bound method NDFrame.head of          feature 1  feature 2  feature 3  feature 4  feature 5  feature 6  \\\n",
       "0         0.972861   0.653855   1.176225   1.157156  -1.739873  -0.874309   \n",
       "1         1.667973   0.064191  -1.225171   0.506102  -0.338939   1.672543   \n",
       "2         0.444840  -0.134298  -0.709972   0.451719  -1.613871  -0.768661   \n",
       "3         0.381256  -0.976145   0.693152   0.448959   0.891753  -0.677328   \n",
       "4         1.309996  -0.690089  -0.676259   1.589283  -0.693326   0.622907   \n",
       "...            ...        ...        ...        ...        ...        ...   \n",
       "4999995   0.853325  -0.961783  -1.487277   0.678190   0.493580   1.647969   \n",
       "4999996   0.951581   0.139370   1.436884   0.880440  -0.351948  -0.740852   \n",
       "4999997   0.840389   1.419162  -1.218766   1.195631   1.695645   0.663756   \n",
       "4999998   1.784218  -0.833565  -0.560091   0.953342  -0.688969  -1.428233   \n",
       "4999999   0.761500   0.680454  -1.186213   1.043521  -0.316755   0.246879   \n",
       "\n",
       "         feature 7  feature 8  feature 9  feature 10  feature 11  feature 12  \\\n",
       "0         0.567765  -0.175000   0.810061   -0.252552    1.921887    0.889637   \n",
       "1         3.475464  -1.219136   0.012955    3.775174    1.045977    0.568051   \n",
       "2         1.219918   0.504026   1.831248   -0.431385    0.526283    0.941514   \n",
       "3         2.033060   1.533041   3.046260   -1.005285    0.569386    1.015211   \n",
       "4         1.087562  -0.381742   0.589204    1.365479    1.179295    0.968218   \n",
       "...            ...        ...        ...         ...         ...         ...   \n",
       "4999995   1.843867   0.276954   1.025105   -1.486535    0.892879    1.684429   \n",
       "4999996   0.290863  -0.732360   0.001360    0.257738    0.802871    0.545319   \n",
       "4999997   0.490888  -0.509186   0.704289    0.045744    0.825015    0.723530   \n",
       "4999998   2.660703  -0.861344   2.116892    2.906151    1.232334    0.952444   \n",
       "4999999   1.120280   0.998479   1.640881   -0.797688    0.854212    1.121858   \n",
       "\n",
       "         feature 13  feature 14  feature 15  feature 16  feature 17  \\\n",
       "0          0.410772    1.145621    1.932632    0.994464    1.367815   \n",
       "1          0.481928    0.000000    0.448410    0.205356    1.321893   \n",
       "2          1.587535    2.024308    0.603498    1.562374    1.135454   \n",
       "3          1.582217    1.551914    0.761215    1.715464    1.492257   \n",
       "4          0.728563    0.000000    1.083158    0.043429    1.154854   \n",
       "...             ...         ...         ...         ...         ...   \n",
       "4999995    1.674084    3.366298    1.046707    2.646649    1.389226   \n",
       "4999996    0.602730    0.002998    0.748959    0.401166    0.443471   \n",
       "4999997    0.778236    0.752942    0.838953    0.614048    1.210595   \n",
       "4999998    0.685846    0.000000    0.781874    0.676003    1.197807   \n",
       "4999999    1.165438    1.498351    0.931580    1.293524    1.539167   \n",
       "\n",
       "         feature 18  \n",
       "0          0.040714  \n",
       "1          0.377584  \n",
       "2          0.180910  \n",
       "3          0.090719  \n",
       "4          0.094859  \n",
       "...             ...  \n",
       "4999995    0.364599  \n",
       "4999996    0.239953  \n",
       "4999997    0.026692  \n",
       "4999998    0.093689  \n",
       "4999999    0.187496  \n",
       "\n",
       "[5000000 rows x 18 columns]>"
      ]
     },
     "execution_count": 6,
     "metadata": {},
     "output_type": "execute_result"
    }
   ],
   "source": [
    "df.head"
   ]
  },
  {
   "cell_type": "code",
   "execution_count": 7,
   "metadata": {},
   "outputs": [
    {
     "name": "stdout",
     "output_type": "stream",
     "text": [
      "Testing with 18 features and 1000000 data points...\n",
      "Index(['feature 1', 'feature 2', 'feature 3', 'feature 4', 'feature 5',\n",
      "       'feature 6', 'feature 7', 'feature 8', 'feature 9', 'feature 10',\n",
      "       'feature 11', 'feature 12', 'feature 13', 'feature 14', 'feature 15',\n",
      "       'feature 16', 'feature 17', 'feature 18'],\n",
      "      dtype='object')\n"
     ]
    },
    {
     "name": "stderr",
     "output_type": "stream",
     "text": [
      "/Users/bojitha/Desktop/FYP/exKMC/ExKMC/venv/lib/python3.11/site-packages/sklearn/utils/validation.py:2739: UserWarning: X does not have valid feature names, but KMeans was fitted with feature names\n",
      "  warnings.warn(\n"
     ]
    },
    {
     "name": "stdout",
     "output_type": "stream",
     "text": [
      "Tree Kmeans Cost score: 12005558.07480888\n",
      "Tree Surrogate Cost score: 21212113.344883427\n",
      "Runtime: 21.023695707321167 seconds, Tree saved as tree_features_18_datapoints_1000000.gv.png\n",
      "Testing with 18 features and 3000000 data points...\n",
      "Index(['feature 1', 'feature 2', 'feature 3', 'feature 4', 'feature 5',\n",
      "       'feature 6', 'feature 7', 'feature 8', 'feature 9', 'feature 10',\n",
      "       'feature 11', 'feature 12', 'feature 13', 'feature 14', 'feature 15',\n",
      "       'feature 16', 'feature 17', 'feature 18'],\n",
      "      dtype='object')\n"
     ]
    },
    {
     "name": "stderr",
     "output_type": "stream",
     "text": [
      "/Users/bojitha/Desktop/FYP/exKMC/ExKMC/venv/lib/python3.11/site-packages/sklearn/utils/validation.py:2739: UserWarning: X does not have valid feature names, but KMeans was fitted with feature names\n",
      "  warnings.warn(\n"
     ]
    },
    {
     "name": "stdout",
     "output_type": "stream",
     "text": [
      "Tree Kmeans Cost score: 37059730.35868256\n",
      "Tree Surrogate Cost score: 65397630.34135698\n",
      "Runtime: 90.17428183555603 seconds, Tree saved as tree_features_18_datapoints_3000000.gv.png\n",
      "Testing with 18 features and 5000000 data points...\n",
      "Index(['feature 1', 'feature 2', 'feature 3', 'feature 4', 'feature 5',\n",
      "       'feature 6', 'feature 7', 'feature 8', 'feature 9', 'feature 10',\n",
      "       'feature 11', 'feature 12', 'feature 13', 'feature 14', 'feature 15',\n",
      "       'feature 16', 'feature 17', 'feature 18'],\n",
      "      dtype='object')\n"
     ]
    },
    {
     "name": "stderr",
     "output_type": "stream",
     "text": [
      "/Users/bojitha/Desktop/FYP/exKMC/ExKMC/venv/lib/python3.11/site-packages/sklearn/utils/validation.py:2739: UserWarning: X does not have valid feature names, but KMeans was fitted with feature names\n",
      "  warnings.warn(\n"
     ]
    },
    {
     "name": "stdout",
     "output_type": "stream",
     "text": [
      "Tree Kmeans Cost score: 61746279.08814829\n",
      "Tree Surrogate Cost score: 109053295.66943437\n",
      "Runtime: 187.93084597587585 seconds, Tree saved as tree_features_18_datapoints_5000000.gv.png\n",
      "   Features  Data Points  Runtime (seconds)  \\\n",
      "0        18      1000000          21.023696   \n",
      "1        18      3000000          90.174282   \n",
      "2        18      5000000         187.930846   \n",
      "\n",
      "                         Tree Filename  \n",
      "0  tree_features_18_datapoints_1000000  \n",
      "1  tree_features_18_datapoints_3000000  \n",
      "2  tree_features_18_datapoints_5000000  \n"
     ]
    }
   ],
   "source": [
    "import os\n",
    "\n",
    "output_dir = \"SUSY_experiment_results\"\n",
    "os.makedirs(output_dir, exist_ok=True)\n",
    "\n",
    "X_full = df\n",
    "\n",
    "class KMeansWrapper:\n",
    "    def __init__(self, cluster_centers_ , n_clusters=10, random_state=43):\n",
    "        self.n_clusters = n_clusters\n",
    "        self.cluster_centers_ = cluster_centers_\n",
    "        self.random_state = random_state\n",
    "        self.labels_ = None\n",
    "\n",
    "    def fit(self, X):\n",
    "        # Use the 'prediction' column as cluster labels\n",
    "        if 'prediction' not in X_full.columns:\n",
    "            raise ValueError(\"The dataframe must contain a 'prediction' column.\")\n",
    "        self.labels_ = X_full.loc[X.index, 'prediction'].values\n",
    "        return self\n",
    "\n",
    "    def predict(self, X):\n",
    "        # Return the stored labels for the given indices\n",
    "        return self.labels_\n",
    "\n",
    "def measure_runtime_and_save_tree(feature_count, data_points):\n",
    "    # Select first `feature_count` columns and `data_points` rows\n",
    "    X_subset = X_full.iloc[:data_points, :feature_count]\n",
    "    print(X_subset.columns)\n",
    "    # X_subset.to_csv(os.path.join(output_dir, f\"subset_features_{feature_count}_datapoints_{data_points}.csv\"), index=False)\n",
    "\n",
    "    # Preprocess the dataset: only standardize numerical features\n",
    "    preprocessor = ColumnTransformer(\n",
    "        transformers=[\n",
    "            ('num', StandardScaler(), X_subset.columns)\n",
    "        ]\n",
    "    )\n",
    "\n",
    "    X_preprocessed = preprocessor.fit_transform(X_subset)\n",
    "    X_preprocessed = pd.DataFrame(X_preprocessed)\n",
    "\n",
    "    # Fit KMeansWrapper model\n",
    "    k = 10  # Number of clusters\n",
    "    # kmeans = KMeansWrapper(cluster_centers_ =cluster_centers , n_clusters=k, random_state=43 )\n",
    "    kmeans = KMeans(n_clusters=k, random_state=43)\n",
    "    kmeans.fit(X_subset)\n",
    "\n",
    "    # Measure the runtime for Tree creation\n",
    "    start_time = time.time()\n",
    "    tree = Tree(k=k)\n",
    "    tree.fit(X_preprocessed, kmeans)\n",
    "    end_time = time.time()\n",
    "\n",
    "    tree_filename = f\"tree_features_{feature_count}_datapoints_{data_points}\"\n",
    "    tree_filepath = os.path.join(output_dir, tree_filename)\n",
    "    tree.plot(filename=tree_filepath, feature_names=list(X_subset.columns), view=False)\n",
    "\n",
    "    score = tree.score(X_preprocessed)\n",
    "    print(f\"Tree Kmeans Cost score: {score}\")\n",
    "\n",
    "    surrogate_score = tree.surrogate_score(X_preprocessed)\n",
    "    print(f\"Tree Surrogate Cost score: {surrogate_score}\")\n",
    "\n",
    "\n",
    "    # Move the generated .gv and .gv.png files to the output directory if not already there\n",
    "    for ext in [\".gv\", \".gv.png\"]:\n",
    "        src = f\"{tree_filename}{ext}\"\n",
    "        dst = os.path.join(output_dir, f\"{tree_filename}{ext}\")\n",
    "        if os.path.exists(src):\n",
    "            os.replace(src, dst)\n",
    "\n",
    "    Image(filename=f'{tree_filepath}.gv.png')\n",
    "\n",
    "    return end_time - start_time, tree_filename\n",
    "\n",
    "feature_counts = [18]\n",
    "data_point_sizes = [1000000,3000000,5000000]\n",
    "\n",
    "results = []\n",
    "\n",
    "for feature_count in feature_counts:\n",
    "    for data_points in data_point_sizes:\n",
    "        print(f\"Testing with {feature_count} features and {data_points} data points...\")\n",
    "        runtime, tree_filename = measure_runtime_and_save_tree(feature_count, data_points)\n",
    "        print(f\"Runtime: {runtime} seconds, Tree saved as {tree_filename}.gv.png\")\n",
    "        results.append({\n",
    "            'Features': feature_count,\n",
    "            'Data Points': data_points,\n",
    "            'Runtime (seconds)': runtime,\n",
    "            'Tree Filename': tree_filename\n",
    "        })\n",
    "\n",
    "results_df = pd.DataFrame(results)\n",
    "print(results_df)\n",
    "\n",
    "results_csv_path = os.path.join(output_dir, f'{data_point_sizes}_runtime_and_tree_results.csv')\n",
    "results_df.to_csv(results_csv_path, index=False)\n"
   ]
  },
  {
   "cell_type": "markdown",
   "metadata": {},
   "source": []
  },
  {
   "cell_type": "code",
   "execution_count": 8,
   "metadata": {},
   "outputs": [
    {
     "name": "stdout",
     "output_type": "stream",
     "text": [
      "Testing with 18 features and 1000000 data points...\n",
      "Columns used: ['feature 1', 'feature 2', 'feature 3', 'feature 4', 'feature 5', 'feature 6', 'feature 7', 'feature 8', 'feature 9', 'feature 10', 'feature 11', 'feature 12', 'feature 13', 'feature 14', 'feature 15', 'feature 16', 'feature 17', 'feature 18']\n"
     ]
    },
    {
     "name": "stderr",
     "output_type": "stream",
     "text": [
      "/Users/bojitha/Desktop/FYP/exKMC/ExKMC/venv/lib/python3.11/site-packages/sklearn/utils/validation.py:2739: UserWarning: X does not have valid feature names, but KMeans was fitted with feature names\n",
      "  warnings.warn(\n"
     ]
    },
    {
     "name": "stdout",
     "output_type": "stream",
     "text": [
      "Tree KMeans Cost score: 12005558.07480888\n",
      "Tree Surrogate Cost score: 21212113.344883427\n",
      "Runtime: 23.90 seconds, Tree saved as tree_features_18_datapoints_1000000.gv.png\n",
      "Testing with 18 features and 3000000 data points...\n",
      "Columns used: ['feature 1', 'feature 2', 'feature 3', 'feature 4', 'feature 5', 'feature 6', 'feature 7', 'feature 8', 'feature 9', 'feature 10', 'feature 11', 'feature 12', 'feature 13', 'feature 14', 'feature 15', 'feature 16', 'feature 17', 'feature 18']\n"
     ]
    },
    {
     "name": "stderr",
     "output_type": "stream",
     "text": [
      "/Users/bojitha/Desktop/FYP/exKMC/ExKMC/venv/lib/python3.11/site-packages/sklearn/utils/validation.py:2739: UserWarning: X does not have valid feature names, but KMeans was fitted with feature names\n",
      "  warnings.warn(\n"
     ]
    },
    {
     "name": "stdout",
     "output_type": "stream",
     "text": [
      "Tree KMeans Cost score: 37059730.35868256\n",
      "Tree Surrogate Cost score: 65397630.34135698\n",
      "Runtime: 99.65 seconds, Tree saved as tree_features_18_datapoints_3000000.gv.png\n",
      "Testing with 18 features and 5000000 data points...\n",
      "Columns used: ['feature 1', 'feature 2', 'feature 3', 'feature 4', 'feature 5', 'feature 6', 'feature 7', 'feature 8', 'feature 9', 'feature 10', 'feature 11', 'feature 12', 'feature 13', 'feature 14', 'feature 15', 'feature 16', 'feature 17', 'feature 18']\n"
     ]
    },
    {
     "name": "stderr",
     "output_type": "stream",
     "text": [
      "/Users/bojitha/Desktop/FYP/exKMC/ExKMC/venv/lib/python3.11/site-packages/sklearn/utils/validation.py:2739: UserWarning: X does not have valid feature names, but KMeans was fitted with feature names\n",
      "  warnings.warn(\n"
     ]
    },
    {
     "name": "stdout",
     "output_type": "stream",
     "text": [
      "Tree KMeans Cost score: 61746279.08814829\n",
      "Tree Surrogate Cost score: 109053295.66943437\n",
      "Runtime: 231.42 seconds, Tree saved as tree_features_18_datapoints_5000000.gv.png\n",
      "   Features  Data Points  Runtime (seconds)  \\\n",
      "0        18      1000000          23.904796   \n",
      "1        18      3000000          99.651724   \n",
      "2        18      5000000         231.423066   \n",
      "\n",
      "                         Tree Filename  \n",
      "0  tree_features_18_datapoints_1000000  \n",
      "1  tree_features_18_datapoints_3000000  \n",
      "2  tree_features_18_datapoints_5000000  \n"
     ]
    }
   ],
   "source": [
    "output_dir = \"SUSY_experiment_results_2\"\n",
    "os.makedirs(output_dir, exist_ok=True)\n",
    "\n",
    "X_full = df  # Assume 'df' is already defined and includes the 'prediction' column\n",
    "\n",
    "class KMeansWrapper:\n",
    "    def __init__(self, cluster_centers_, n_clusters=10, random_state=43):\n",
    "        self.n_clusters = n_clusters\n",
    "        self.cluster_centers_ = cluster_centers_\n",
    "        self.random_state = random_state\n",
    "        self.labels_ = None\n",
    "\n",
    "    def fit(self, X):\n",
    "        if 'prediction' not in X_full.columns:\n",
    "            raise ValueError(\"The dataframe must contain a 'prediction' column.\")\n",
    "        self.labels_ = X_full.loc[X.index, 'prediction'].values\n",
    "        return self\n",
    "\n",
    "    def predict(self, X):\n",
    "        return self.labels_\n",
    "\n",
    "def measure_runtime_and_save_tree(feature_count, data_points):\n",
    "    # Select subset\n",
    "    X_subset = X_full.iloc[:data_points, :feature_count]\n",
    "    print(f\"Columns used: {list(X_subset.columns)}\")\n",
    "\n",
    "    # Save the subset to a CSV file\n",
    "    subset_csv_path = os.path.join(output_dir, f\"subset_features_{feature_count}_datapoints_{data_points}.csv\")\n",
    "    X_subset.to_csv(subset_csv_path, index=False)\n",
    "\n",
    "    # Preprocess numeric features\n",
    "    preprocessor = ColumnTransformer(\n",
    "        transformers=[('num', StandardScaler(), X_subset.columns)]\n",
    "    )\n",
    "    X_preprocessed = preprocessor.fit_transform(X_subset)\n",
    "    X_preprocessed = pd.DataFrame(X_preprocessed)\n",
    "\n",
    "    # Fit KMeans model\n",
    "    k = 10\n",
    "    kmeans = KMeans(n_clusters=k, random_state=43)\n",
    "    kmeans.fit(X_subset)\n",
    "\n",
    "    # Fit tree and measure runtime\n",
    "    start_time = time.time()\n",
    "    tree = Tree(k=k)\n",
    "    tree.fit(X_preprocessed, kmeans)\n",
    "    end_time = time.time()\n",
    "\n",
    "    # Save and plot the tree\n",
    "    tree_filename = f\"tree_features_{feature_count}_datapoints_{data_points}\"\n",
    "    tree_filepath = os.path.join(output_dir, tree_filename)\n",
    "    tree.plot(filename=tree_filepath, feature_names=list(X_subset.columns), view=False)\n",
    "\n",
    "    print(f\"Tree KMeans Cost score: {tree.score(X_preprocessed)}\")\n",
    "    print(f\"Tree Surrogate Cost score: {tree.surrogate_score(X_preprocessed)}\")\n",
    "\n",
    "    # Move plot files\n",
    "    for ext in [\".gv\", \".gv.png\"]:\n",
    "        src = f\"{tree_filename}{ext}\"\n",
    "        dst = os.path.join(output_dir, f\"{tree_filename}{ext}\")\n",
    "        if os.path.exists(src):\n",
    "            os.replace(src, dst)\n",
    "\n",
    "    Image(filename=f'{tree_filepath}.gv.png')\n",
    "    return end_time - start_time, tree_filename\n",
    "\n",
    "# Parameters to test\n",
    "feature_counts = [18]\n",
    "data_point_sizes = [1000000, 3000000, 5000000]\n",
    "\n",
    "results = []\n",
    "\n",
    "for feature_count in feature_counts:\n",
    "    for data_points in data_point_sizes:\n",
    "        print(f\"Testing with {feature_count} features and {data_points} data points...\")\n",
    "        runtime, tree_filename = measure_runtime_and_save_tree(feature_count, data_points)\n",
    "        print(f\"Runtime: {runtime:.2f} seconds, Tree saved as {tree_filename}.gv.png\")\n",
    "        results.append({\n",
    "            'Features': feature_count,\n",
    "            'Data Points': data_points,\n",
    "            'Runtime (seconds)': runtime,\n",
    "            'Tree Filename': tree_filename\n",
    "        })\n",
    "\n",
    "# Save results summary\n",
    "results_df = pd.DataFrame(results)\n",
    "print(results_df)\n",
    "results_csv_path = os.path.join(output_dir, f'{data_point_sizes}_runtime_and_tree_results.csv')\n",
    "results_df.to_csv(results_csv_path, index=False)"
   ]
  }
 ],
 "metadata": {
  "kernelspec": {
   "display_name": "venv",
   "language": "python",
   "name": "python3"
  },
  "language_info": {
   "codemirror_mode": {
    "name": "ipython",
    "version": 3
   },
   "file_extension": ".py",
   "mimetype": "text/x-python",
   "name": "python",
   "nbconvert_exporter": "python",
   "pygments_lexer": "ipython3",
   "version": "3.11.7"
  }
 },
 "nbformat": 4,
 "nbformat_minor": 2
}
