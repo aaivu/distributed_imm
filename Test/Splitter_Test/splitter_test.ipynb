{
 "cells": [
  {
   "cell_type": "code",
   "execution_count": 1,
   "id": "initial_id",
   "metadata": {
    "ExecuteTime": {
     "end_time": "2025-02-09T05:44:37.888921Z",
     "start_time": "2025-02-09T05:44:37.636676Z"
    },
    "collapsed": true
   },
   "outputs": [
    {
     "name": "stdout",
     "output_type": "stream",
     "text": [
      "{'feature': 0, 'threshold': 1.25, 'mistakes': 1}\n",
      "{'feature': 0, 'threshold': 1.25, 'mistakes': 2}\n",
      "{'feature': 0, 'threshold': 1.5, 'mistakes': 1}\n",
      "{'feature': 0, 'threshold': 2.0, 'mistakes': 0}\n",
      "{'feature': 0, 'threshold': 2.5, 'mistakes': 1}\n",
      "{'feature': 1, 'threshold': 2.5, 'mistakes': 1}\n",
      "{'feature': 1, 'threshold': 2.5, 'mistakes': 2}\n",
      "{'feature': 1, 'threshold': 3.0, 'mistakes': 1}\n",
      "{'feature': 1, 'threshold': 4.5, 'mistakes': 0}\n",
      "{'feature': 1, 'threshold': 5.0, 'mistakes': 1}\n"
     ]
    }
   ],
   "source": [
    "import numpy as np\n",
    "from d_imm.splitters import get_all_mistakes\n",
    "\n",
    "# Test data\n",
    "X = np.array([\n",
    "    [1.0, 2.0],\n",
    "    [1.5, 3.0],\n",
    "    [3.0, 6.0],\n",
    "    [2.5, 5.0],\n",
    "    [2.0, 4.5]  # This point is closer to cluster 1 center but assigned to cluster 0\n",
    "], dtype=np.float64)\n",
    "\n",
    "y = np.array([0, 0, 1, 1, 0], dtype=np.int32)  # Labels with a mistake in the last point\n",
    "\n",
    "centers = np.array([\n",
    "    [1.25, 2.5],  # Center of cluster 0\n",
    "    [2.75, 5.5]   # Center of cluster 1\n",
    "], dtype=np.float64)\n",
    "\n",
    "valid_centers = np.array([1, 1], dtype=np.int32)  # Both centers are valid\n",
    "valid_cols = np.array([1, 1], dtype=np.int32)  # Both features are valid\n",
    "\n",
    "# Call the function\n",
    "results = get_all_mistakes(X, y, centers, valid_centers, valid_cols, njobs=1)\n",
    "\n",
    "# Print results\n",
    "for result in results:\n",
    "    print(result)"
   ]
  },
  {
   "cell_type": "code",
   "execution_count": 3,
   "id": "d0e7b4ce",
   "metadata": {},
   "outputs": [],
   "source": [
    "import numpy as np\n",
    "from collections import namedtuple\n",
    "\n",
    "# Define the named tuples\n",
    "Instance = namedtuple(\"Instance\", [\"features\", \"label\", \"weight\"])\n",
    "Split = namedtuple(\"Split\", [\"feature_index\", \"threshold\", \"categories\", \"is_continuous\"])\n",
    "\n",
    "# Test data\n",
    "X = np.array([\n",
    "    [1.0, 2.0],\n",
    "    [1.5, 3.0],\n",
    "    [3.0, 6.0],\n",
    "    [2.5, 5.0],\n",
    "    [2.0, 4.5]  # This point is closer to cluster 1 center but assigned to cluster 0\n",
    "], dtype=np.float64)\n",
    "\n",
    "y = np.array([0, 0, 1, 1, 0], dtype=np.int32)  # Labels with a mistake in the last point\n",
    "\n",
    "centers = np.array([\n",
    "    [1.25, 2.5],  # Center of cluster 0\n",
    "    [2.75, 5.5]   # Center of cluster 1\n",
    "], dtype=np.float64)\n",
    "\n",
    "valid_centers = np.array([1, 1], dtype=np.int32)  # Both centers are valid\n",
    "valid_cols = np.array([1, 1], dtype=np.int32)  # Both features are valid\n",
    "\n",
    "# Define the histogram structure using Split named tuples\n",
    "histogram = [\n",
    "    [  # Feature 0 thresholds\n",
    "        Split(feature_index=0, threshold=np.float64(1.00), categories=None, is_continuous=True),  \n",
    "        Split(feature_index=0, threshold=np.float64(2.45), categories=None, is_continuous=True)   \n",
    "    ],\n",
    "    [  # Feature 1 thresholds\n",
    "        Split(feature_index=1, threshold=np.float64(2.0), categories=None, is_continuous=True),   \n",
    "        Split(feature_index=1, threshold=np.float64(5.0), categories=None, is_continuous=True)    \n",
    "    ]\n",
    "]"
   ]
  },
  {
   "cell_type": "code",
   "execution_count": 4,
   "id": "ff31eb6569b92c",
   "metadata": {
    "collapsed": false
   },
   "outputs": [
    {
     "name": "stdout",
     "output_type": "stream",
     "text": [
      "{'feature': 0, 'threshold': 1.25, 'mistakes': 2}\n",
      "{'feature': 0, 'threshold': 2.45, 'mistakes': 0}\n",
      "{'feature': 1, 'threshold': 2.5, 'mistakes': 2}\n",
      "{'feature': 1, 'threshold': 5.0, 'mistakes': 1}\n"
     ]
    }
   ],
   "source": [
    "from d_imm.splitters import get_all_mistakes_histogram\n",
    "\n",
    "# Call the function\n",
    "results = get_all_mistakes_histogram(X, y, centers, valid_centers, valid_cols, histogram, njobs=1, sorted=True)\n",
    "\n",
    "# Print results\n",
    "for result in results:\n",
    "    \n",
    "    print(result)"
   ]
  },
  {
   "cell_type": "code",
   "execution_count": 11,
   "id": "2b0e456d",
   "metadata": {},
   "outputs": [
    {
     "name": "stdout",
     "output_type": "stream",
     "text": [
      "\u001b[33mWARNING: Skipping distributed-imm as it is not installed.\u001b[0m\u001b[33m\n",
      "\u001b[0m"
     ]
    }
   ],
   "source": [
    "!pip uninstall distributed-imm -y\n"
   ]
  },
  {
   "cell_type": "code",
   "execution_count": 1,
   "id": "f98de17f",
   "metadata": {},
   "outputs": [
    {
     "name": "stdout",
     "output_type": "stream",
     "text": [
      "asttokens==3.0.0\n",
      "comm==0.2.2\n",
      "Cython==3.0.12\n",
      "debugpy==1.8.12\n",
      "decorator==5.1.1\n",
      "executing==2.2.0\n",
      "graphviz==0.20.3\n",
      "ipykernel==6.29.5\n",
      "ipython==8.32.0\n",
      "jedi==0.19.2\n",
      "jupyter_client==8.6.3\n",
      "jupyter_core==5.7.2\n",
      "matplotlib-inline==0.1.7\n",
      "nest-asyncio==1.6.0\n",
      "numpy==2.2.3\n",
      "packaging==24.2\n",
      "pandas==2.2.3\n",
      "parso==0.8.4\n",
      "pexpect==4.9.0\n",
      "platformdirs==4.3.6\n",
      "prompt_toolkit==3.0.50\n",
      "psutil==7.0.0\n",
      "ptyprocess==0.7.0\n",
      "pure_eval==0.2.3\n",
      "py4j==0.10.9.7\n",
      "Pygments==2.19.1\n",
      "pyspark==3.5.4\n",
      "python-dateutil==2.9.0.post0\n",
      "pytz==2025.1\n",
      "pyzmq==26.2.1\n",
      "six==1.17.0\n",
      "stack-data==0.6.3\n",
      "tornado==6.4.2\n",
      "traitlets==5.14.3\n",
      "typing_extensions==4.12.2\n",
      "tzdata==2025.1\n",
      "wcwidth==0.2.13\n"
     ]
    }
   ],
   "source": [
    "!pip freeze"
   ]
  },
  {
   "cell_type": "code",
   "execution_count": null,
   "id": "4963885e",
   "metadata": {},
   "outputs": [],
   "source": []
  }
 ],
 "metadata": {
  "kernelspec": {
   "display_name": "venv",
   "language": "python",
   "name": "python3"
  },
  "language_info": {
   "codemirror_mode": {
    "name": "ipython",
    "version": 3
   },
   "file_extension": ".py",
   "mimetype": "text/x-python",
   "name": "python",
   "nbconvert_exporter": "python",
   "pygments_lexer": "ipython3",
   "version": "3.11.11"
  }
 },
 "nbformat": 4,
 "nbformat_minor": 5
}
