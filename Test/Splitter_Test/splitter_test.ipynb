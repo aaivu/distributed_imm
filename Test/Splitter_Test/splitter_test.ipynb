{
 "cells": [
  {
   "cell_type": "code",
   "execution_count": 1,
   "id": "initial_id",
   "metadata": {
    "ExecuteTime": {
     "end_time": "2025-02-09T05:44:37.888921Z",
     "start_time": "2025-02-09T05:44:37.636676Z"
    },
    "collapsed": true
   },
   "outputs": [
    {
     "name": "stdout",
     "output_type": "stream",
     "text": [
      "{'feature': 0, 'threshold': 1.25, 'mistakes': 1}\n",
      "{'feature': 0, 'threshold': 1.25, 'mistakes': 2}\n",
      "{'feature': 0, 'threshold': 1.5, 'mistakes': 1}\n",
      "{'feature': 0, 'threshold': 2.0, 'mistakes': 0}\n",
      "{'feature': 0, 'threshold': 2.5, 'mistakes': 1}\n",
      "{'feature': 1, 'threshold': 2.5, 'mistakes': 1}\n",
      "{'feature': 1, 'threshold': 2.5, 'mistakes': 2}\n",
      "{'feature': 1, 'threshold': 3.0, 'mistakes': 1}\n",
      "{'feature': 1, 'threshold': 4.5, 'mistakes': 0}\n",
      "{'feature': 1, 'threshold': 5.0, 'mistakes': 1}\n"
     ]
    }
   ],
   "source": [
    "import numpy as np\n",
    "from d_imm.splitters import get_all_mistakes\n",
    "\n",
    "# Test data\n",
    "X = np.array([\n",
    "    [1.0, 2.0],\n",
    "    [1.5, 3.0],\n",
    "    [3.0, 6.0],\n",
    "    [2.5, 5.0],\n",
    "    [2.0, 4.5]  # This point is closer to cluster 1 center but assigned to cluster 0\n",
    "], dtype=np.float64)\n",
    "\n",
    "y = np.array([0, 0, 1, 1, 0], dtype=np.int32)  # Labels with a mistake in the last point\n",
    "\n",
    "centers = np.array([\n",
    "    [1.25, 2.5],  # Center of cluster 0\n",
    "    [2.75, 5.5]   # Center of cluster 1\n",
    "], dtype=np.float64)\n",
    "\n",
    "valid_centers = np.array([1, 1], dtype=np.int32)  # Both centers are valid\n",
    "valid_cols = np.array([1, 1], dtype=np.int32)  # Both features are valid\n",
    "\n",
    "# Call the function\n",
    "results = get_all_mistakes(X, y, centers, valid_centers, valid_cols, njobs=1)\n",
    "\n",
    "# Print results\n",
    "for result in results:\n",
    "    print(result)"
   ]
  },
  {
   "cell_type": "code",
   "execution_count": 1,
   "id": "ff31eb6569b92c",
   "metadata": {
    "ExecuteTime": {
     "end_time": "2025-02-19T07:03:33.039222Z",
     "start_time": "2025-02-19T07:03:12.624763Z"
    },
    "collapsed": false
   },
   "outputs": [
    {
     "name": "stdout",
     "output_type": "stream",
     "text": [
      "{'feature': 0, 'threshold': 1.25, 'mistakes': 2}\n",
      "{'feature': 0, 'threshold': 2.45, 'mistakes': 0}\n",
      "{'feature': 1, 'threshold': 2.5, 'mistakes': 2}\n",
      "{'feature': 1, 'threshold': 5.0, 'mistakes': 1}\n"
     ]
    }
   ],
   "source": [
    "import numpy as np\n",
    "from collections import namedtuple\n",
    "\n",
    "# Define the named tuples\n",
    "Instance = namedtuple(\"Instance\", [\"features\", \"label\", \"weight\"])\n",
    "Split = namedtuple(\"Split\", [\"feature_index\", \"threshold\", \"categories\", \"is_continuous\"])\n",
    "\n",
    "# Test data\n",
    "X = np.array([\n",
    "    [1.0, 2.0],\n",
    "    [1.5, 3.0],\n",
    "    [3.0, 6.0],\n",
    "    [2.5, 5.0],\n",
    "    [2.0, 4.5]  # This point is closer to cluster 1 center but assigned to cluster 0\n",
    "], dtype=np.float64)\n",
    "\n",
    "y = np.array([0, 0, 1, 1, 0], dtype=np.int32)  # Labels with a mistake in the last point\n",
    "\n",
    "centers = np.array([\n",
    "    [1.25, 2.5],  # Center of cluster 0\n",
    "    [2.75, 5.5]   # Center of cluster 1\n",
    "], dtype=np.float64)\n",
    "\n",
    "valid_centers = np.array([1, 1], dtype=np.int32)  # Both centers are valid\n",
    "valid_cols = np.array([1, 1], dtype=np.int32)  # Both features are valid\n",
    "\n",
    "# Define the histogram structure using Split named tuples\n",
    "histogram = [\n",
    "    [  # Feature 0 thresholds\n",
    "        Split(feature_index=0, threshold=np.float64(1.00), categories=None, is_continuous=True),  \n",
    "        Split(feature_index=0, threshold=np.float64(2.45), categories=None, is_continuous=True)   \n",
    "    ],\n",
    "    [  # Feature 1 thresholds\n",
    "        Split(feature_index=1, threshold=np.float64(2.0), categories=None, is_continuous=True),   \n",
    "        Split(feature_index=1, threshold=np.float64(5.0), categories=None, is_continuous=True)    \n",
    "    ]\n",
    "]\n",
    "\n",
    "from d_imm.splitters import get_all_mistakes_histogram\n",
    "\n",
    "# Call the function\n",
    "results = get_all_mistakes_histogram(X, y, centers, valid_centers, valid_cols, histogram, njobs=1, sorted=True)\n",
    "\n",
    "# Print results\n",
    "for result in results:\n",
    "    \n",
    "    print(result)"
   ]
  },
  {
   "cell_type": "code",
   "execution_count": null,
   "id": "9e954ca658b0ca12",
   "metadata": {
    "collapsed": false
   },
   "outputs": [],
   "source": []
  }
 ],
 "metadata": {
  "kernelspec": {
   "display_name": "venv",
   "language": "python",
   "name": "python3"
  },
  "language_info": {
   "codemirror_mode": {
    "name": "ipython",
    "version": 2
   },
   "file_extension": ".py",
   "mimetype": "text/x-python",
   "name": "python",
   "nbconvert_exporter": "python",
   "pygments_lexer": "ipython2",
   "version": "3.11.11"
  }
 },
 "nbformat": 4,
 "nbformat_minor": 5
}
