{
 "cells": [
  {
   "cell_type": "code",
   "execution_count": 1,
   "id": "initial_id",
   "metadata": {
    "collapsed": true,
    "ExecuteTime": {
     "end_time": "2025-03-09T04:15:43.029924Z",
     "start_time": "2025-03-09T04:15:30.642408Z"
    }
   },
   "outputs": [],
   "source": [
    "from pyspark.sql import SparkSession\n",
    "from pyspark.ml.clustering import KMeans\n",
    "from pyspark.ml.feature import VectorAssembler\n",
    "from pyspark.sql.functions import col\n",
    "import numpy as np\n",
    "\n",
    "from pyspark.ml.functions import vector_to_array\n",
    "\n",
    "from d_imm.imm_model import DistributedIMM"
   ]
  },
  {
   "cell_type": "code",
   "outputs": [],
   "source": [
    "spark = SparkSession.builder \\\n",
    "    .appName(\"DistributedIMM Dummy Data Test\") \\\n",
    "    .master(\"local[*]\") \\\n",
    "    .config(\"spark.executor.memory\", \"4g\") \\\n",
    "    .config(\"spark.driver.memory\", \"4g\") \\\n",
    "    .getOrCreate()"
   ],
   "metadata": {
    "collapsed": false,
    "is_executing": true,
    "ExecuteTime": {
     "start_time": "2025-03-09T04:15:43.031048Z"
    }
   },
   "id": "f1766b27129cb57c",
   "execution_count": null
  },
  {
   "cell_type": "code",
   "outputs": [],
   "source": [
    "# Dummy dataset (5 rows, 3 features)\n",
    "dummy_data = [\n",
    "    (1.0, 2.0, 3.0),\n",
    "    (2.0, 3.0, 4.0),\n",
    "    (3.0, 4.0, 5.0),\n",
    "    (8.0, 9.0, 10.0),\n",
    "    (9.0, 10.0, 11.0),\n",
    "]\n",
    "\n",
    "# Create DataFrame\n",
    "columns = [\"feature1\", \"feature2\", \"feature3\"]\n",
    "df = spark.createDataFrame(dummy_data, columns)\n",
    "\n",
    "# Assemble features into a single vector column\n",
    "assembler = VectorAssembler(inputCols=columns, outputCol=\"features\")\n",
    "feature_df = assembler.transform(df).select(\"features\")\n",
    "\n",
    "# Train a KMeans model (k=2)\n",
    "kmeans = KMeans().setK(2).setSeed(1).setFeaturesCol(\"features\")\n",
    "kmeans_model = kmeans.fit(feature_df)\n",
    "\n",
    "# Train the DistributedIMM model\n",
    "d_imm_tree = DistributedIMM(spark, k=2, verbose=2).fit(feature_df, kmeans_model)"
   ],
   "metadata": {
    "collapsed": false,
    "is_executing": true
   },
   "id": "625acd5ecde93544",
   "execution_count": null
  },
  {
   "cell_type": "code",
   "outputs": [],
   "source": [
    "# Compute Score and Surrogate Score with udf\n",
    "score_value = d_imm_tree.score(feature_df)\n",
    "surrogate_score_value = d_imm_tree.surrogate_score(feature_df)\n",
    "\n",
    "# Print results\n",
    "print(\"\\n===== Distributed IMM Score Testing with Dummy Data =====\")\n",
    "print(f\"Score (K-Means Cost): {score_value:.4f}\")\n",
    "print(f\"Surrogate Score (K-Means Surrogate Cost): {surrogate_score_value:.4f}\")\n",
    "\n",
    "# Ensure surrogate score is greater than or equal to k-means score\n",
    "assert surrogate_score_value >= score_value, \"Surrogate score should be greater than or equal to normal score.\"\n",
    "\n",
    "print(\"✅ Score and Surrogate Score tests passed successfully.\")"
   ],
   "metadata": {
    "collapsed": false,
    "is_executing": true
   },
   "id": "6d2e2af9f88b28fe",
   "execution_count": null
  },
  {
   "cell_type": "code",
   "outputs": [],
   "source": [
    "# Compute Score and Surrogate Score with spark sql\n",
    "score_value = d_imm_tree.score_sql(feature_df)\n",
    "surrogate_score_value = d_imm_tree.surrogate_score_sql(feature_df)\n",
    "\n",
    "# Print results\n",
    "print(\"\\n===== Distributed IMM Score Testing with Dummy Data =====\")\n",
    "print(f\"Score (K-Means Cost): {score_value:.4f}\")\n",
    "print(f\"Surrogate Score (K-Means Surrogate Cost): {surrogate_score_value:.4f}\")\n",
    "\n",
    "# Ensure surrogate score is greater than or equal to k-means score\n",
    "assert surrogate_score_value >= score_value, \"Surrogate score should be greater than or equal to normal score.\"\n",
    "\n",
    "print(\"✅ Score and Surrogate Score tests passed successfully.\")"
   ],
   "metadata": {
    "collapsed": false,
    "is_executing": true
   },
   "id": "88880752b497283d",
   "execution_count": null
  },
  {
   "cell_type": "code",
   "outputs": [],
   "source": [],
   "metadata": {
    "collapsed": false,
    "is_executing": true
   },
   "id": "c5021faeea37d618"
  },
  {
   "cell_type": "code",
   "outputs": [],
   "source": [],
   "metadata": {
    "collapsed": false
   },
   "id": "94e45787834bf038"
  }
 ],
 "metadata": {
  "kernelspec": {
   "display_name": "Python 3",
   "language": "python",
   "name": "python3"
  },
  "language_info": {
   "codemirror_mode": {
    "name": "ipython",
    "version": 2
   },
   "file_extension": ".py",
   "mimetype": "text/x-python",
   "name": "python",
   "nbconvert_exporter": "python",
   "pygments_lexer": "ipython2",
   "version": "2.7.6"
  }
 },
 "nbformat": 4,
 "nbformat_minor": 5
}
