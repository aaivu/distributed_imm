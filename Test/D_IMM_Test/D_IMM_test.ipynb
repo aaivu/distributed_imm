{
 "cells": [
  {
   "cell_type": "code",
   "execution_count": 1,
   "id": "initial_id",
   "metadata": {
    "collapsed": true,
    "ExecuteTime": {
     "end_time": "2025-03-08T13:17:58.081442Z",
     "start_time": "2025-03-08T13:17:55.998562Z"
    }
   },
   "outputs": [],
   "source": [
    "from pyspark.sql import SparkSession\n",
    "from pyspark.ml.clustering import KMeans\n",
    "from pyspark.ml.feature import VectorAssembler\n",
    "import pandas as pd\n",
    "\n",
    "from d_imm.imm_model import DistributedIMM"
   ]
  },
  {
   "cell_type": "code",
   "outputs": [],
   "source": [
    "import os\n",
    "\n",
    "# Set Java environment variable if needed\n",
    "os.environ[\"JAVA_HOME\"] = \"C:\\\\Program Files\\\\Java\\\\jdk1.8.0_261\"\n",
    "os.environ[\"PYSPARK_PYTHON\"] = \"C:\\\\Users\\\\saadha\\\\Desktop\\\\FYP-code\\\\GITHUB\\\\distributed-imm\\\\d-imm-python\\\\version-1\\\\venv\\\\Scripts\\\\python.exe\"\n",
    "os.environ[\"PYSPARK_DRIVER_PYTHON\"] = \"C:\\\\Users\\\\saadha\\\\Desktop\\\\FYP-code\\\\GITHUB\\\\distributed-imm\\\\d-imm-python\\\\version-1\\\\venv\\\\Scripts\\\\python.exe\""
   ],
   "metadata": {
    "collapsed": false,
    "ExecuteTime": {
     "end_time": "2025-03-08T13:17:58.088182Z",
     "start_time": "2025-03-08T13:17:58.083573Z"
    }
   },
   "id": "1059671c73eec2d5",
   "execution_count": 2
  },
  {
   "cell_type": "code",
   "outputs": [],
   "source": [
    "spark = SparkSession.builder \\\n",
    "    .appName(\"KMeansIrisExample\") \\\n",
    "    .master(\"local[*]\") \\\n",
    "    .config(\"spark.executor.memory\", \"4g\") \\\n",
    "    .config(\"spark.driver.memory\", \"4g\") \\\n",
    "    .getOrCreate()"
   ],
   "metadata": {
    "collapsed": false,
    "ExecuteTime": {
     "end_time": "2025-03-08T13:18:05.832059Z",
     "start_time": "2025-03-08T13:17:58.089259Z"
    }
   },
   "id": "1cb6d646eb22c860",
   "execution_count": 3
  },
  {
   "cell_type": "code",
   "outputs": [],
   "source": [
    "sc = spark.sparkContext"
   ],
   "metadata": {
    "collapsed": false,
    "ExecuteTime": {
     "end_time": "2025-03-08T13:18:05.837820Z",
     "start_time": "2025-03-08T13:18:05.833559Z"
    }
   },
   "id": "4f4968f2137853d7",
   "execution_count": 4
  },
  {
   "cell_type": "code",
   "outputs": [],
   "source": [
    "# Load the Iris dataset from the UCI Machine Learning Repository\n",
    "url = \"https://archive.ics.uci.edu/ml/machine-learning-databases/iris/iris.data\"\n",
    "column_names = [\"sepal_length\", \"sepal_width\", \"petal_length\", \"petal_width\", \"species\"]\n",
    "iris_df = pd.read_csv(url, header=None, names=column_names)"
   ],
   "metadata": {
    "collapsed": false,
    "ExecuteTime": {
     "end_time": "2025-03-08T13:18:06.961456Z",
     "start_time": "2025-03-08T13:18:05.842174Z"
    }
   },
   "id": "b3b9d0a575578fdd",
   "execution_count": 5
  },
  {
   "cell_type": "code",
   "outputs": [],
   "source": [
    "# Convert the pandas DataFrame to a Spark DataFrame\n",
    "df_1 = spark.createDataFrame(iris_df)\n",
    "\n",
    "# Stack the dataset 5 times row-wise\n",
    "df = df_1\n",
    "for _ in range(0):  # Repeat 4 more times to stack 5 times total\n",
    "    df = df.union(df_1)"
   ],
   "metadata": {
    "collapsed": false,
    "ExecuteTime": {
     "end_time": "2025-03-08T13:18:09.907857Z",
     "start_time": "2025-03-08T13:18:06.963716Z"
    }
   },
   "id": "35079de4f208c08d",
   "execution_count": 6
  },
  {
   "cell_type": "code",
   "outputs": [],
   "source": [
    "# Assemble features into a single vector column\n",
    "assembler = VectorAssembler(\n",
    "    inputCols=[\"sepal_length\", \"sepal_width\", \"petal_length\", \"petal_width\"],\n",
    "    outputCol=\"features\"\n",
    ")\n",
    "\n",
    "feature_df = assembler.transform(df)"
   ],
   "metadata": {
    "collapsed": false,
    "ExecuteTime": {
     "end_time": "2025-03-08T13:18:11.372905Z",
     "start_time": "2025-03-08T13:18:09.908903Z"
    }
   },
   "id": "24e16358ad51cdac",
   "execution_count": 7
  },
  {
   "cell_type": "code",
   "outputs": [],
   "source": [
    "# Set up the KMeans model (k=3 for the three species in the Iris dataset)\n",
    "kmeans = KMeans().setK(3).setSeed(1).setFeaturesCol(\"features\")\n",
    "\n",
    "# Fit the model\n",
    "model = kmeans.fit(feature_df)"
   ],
   "metadata": {
    "collapsed": false,
    "ExecuteTime": {
     "end_time": "2025-03-08T13:18:43.726303Z",
     "start_time": "2025-03-08T13:18:11.373938Z"
    }
   },
   "id": "3a96f2c1e3cdb9c6",
   "execution_count": 8
  },
  {
   "cell_type": "code",
   "outputs": [
    {
     "name": "stdout",
     "output_type": "stream",
     "text": [
      "Running 'fit' method\n",
      "Cluster centers: [array([6.85384615, 3.07692308, 5.71538462, 2.05384615]), array([5.006, 3.418, 1.464, 0.244]), array([5.88360656, 2.74098361, 4.38852459, 1.43442623])]\n",
      "Sample of clustered data:\n",
      "+-----------------+----------+\n",
      "|         features|prediction|\n",
      "+-----------------+----------+\n",
      "|[5.1,3.5,1.4,0.2]|         1|\n",
      "|[4.9,3.0,1.4,0.2]|         1|\n",
      "|[4.7,3.2,1.3,0.2]|         1|\n",
      "|[4.6,3.1,1.5,0.2]|         1|\n",
      "|[5.0,3.6,1.4,0.2]|         1|\n",
      "+-----------------+----------+\n",
      "only showing top 5 rows\n",
      "Time taken to build the histogram: 0 minutes and 30.88 seconds\n",
      "Histogram: [[Split(feature_index=0, threshold=np.float64(4.55), categories=None, is_continuous=True), Split(feature_index=0, threshold=np.float64(4.65), categories=None, is_continuous=True), Split(feature_index=0, threshold=np.float64(4.85), categories=None, is_continuous=True), Split(feature_index=0, threshold=np.float64(4.95), categories=None, is_continuous=True), Split(feature_index=0, threshold=np.float64(5.05), categories=None, is_continuous=True), Split(feature_index=0, threshold=np.float64(5.15), categories=None, is_continuous=True), Split(feature_index=0, threshold=np.float64(5.25), categories=None, is_continuous=True), Split(feature_index=0, threshold=np.float64(5.35), categories=None, is_continuous=True), Split(feature_index=0, threshold=np.float64(5.45), categories=None, is_continuous=True), Split(feature_index=0, threshold=np.float64(5.55), categories=None, is_continuous=True), Split(feature_index=0, threshold=np.float64(5.65), categories=None, is_continuous=True), Split(feature_index=0, threshold=np.float64(5.75), categories=None, is_continuous=True), Split(feature_index=0, threshold=np.float64(5.85), categories=None, is_continuous=True), Split(feature_index=0, threshold=np.float64(5.95), categories=None, is_continuous=True), Split(feature_index=0, threshold=np.float64(6.05), categories=None, is_continuous=True), Split(feature_index=0, threshold=np.float64(6.15), categories=None, is_continuous=True), Split(feature_index=0, threshold=np.float64(6.25), categories=None, is_continuous=True), Split(feature_index=0, threshold=np.float64(6.35), categories=None, is_continuous=True), Split(feature_index=0, threshold=np.float64(6.45), categories=None, is_continuous=True), Split(feature_index=0, threshold=np.float64(6.55), categories=None, is_continuous=True), Split(feature_index=0, threshold=np.float64(6.65), categories=None, is_continuous=True), Split(feature_index=0, threshold=np.float64(6.75), categories=None, is_continuous=True), Split(feature_index=0, threshold=np.float64(6.85), categories=None, is_continuous=True), Split(feature_index=0, threshold=np.float64(6.95), categories=None, is_continuous=True), Split(feature_index=0, threshold=np.float64(7.05), categories=None, is_continuous=True), Split(feature_index=0, threshold=np.float64(7.15), categories=None, is_continuous=True), Split(feature_index=0, threshold=np.float64(7.25), categories=None, is_continuous=True), Split(feature_index=0, threshold=np.float64(7.35), categories=None, is_continuous=True), Split(feature_index=0, threshold=np.float64(7.5), categories=None, is_continuous=True), Split(feature_index=0, threshold=np.float64(7.65), categories=None, is_continuous=True), Split(feature_index=0, threshold=np.float64(7.800000000000001), categories=None, is_continuous=True)], [Split(feature_index=1, threshold=np.float64(2.1), categories=None, is_continuous=True), Split(feature_index=1, threshold=np.float64(2.25), categories=None, is_continuous=True), Split(feature_index=1, threshold=np.float64(2.3499999999999996), categories=None, is_continuous=True), Split(feature_index=1, threshold=np.float64(2.45), categories=None, is_continuous=True), Split(feature_index=1, threshold=np.float64(2.55), categories=None, is_continuous=True), Split(feature_index=1, threshold=np.float64(2.6500000000000004), categories=None, is_continuous=True), Split(feature_index=1, threshold=np.float64(2.75), categories=None, is_continuous=True), Split(feature_index=1, threshold=np.float64(2.8499999999999996), categories=None, is_continuous=True), Split(feature_index=1, threshold=np.float64(2.95), categories=None, is_continuous=True), Split(feature_index=1, threshold=np.float64(3.05), categories=None, is_continuous=True), Split(feature_index=1, threshold=np.float64(3.1500000000000004), categories=None, is_continuous=True), Split(feature_index=1, threshold=np.float64(3.25), categories=None, is_continuous=True), Split(feature_index=1, threshold=np.float64(3.3499999999999996), categories=None, is_continuous=True), Split(feature_index=1, threshold=np.float64(3.45), categories=None, is_continuous=True), Split(feature_index=1, threshold=np.float64(3.55), categories=None, is_continuous=True), Split(feature_index=1, threshold=np.float64(3.6500000000000004), categories=None, is_continuous=True), Split(feature_index=1, threshold=np.float64(3.75), categories=None, is_continuous=True), Split(feature_index=1, threshold=np.float64(3.8499999999999996), categories=None, is_continuous=True), Split(feature_index=1, threshold=np.float64(3.95), categories=None, is_continuous=True), Split(feature_index=1, threshold=np.float64(4.05), categories=None, is_continuous=True), Split(feature_index=1, threshold=np.float64(4.15), categories=None, is_continuous=True), Split(feature_index=1, threshold=np.float64(4.300000000000001), categories=None, is_continuous=True)], [Split(feature_index=2, threshold=np.float64(1.25), categories=None, is_continuous=True), Split(feature_index=2, threshold=np.float64(1.35), categories=None, is_continuous=True), Split(feature_index=2, threshold=np.float64(1.45), categories=None, is_continuous=True), Split(feature_index=2, threshold=np.float64(1.55), categories=None, is_continuous=True), Split(feature_index=2, threshold=np.float64(1.65), categories=None, is_continuous=True), Split(feature_index=2, threshold=np.float64(1.7999999999999998), categories=None, is_continuous=True), Split(feature_index=2, threshold=np.float64(2.45), categories=None, is_continuous=True), Split(feature_index=2, threshold=np.float64(3.15), categories=None, is_continuous=True), Split(feature_index=2, threshold=np.float64(3.4), categories=None, is_continuous=True), Split(feature_index=2, threshold=np.float64(3.55), categories=None, is_continuous=True), Split(feature_index=2, threshold=np.float64(3.6500000000000004), categories=None, is_continuous=True), Split(feature_index=2, threshold=np.float64(3.75), categories=None, is_continuous=True), Split(feature_index=2, threshold=np.float64(3.8499999999999996), categories=None, is_continuous=True), Split(feature_index=2, threshold=np.float64(4.05), categories=None, is_continuous=True), Split(feature_index=2, threshold=np.float64(4.15), categories=None, is_continuous=True), Split(feature_index=2, threshold=np.float64(4.25), categories=None, is_continuous=True), Split(feature_index=2, threshold=np.float64(4.45), categories=None, is_continuous=True), Split(feature_index=2, threshold=np.float64(4.55), categories=None, is_continuous=True), Split(feature_index=2, threshold=np.float64(4.65), categories=None, is_continuous=True), Split(feature_index=2, threshold=np.float64(4.75), categories=None, is_continuous=True), Split(feature_index=2, threshold=np.float64(4.85), categories=None, is_continuous=True), Split(feature_index=2, threshold=np.float64(4.95), categories=None, is_continuous=True), Split(feature_index=2, threshold=np.float64(5.05), categories=None, is_continuous=True), Split(feature_index=2, threshold=np.float64(5.15), categories=None, is_continuous=True), Split(feature_index=2, threshold=np.float64(5.25), categories=None, is_continuous=True), Split(feature_index=2, threshold=np.float64(5.35), categories=None, is_continuous=True), Split(feature_index=2, threshold=np.float64(5.45), categories=None, is_continuous=True), Split(feature_index=2, threshold=np.float64(5.55), categories=None, is_continuous=True), Split(feature_index=2, threshold=np.float64(5.65), categories=None, is_continuous=True), Split(feature_index=2, threshold=np.float64(5.85), categories=None, is_continuous=True), Split(feature_index=2, threshold=np.float64(6.05), categories=None, is_continuous=True), Split(feature_index=2, threshold=np.float64(6.35), categories=None, is_continuous=True)], [Split(feature_index=3, threshold=np.float64(0.15000000000000002), categories=None, is_continuous=True), Split(feature_index=3, threshold=np.float64(0.25), categories=None, is_continuous=True), Split(feature_index=3, threshold=np.float64(0.35), categories=None, is_continuous=True), Split(feature_index=3, threshold=np.float64(0.45), categories=None, is_continuous=True), Split(feature_index=3, threshold=np.float64(0.55), categories=None, is_continuous=True), Split(feature_index=3, threshold=np.float64(0.8), categories=None, is_continuous=True), Split(feature_index=3, threshold=np.float64(1.05), categories=None, is_continuous=True), Split(feature_index=3, threshold=np.float64(1.15), categories=None, is_continuous=True), Split(feature_index=3, threshold=np.float64(1.25), categories=None, is_continuous=True), Split(feature_index=3, threshold=np.float64(1.35), categories=None, is_continuous=True), Split(feature_index=3, threshold=np.float64(1.45), categories=None, is_continuous=True), Split(feature_index=3, threshold=np.float64(1.55), categories=None, is_continuous=True), Split(feature_index=3, threshold=np.float64(1.65), categories=None, is_continuous=True), Split(feature_index=3, threshold=np.float64(1.75), categories=None, is_continuous=True), Split(feature_index=3, threshold=np.float64(1.85), categories=None, is_continuous=True), Split(feature_index=3, threshold=np.float64(1.95), categories=None, is_continuous=True), Split(feature_index=3, threshold=np.float64(2.05), categories=None, is_continuous=True), Split(feature_index=3, threshold=np.float64(2.1500000000000004), categories=None, is_continuous=True), Split(feature_index=3, threshold=np.float64(2.25), categories=None, is_continuous=True), Split(feature_index=3, threshold=np.float64(2.3499999999999996), categories=None, is_continuous=True), Split(feature_index=3, threshold=np.float64(2.45), categories=None, is_continuous=True)]]\n",
      "Building node at depth 0 with 150 samples\n",
      "Finding the best split using histogram thresholds in a distributed manner\n",
      "Time taken to collect results from worker nodes: 0 minutes and 15.98 seconds\n",
      "Flattened results: [{'feature': 0, 'threshold': 5.006, 'mistakes': 7}, {'feature': 0, 'threshold': 5.05, 'mistakes': 7}, {'feature': 0, 'threshold': 5.15, 'mistakes': 5}, {'feature': 0, 'threshold': 5.25, 'mistakes': 5}, {'feature': 0, 'threshold': 5.35, 'mistakes': 5}, {'feature': 0, 'threshold': 5.45, 'mistakes': 2}, {'feature': 0, 'threshold': 5.55, 'mistakes': 2}, {'feature': 0, 'threshold': 5.65, 'mistakes': 2}, {'feature': 0, 'threshold': 5.75, 'mistakes': 1}, {'feature': 0, 'threshold': 5.85, 'mistakes': 0}, {'feature': 0, 'threshold': 5.883606557377049, 'mistakes': 0}, {'feature': 0, 'threshold': 5.95, 'mistakes': 0}, {'feature': 0, 'threshold': 6.05, 'mistakes': 0}, {'feature': 0, 'threshold': 6.15, 'mistakes': 0}, {'feature': 0, 'threshold': 6.25, 'mistakes': 0}, {'feature': 0, 'threshold': 6.35, 'mistakes': 0}, {'feature': 0, 'threshold': 6.45, 'mistakes': 0}, {'feature': 0, 'threshold': 6.55, 'mistakes': 0}, {'feature': 0, 'threshold': 6.65, 'mistakes': 0}, {'feature': 0, 'threshold': 6.75, 'mistakes': 0}, {'feature': 0, 'threshold': 6.85, 'mistakes': 0}, {'feature': 1, 'threshold': 2.740983606557377, 'mistakes': 0}, {'feature': 1, 'threshold': 2.75, 'mistakes': 0}, {'feature': 1, 'threshold': 2.8499999999999996, 'mistakes': 0}, {'feature': 1, 'threshold': 2.95, 'mistakes': 1}, {'feature': 1, 'threshold': 3.05, 'mistakes': 4}, {'feature': 1, 'threshold': 3.0769230769230766, 'mistakes': 4}, {'feature': 1, 'threshold': 3.1500000000000004, 'mistakes': 6}, {'feature': 1, 'threshold': 3.25, 'mistakes': 7}, {'feature': 1, 'threshold': 3.3499999999999996, 'mistakes': 7}, {'feature': 2, 'threshold': 1.4639999999999997, 'mistakes': 7}, {'feature': 2, 'threshold': 1.55, 'mistakes': 2}, {'feature': 2, 'threshold': 1.65, 'mistakes': 1}, {'feature': 2, 'threshold': 1.7999999999999998, 'mistakes': 0}, {'feature': 2, 'threshold': 2.45, 'mistakes': 0}, {'feature': 2, 'threshold': 3.15, 'mistakes': 0}, {'feature': 2, 'threshold': 3.4, 'mistakes': 0}, {'feature': 2, 'threshold': 3.55, 'mistakes': 0}, {'feature': 2, 'threshold': 3.6500000000000004, 'mistakes': 0}, {'feature': 2, 'threshold': 3.75, 'mistakes': 0}, {'feature': 2, 'threshold': 3.8499999999999996, 'mistakes': 0}, {'feature': 2, 'threshold': 4.05, 'mistakes': 0}, {'feature': 2, 'threshold': 4.15, 'mistakes': 0}, {'feature': 2, 'threshold': 4.25, 'mistakes': 0}, {'feature': 2, 'threshold': 4.388524590163936, 'mistakes': 0}, {'feature': 2, 'threshold': 4.45, 'mistakes': 0}, {'feature': 2, 'threshold': 4.55, 'mistakes': 0}, {'feature': 2, 'threshold': 4.65, 'mistakes': 0}, {'feature': 2, 'threshold': 4.75, 'mistakes': 0}, {'feature': 2, 'threshold': 4.85, 'mistakes': 0}, {'feature': 2, 'threshold': 4.95, 'mistakes': 0}, {'feature': 2, 'threshold': 5.05, 'mistakes': 0}, {'feature': 2, 'threshold': 5.15, 'mistakes': 0}, {'feature': 2, 'threshold': 5.25, 'mistakes': 0}, {'feature': 2, 'threshold': 5.35, 'mistakes': 0}, {'feature': 2, 'threshold': 5.45, 'mistakes': 0}, {'feature': 2, 'threshold': 5.55, 'mistakes': 0}, {'feature': 2, 'threshold': 5.65, 'mistakes': 0}, {'feature': 3, 'threshold': 0.24400000000000005, 'mistakes': 5}, {'feature': 3, 'threshold': 0.25, 'mistakes': 5}, {'feature': 3, 'threshold': 0.35, 'mistakes': 3}, {'feature': 3, 'threshold': 0.45, 'mistakes': 0}, {'feature': 3, 'threshold': 0.55, 'mistakes': 0}, {'feature': 3, 'threshold': 0.8, 'mistakes': 0}, {'feature': 3, 'threshold': 1.05, 'mistakes': 0}, {'feature': 3, 'threshold': 1.15, 'mistakes': 0}, {'feature': 3, 'threshold': 1.25, 'mistakes': 0}, {'feature': 3, 'threshold': 1.35, 'mistakes': 0}, {'feature': 3, 'threshold': 1.434426229508197, 'mistakes': 0}, {'feature': 3, 'threshold': 1.45, 'mistakes': 0}, {'feature': 3, 'threshold': 1.55, 'mistakes': 0}, {'feature': 3, 'threshold': 1.65, 'mistakes': 0}, {'feature': 3, 'threshold': 1.75, 'mistakes': 0}, {'feature': 3, 'threshold': 1.85, 'mistakes': 0}, {'feature': 3, 'threshold': 1.95, 'mistakes': 0}, {'feature': 3, 'threshold': 2.05, 'mistakes': 0}, {'feature': 0, 'threshold': 5.006, 'mistakes': 10}, {'feature': 0, 'threshold': 5.05, 'mistakes': 10}, {'feature': 0, 'threshold': 5.15, 'mistakes': 7}, {'feature': 0, 'threshold': 5.25, 'mistakes': 4}, {'feature': 0, 'threshold': 5.35, 'mistakes': 4}, {'feature': 0, 'threshold': 5.45, 'mistakes': 2}, {'feature': 0, 'threshold': 5.55, 'mistakes': 1}, {'feature': 0, 'threshold': 5.65, 'mistakes': 1}, {'feature': 0, 'threshold': 5.75, 'mistakes': 0}, {'feature': 0, 'threshold': 5.85, 'mistakes': 0}, {'feature': 0, 'threshold': 5.883606557377049, 'mistakes': 0}, {'feature': 0, 'threshold': 5.95, 'mistakes': 0}, {'feature': 0, 'threshold': 6.05, 'mistakes': 0}, {'feature': 0, 'threshold': 6.15, 'mistakes': 0}, {'feature': 0, 'threshold': 6.25, 'mistakes': 0}, {'feature': 0, 'threshold': 6.35, 'mistakes': 0}, {'feature': 0, 'threshold': 6.45, 'mistakes': 0}, {'feature': 0, 'threshold': 6.55, 'mistakes': 0}, {'feature': 0, 'threshold': 6.65, 'mistakes': 0}, {'feature': 0, 'threshold': 6.75, 'mistakes': 0}, {'feature': 0, 'threshold': 6.85, 'mistakes': 0}, {'feature': 1, 'threshold': 2.740983606557377, 'mistakes': 0}, {'feature': 1, 'threshold': 2.75, 'mistakes': 0}, {'feature': 1, 'threshold': 2.8499999999999996, 'mistakes': 0}, {'feature': 1, 'threshold': 2.95, 'mistakes': 0}, {'feature': 1, 'threshold': 3.05, 'mistakes': 1}, {'feature': 1, 'threshold': 3.0769230769230766, 'mistakes': 1}, {'feature': 1, 'threshold': 3.1500000000000004, 'mistakes': 3}, {'feature': 1, 'threshold': 3.25, 'mistakes': 5}, {'feature': 1, 'threshold': 3.3499999999999996, 'mistakes': 6}, {'feature': 2, 'threshold': 1.4639999999999997, 'mistakes': 14}, {'feature': 2, 'threshold': 1.55, 'mistakes': 8}, {'feature': 2, 'threshold': 1.65, 'mistakes': 4}, {'feature': 2, 'threshold': 1.7999999999999998, 'mistakes': 1}, {'feature': 2, 'threshold': 2.45, 'mistakes': 0}, {'feature': 2, 'threshold': 3.15, 'mistakes': 0}, {'feature': 2, 'threshold': 3.4, 'mistakes': 0}, {'feature': 2, 'threshold': 3.55, 'mistakes': 0}, {'feature': 2, 'threshold': 3.6500000000000004, 'mistakes': 0}, {'feature': 2, 'threshold': 3.75, 'mistakes': 0}, {'feature': 2, 'threshold': 3.8499999999999996, 'mistakes': 0}, {'feature': 2, 'threshold': 4.05, 'mistakes': 0}, {'feature': 2, 'threshold': 4.15, 'mistakes': 0}, {'feature': 2, 'threshold': 4.25, 'mistakes': 0}, {'feature': 2, 'threshold': 4.388524590163936, 'mistakes': 0}, {'feature': 2, 'threshold': 4.45, 'mistakes': 0}, {'feature': 2, 'threshold': 4.55, 'mistakes': 0}, {'feature': 2, 'threshold': 4.65, 'mistakes': 0}, {'feature': 2, 'threshold': 4.75, 'mistakes': 0}, {'feature': 2, 'threshold': 4.85, 'mistakes': 0}, {'feature': 2, 'threshold': 4.95, 'mistakes': 0}, {'feature': 2, 'threshold': 5.05, 'mistakes': 0}, {'feature': 2, 'threshold': 5.15, 'mistakes': 0}, {'feature': 2, 'threshold': 5.25, 'mistakes': 0}, {'feature': 2, 'threshold': 5.35, 'mistakes': 0}, {'feature': 2, 'threshold': 5.45, 'mistakes': 0}, {'feature': 2, 'threshold': 5.55, 'mistakes': 0}, {'feature': 2, 'threshold': 5.65, 'mistakes': 0}, {'feature': 3, 'threshold': 0.24400000000000005, 'mistakes': 6}, {'feature': 3, 'threshold': 0.25, 'mistakes': 6}, {'feature': 3, 'threshold': 0.35, 'mistakes': 4}, {'feature': 3, 'threshold': 0.45, 'mistakes': 1}, {'feature': 3, 'threshold': 0.55, 'mistakes': 0}, {'feature': 3, 'threshold': 0.8, 'mistakes': 0}, {'feature': 3, 'threshold': 1.05, 'mistakes': 0}, {'feature': 3, 'threshold': 1.15, 'mistakes': 0}, {'feature': 3, 'threshold': 1.25, 'mistakes': 0}, {'feature': 3, 'threshold': 1.35, 'mistakes': 0}, {'feature': 3, 'threshold': 1.434426229508197, 'mistakes': 0}, {'feature': 3, 'threshold': 1.45, 'mistakes': 0}, {'feature': 3, 'threshold': 1.55, 'mistakes': 0}, {'feature': 3, 'threshold': 1.65, 'mistakes': 0}, {'feature': 3, 'threshold': 1.75, 'mistakes': 0}, {'feature': 3, 'threshold': 1.85, 'mistakes': 0}, {'feature': 3, 'threshold': 1.95, 'mistakes': 0}, {'feature': 3, 'threshold': 2.05, 'mistakes': 0}, {'feature': 0, 'threshold': 5.006, 'mistakes': 5}, {'feature': 0, 'threshold': 5.05, 'mistakes': 5}, {'feature': 0, 'threshold': 5.15, 'mistakes': 2}, {'feature': 0, 'threshold': 5.25, 'mistakes': 2}, {'feature': 0, 'threshold': 5.35, 'mistakes': 1}, {'feature': 0, 'threshold': 5.45, 'mistakes': 1}, {'feature': 0, 'threshold': 5.55, 'mistakes': 1}, {'feature': 0, 'threshold': 5.65, 'mistakes': 1}, {'feature': 0, 'threshold': 5.75, 'mistakes': 1}, {'feature': 0, 'threshold': 5.85, 'mistakes': 1}, {'feature': 0, 'threshold': 5.883606557377049, 'mistakes': 1}, {'feature': 0, 'threshold': 5.95, 'mistakes': 1}, {'feature': 0, 'threshold': 6.05, 'mistakes': 1}, {'feature': 0, 'threshold': 6.15, 'mistakes': 1}, {'feature': 0, 'threshold': 6.25, 'mistakes': 1}, {'feature': 0, 'threshold': 6.35, 'mistakes': 1}, {'feature': 0, 'threshold': 6.45, 'mistakes': 0}, {'feature': 0, 'threshold': 6.55, 'mistakes': 0}, {'feature': 0, 'threshold': 6.65, 'mistakes': 0}, {'feature': 0, 'threshold': 6.75, 'mistakes': 0}, {'feature': 0, 'threshold': 6.85, 'mistakes': 0}, {'feature': 1, 'threshold': 2.740983606557377, 'mistakes': 2}, {'feature': 1, 'threshold': 2.75, 'mistakes': 2}, {'feature': 1, 'threshold': 2.8499999999999996, 'mistakes': 2}, {'feature': 1, 'threshold': 2.95, 'mistakes': 2}, {'feature': 1, 'threshold': 3.05, 'mistakes': 4}, {'feature': 1, 'threshold': 3.0769230769230766, 'mistakes': 6}, {'feature': 1, 'threshold': 3.1500000000000004, 'mistakes': 6}, {'feature': 1, 'threshold': 3.25, 'mistakes': 6}, {'feature': 1, 'threshold': 3.3499999999999996, 'mistakes': 7}, {'feature': 2, 'threshold': 1.4639999999999997, 'mistakes': 6}, {'feature': 2, 'threshold': 1.55, 'mistakes': 3}, {'feature': 2, 'threshold': 1.65, 'mistakes': 1}, {'feature': 2, 'threshold': 1.7999999999999998, 'mistakes': 1}, {'feature': 2, 'threshold': 2.45, 'mistakes': 0}, {'feature': 2, 'threshold': 3.15, 'mistakes': 0}, {'feature': 2, 'threshold': 3.4, 'mistakes': 0}, {'feature': 2, 'threshold': 3.55, 'mistakes': 0}, {'feature': 2, 'threshold': 3.6500000000000004, 'mistakes': 0}, {'feature': 2, 'threshold': 3.75, 'mistakes': 0}, {'feature': 2, 'threshold': 3.8499999999999996, 'mistakes': 0}, {'feature': 2, 'threshold': 4.05, 'mistakes': 1}, {'feature': 2, 'threshold': 4.15, 'mistakes': 1}, {'feature': 2, 'threshold': 4.25, 'mistakes': 1}, {'feature': 2, 'threshold': 4.388524590163936, 'mistakes': 1}, {'feature': 2, 'threshold': 4.45, 'mistakes': 1}, {'feature': 2, 'threshold': 4.55, 'mistakes': 0}, {'feature': 2, 'threshold': 4.65, 'mistakes': 0}, {'feature': 2, 'threshold': 4.75, 'mistakes': 1}, {'feature': 2, 'threshold': 4.85, 'mistakes': 1}, {'feature': 2, 'threshold': 4.95, 'mistakes': 2}, {'feature': 2, 'threshold': 5.05, 'mistakes': 2}, {'feature': 2, 'threshold': 5.15, 'mistakes': 2}, {'feature': 2, 'threshold': 5.25, 'mistakes': 2}, {'feature': 2, 'threshold': 5.35, 'mistakes': 2}, {'feature': 2, 'threshold': 5.45, 'mistakes': 2}, {'feature': 2, 'threshold': 5.55, 'mistakes': 2}, {'feature': 2, 'threshold': 5.65, 'mistakes': 2}, {'feature': 3, 'threshold': 0.24400000000000005, 'mistakes': 5}, {'feature': 3, 'threshold': 0.25, 'mistakes': 5}, {'feature': 3, 'threshold': 0.35, 'mistakes': 2}, {'feature': 3, 'threshold': 0.45, 'mistakes': 1}, {'feature': 3, 'threshold': 0.55, 'mistakes': 1}, {'feature': 3, 'threshold': 0.8, 'mistakes': 0}, {'feature': 3, 'threshold': 1.05, 'mistakes': 0}, {'feature': 3, 'threshold': 1.15, 'mistakes': 0}, {'feature': 3, 'threshold': 1.25, 'mistakes': 0}, {'feature': 3, 'threshold': 1.35, 'mistakes': 1}, {'feature': 3, 'threshold': 1.434426229508197, 'mistakes': 2}, {'feature': 3, 'threshold': 1.45, 'mistakes': 2}, {'feature': 3, 'threshold': 1.55, 'mistakes': 2}, {'feature': 3, 'threshold': 1.65, 'mistakes': 2}, {'feature': 3, 'threshold': 1.75, 'mistakes': 2}, {'feature': 3, 'threshold': 1.85, 'mistakes': 2}, {'feature': 3, 'threshold': 1.95, 'mistakes': 2}, {'feature': 3, 'threshold': 2.05, 'mistakes': 2}, {'feature': 0, 'threshold': 5.006, 'mistakes': 2}, {'feature': 0, 'threshold': 5.05, 'mistakes': 2}, {'feature': 0, 'threshold': 5.15, 'mistakes': 2}, {'feature': 0, 'threshold': 5.25, 'mistakes': 3}, {'feature': 0, 'threshold': 5.35, 'mistakes': 3}, {'feature': 0, 'threshold': 5.45, 'mistakes': 3}, {'feature': 0, 'threshold': 5.55, 'mistakes': 3}, {'feature': 0, 'threshold': 5.65, 'mistakes': 6}, {'feature': 0, 'threshold': 5.75, 'mistakes': 7}, {'feature': 0, 'threshold': 5.85, 'mistakes': 8}, {'feature': 0, 'threshold': 5.883606557377049, 'mistakes': 10}, {'feature': 0, 'threshold': 5.95, 'mistakes': 8}, {'feature': 0, 'threshold': 6.05, 'mistakes': 7}, {'feature': 0, 'threshold': 6.15, 'mistakes': 5}, {'feature': 0, 'threshold': 6.25, 'mistakes': 4}, {'feature': 0, 'threshold': 6.35, 'mistakes': 3}, {'feature': 0, 'threshold': 6.45, 'mistakes': 3}, {'feature': 0, 'threshold': 6.55, 'mistakes': 2}, {'feature': 0, 'threshold': 6.65, 'mistakes': 1}, {'feature': 0, 'threshold': 6.75, 'mistakes': 0}, {'feature': 0, 'threshold': 6.85, 'mistakes': 0}, {'feature': 1, 'threshold': 2.740983606557377, 'mistakes': 11}, {'feature': 1, 'threshold': 2.75, 'mistakes': 11}, {'feature': 1, 'threshold': 2.8499999999999996, 'mistakes': 8}, {'feature': 1, 'threshold': 2.95, 'mistakes': 5}, {'feature': 1, 'threshold': 3.05, 'mistakes': 3}, {'feature': 1, 'threshold': 3.0769230769230766, 'mistakes': 3}, {'feature': 1, 'threshold': 3.1500000000000004, 'mistakes': 2}, {'feature': 1, 'threshold': 3.25, 'mistakes': 1}, {'feature': 1, 'threshold': 3.3499999999999996, 'mistakes': 0}, {'feature': 2, 'threshold': 1.4639999999999997, 'mistakes': 0}, {'feature': 2, 'threshold': 1.55, 'mistakes': 0}, {'feature': 2, 'threshold': 1.65, 'mistakes': 0}, {'feature': 2, 'threshold': 1.7999999999999998, 'mistakes': 0}, {'feature': 2, 'threshold': 2.45, 'mistakes': 0}, {'feature': 2, 'threshold': 3.15, 'mistakes': 0}, {'feature': 2, 'threshold': 3.4, 'mistakes': 1}, {'feature': 2, 'threshold': 3.55, 'mistakes': 2}, {'feature': 2, 'threshold': 3.6500000000000004, 'mistakes': 3}, {'feature': 2, 'threshold': 3.75, 'mistakes': 3}, {'feature': 2, 'threshold': 3.8499999999999996, 'mistakes': 3}, {'feature': 2, 'threshold': 4.05, 'mistakes': 7}, {'feature': 2, 'threshold': 4.15, 'mistakes': 8}, {'feature': 2, 'threshold': 4.25, 'mistakes': 9}, {'feature': 2, 'threshold': 4.388524590163936, 'mistakes': 9}, {'feature': 2, 'threshold': 4.45, 'mistakes': 8}, {'feature': 2, 'threshold': 4.55, 'mistakes': 5}, {'feature': 2, 'threshold': 4.65, 'mistakes': 3}, {'feature': 2, 'threshold': 4.75, 'mistakes': 1}, {'feature': 2, 'threshold': 4.85, 'mistakes': 0}, {'feature': 2, 'threshold': 4.95, 'mistakes': 0}, {'feature': 2, 'threshold': 5.05, 'mistakes': 0}, {'feature': 2, 'threshold': 5.15, 'mistakes': 0}, {'feature': 2, 'threshold': 5.25, 'mistakes': 0}, {'feature': 2, 'threshold': 5.35, 'mistakes': 0}, {'feature': 2, 'threshold': 5.45, 'mistakes': 0}, {'feature': 2, 'threshold': 5.55, 'mistakes': 0}, {'feature': 2, 'threshold': 5.65, 'mistakes': 0}, {'feature': 3, 'threshold': 0.24400000000000005, 'mistakes': 0}, {'feature': 3, 'threshold': 0.25, 'mistakes': 0}, {'feature': 3, 'threshold': 0.35, 'mistakes': 0}, {'feature': 3, 'threshold': 0.45, 'mistakes': 0}, {'feature': 3, 'threshold': 0.55, 'mistakes': 0}, {'feature': 3, 'threshold': 0.8, 'mistakes': 0}, {'feature': 3, 'threshold': 1.05, 'mistakes': 4}, {'feature': 3, 'threshold': 1.15, 'mistakes': 5}, {'feature': 3, 'threshold': 1.25, 'mistakes': 5}, {'feature': 3, 'threshold': 1.35, 'mistakes': 9}, {'feature': 3, 'threshold': 1.434426229508197, 'mistakes': 6}, {'feature': 3, 'threshold': 1.45, 'mistakes': 6}, {'feature': 3, 'threshold': 1.55, 'mistakes': 2}, {'feature': 3, 'threshold': 1.65, 'mistakes': 1}, {'feature': 3, 'threshold': 1.75, 'mistakes': 1}, {'feature': 3, 'threshold': 1.85, 'mistakes': 0}, {'feature': 3, 'threshold': 1.95, 'mistakes': 0}, {'feature': 3, 'threshold': 2.05, 'mistakes': 0}, {'feature': 0, 'threshold': 5.006, 'mistakes': 0}, {'feature': 0, 'threshold': 5.05, 'mistakes': 0}, {'feature': 0, 'threshold': 5.15, 'mistakes': 0}, {'feature': 0, 'threshold': 5.25, 'mistakes': 0}, {'feature': 0, 'threshold': 5.35, 'mistakes': 0}, {'feature': 0, 'threshold': 5.45, 'mistakes': 1}, {'feature': 0, 'threshold': 5.55, 'mistakes': 4}, {'feature': 0, 'threshold': 5.65, 'mistakes': 5}, {'feature': 0, 'threshold': 5.75, 'mistakes': 6}, {'feature': 0, 'threshold': 5.85, 'mistakes': 7}, {'feature': 0, 'threshold': 5.883606557377049, 'mistakes': 10}, {'feature': 0, 'threshold': 5.95, 'mistakes': 10}, {'feature': 0, 'threshold': 6.05, 'mistakes': 7}, {'feature': 0, 'threshold': 6.15, 'mistakes': 6}, {'feature': 0, 'threshold': 6.25, 'mistakes': 6}, {'feature': 0, 'threshold': 6.35, 'mistakes': 4}, {'feature': 0, 'threshold': 6.45, 'mistakes': 3}, {'feature': 0, 'threshold': 6.55, 'mistakes': 3}, {'feature': 0, 'threshold': 6.65, 'mistakes': 2}, {'feature': 0, 'threshold': 6.75, 'mistakes': 2}, {'feature': 0, 'threshold': 6.85, 'mistakes': 1}, {'feature': 1, 'threshold': 2.740983606557377, 'mistakes': 9}, {'feature': 1, 'threshold': 2.75, 'mistakes': 9}, {'feature': 1, 'threshold': 2.8499999999999996, 'mistakes': 7}, {'feature': 1, 'threshold': 2.95, 'mistakes': 5}, {'feature': 1, 'threshold': 3.05, 'mistakes': 3}, {'feature': 1, 'threshold': 3.0769230769230766, 'mistakes': 2}, {'feature': 1, 'threshold': 3.1500000000000004, 'mistakes': 1}, {'feature': 1, 'threshold': 3.25, 'mistakes': 1}, {'feature': 1, 'threshold': 3.3499999999999996, 'mistakes': 1}, {'feature': 2, 'threshold': 1.4639999999999997, 'mistakes': 0}, {'feature': 2, 'threshold': 1.55, 'mistakes': 0}, {'feature': 2, 'threshold': 1.65, 'mistakes': 0}, {'feature': 2, 'threshold': 1.7999999999999998, 'mistakes': 0}, {'feature': 2, 'threshold': 2.45, 'mistakes': 0}, {'feature': 2, 'threshold': 3.15, 'mistakes': 0}, {'feature': 2, 'threshold': 3.4, 'mistakes': 0}, {'feature': 2, 'threshold': 3.55, 'mistakes': 1}, {'feature': 2, 'threshold': 3.6500000000000004, 'mistakes': 1}, {'feature': 2, 'threshold': 3.75, 'mistakes': 2}, {'feature': 2, 'threshold': 3.8499999999999996, 'mistakes': 3}, {'feature': 2, 'threshold': 4.05, 'mistakes': 5}, {'feature': 2, 'threshold': 4.15, 'mistakes': 6}, {'feature': 2, 'threshold': 4.25, 'mistakes': 6}, {'feature': 2, 'threshold': 4.388524590163936, 'mistakes': 10}, {'feature': 2, 'threshold': 4.45, 'mistakes': 8}, {'feature': 2, 'threshold': 4.55, 'mistakes': 5}, {'feature': 2, 'threshold': 4.65, 'mistakes': 5}, {'feature': 2, 'threshold': 4.75, 'mistakes': 3}, {'feature': 2, 'threshold': 4.85, 'mistakes': 2}, {'feature': 2, 'threshold': 4.95, 'mistakes': 1}, {'feature': 2, 'threshold': 5.05, 'mistakes': 2}, {'feature': 2, 'threshold': 5.15, 'mistakes': 1}, {'feature': 2, 'threshold': 5.25, 'mistakes': 1}, {'feature': 2, 'threshold': 5.35, 'mistakes': 1}, {'feature': 2, 'threshold': 5.45, 'mistakes': 1}, {'feature': 2, 'threshold': 5.55, 'mistakes': 1}, {'feature': 2, 'threshold': 5.65, 'mistakes': 1}, {'feature': 3, 'threshold': 0.24400000000000005, 'mistakes': 0}, {'feature': 3, 'threshold': 0.25, 'mistakes': 0}, {'feature': 3, 'threshold': 0.35, 'mistakes': 0}, {'feature': 3, 'threshold': 0.45, 'mistakes': 0}, {'feature': 3, 'threshold': 0.55, 'mistakes': 0}, {'feature': 3, 'threshold': 0.8, 'mistakes': 0}, {'feature': 3, 'threshold': 1.05, 'mistakes': 2}, {'feature': 3, 'threshold': 1.15, 'mistakes': 3}, {'feature': 3, 'threshold': 1.25, 'mistakes': 5}, {'feature': 3, 'threshold': 1.35, 'mistakes': 9}, {'feature': 3, 'threshold': 1.434426229508197, 'mistakes': 6}, {'feature': 3, 'threshold': 1.45, 'mistakes': 6}, {'feature': 3, 'threshold': 1.55, 'mistakes': 2}, {'feature': 3, 'threshold': 1.65, 'mistakes': 0}, {'feature': 3, 'threshold': 1.75, 'mistakes': 1}, {'feature': 3, 'threshold': 1.85, 'mistakes': 1}, {'feature': 3, 'threshold': 1.95, 'mistakes': 1}, {'feature': 3, 'threshold': 2.05, 'mistakes': 1}, {'feature': 0, 'threshold': 5.006, 'mistakes': 2}, {'feature': 0, 'threshold': 5.05, 'mistakes': 2}, {'feature': 0, 'threshold': 5.15, 'mistakes': 3}, {'feature': 0, 'threshold': 5.25, 'mistakes': 3}, {'feature': 0, 'threshold': 5.35, 'mistakes': 3}, {'feature': 0, 'threshold': 5.45, 'mistakes': 3}, {'feature': 0, 'threshold': 5.55, 'mistakes': 4}, {'feature': 0, 'threshold': 5.65, 'mistakes': 5}, {'feature': 0, 'threshold': 5.75, 'mistakes': 8}, {'feature': 0, 'threshold': 5.85, 'mistakes': 10}, {'feature': 0, 'threshold': 5.883606557377049, 'mistakes': 2}, {'feature': 0, 'threshold': 5.95, 'mistakes': 2}, {'feature': 0, 'threshold': 6.05, 'mistakes': 2}, {'feature': 0, 'threshold': 6.15, 'mistakes': 1}, {'feature': 0, 'threshold': 6.25, 'mistakes': 0}, {'feature': 0, 'threshold': 6.35, 'mistakes': 2}, {'feature': 0, 'threshold': 6.45, 'mistakes': 2}, {'feature': 0, 'threshold': 6.55, 'mistakes': 3}, {'feature': 0, 'threshold': 6.65, 'mistakes': 3}, {'feature': 0, 'threshold': 6.75, 'mistakes': 3}, {'feature': 0, 'threshold': 6.85, 'mistakes': 3}, {'feature': 1, 'threshold': 2.740983606557377, 'mistakes': 5}, {'feature': 1, 'threshold': 2.75, 'mistakes': 5}, {'feature': 1, 'threshold': 2.8499999999999996, 'mistakes': 4}, {'feature': 1, 'threshold': 2.95, 'mistakes': 4}, {'feature': 1, 'threshold': 3.05, 'mistakes': 5}, {'feature': 1, 'threshold': 3.0769230769230766, 'mistakes': 1}, {'feature': 1, 'threshold': 3.1500000000000004, 'mistakes': 1}, {'feature': 1, 'threshold': 3.25, 'mistakes': 1}, {'feature': 1, 'threshold': 3.3499999999999996, 'mistakes': 0}, {'feature': 2, 'threshold': 1.4639999999999997, 'mistakes': 0}, {'feature': 2, 'threshold': 1.55, 'mistakes': 0}, {'feature': 2, 'threshold': 1.65, 'mistakes': 0}, {'feature': 2, 'threshold': 1.7999999999999998, 'mistakes': 0}, {'feature': 2, 'threshold': 2.45, 'mistakes': 0}, {'feature': 2, 'threshold': 3.15, 'mistakes': 1}, {'feature': 2, 'threshold': 3.4, 'mistakes': 2}, {'feature': 2, 'threshold': 3.55, 'mistakes': 2}, {'feature': 2, 'threshold': 3.6500000000000004, 'mistakes': 2}, {'feature': 2, 'threshold': 3.75, 'mistakes': 2}, {'feature': 2, 'threshold': 3.8499999999999996, 'mistakes': 2}, {'feature': 2, 'threshold': 4.05, 'mistakes': 3}, {'feature': 2, 'threshold': 4.15, 'mistakes': 4}, {'feature': 2, 'threshold': 4.25, 'mistakes': 7}, {'feature': 2, 'threshold': 4.388524590163936, 'mistakes': 4}, {'feature': 2, 'threshold': 4.45, 'mistakes': 3}, {'feature': 2, 'threshold': 4.55, 'mistakes': 2}, {'feature': 2, 'threshold': 4.65, 'mistakes': 1}, {'feature': 2, 'threshold': 4.75, 'mistakes': 1}, {'feature': 2, 'threshold': 4.85, 'mistakes': 1}, {'feature': 2, 'threshold': 4.95, 'mistakes': 1}, {'feature': 2, 'threshold': 5.05, 'mistakes': 1}, {'feature': 2, 'threshold': 5.15, 'mistakes': 0}, {'feature': 2, 'threshold': 5.25, 'mistakes': 0}, {'feature': 2, 'threshold': 5.35, 'mistakes': 0}, {'feature': 2, 'threshold': 5.45, 'mistakes': 0}, {'feature': 2, 'threshold': 5.55, 'mistakes': 0}, {'feature': 2, 'threshold': 5.65, 'mistakes': 1}, {'feature': 3, 'threshold': 0.24400000000000005, 'mistakes': 0}, {'feature': 3, 'threshold': 0.25, 'mistakes': 0}, {'feature': 3, 'threshold': 0.35, 'mistakes': 0}, {'feature': 3, 'threshold': 0.45, 'mistakes': 0}, {'feature': 3, 'threshold': 0.55, 'mistakes': 0}, {'feature': 3, 'threshold': 0.8, 'mistakes': 0}, {'feature': 3, 'threshold': 1.05, 'mistakes': 1}, {'feature': 3, 'threshold': 1.15, 'mistakes': 2}, {'feature': 3, 'threshold': 1.25, 'mistakes': 5}, {'feature': 3, 'threshold': 1.35, 'mistakes': 9}, {'feature': 3, 'threshold': 1.434426229508197, 'mistakes': 2}, {'feature': 3, 'threshold': 1.45, 'mistakes': 2}, {'feature': 3, 'threshold': 1.55, 'mistakes': 2}, {'feature': 3, 'threshold': 1.65, 'mistakes': 2}, {'feature': 3, 'threshold': 1.75, 'mistakes': 1}, {'feature': 3, 'threshold': 1.85, 'mistakes': 3}, {'feature': 3, 'threshold': 1.95, 'mistakes': 2}, {'feature': 3, 'threshold': 2.05, 'mistakes': 2}, {'feature': 0, 'threshold': 5.006, 'mistakes': 0}, {'feature': 0, 'threshold': 5.05, 'mistakes': 0}, {'feature': 0, 'threshold': 5.15, 'mistakes': 0}, {'feature': 0, 'threshold': 5.25, 'mistakes': 0}, {'feature': 0, 'threshold': 5.35, 'mistakes': 0}, {'feature': 0, 'threshold': 5.45, 'mistakes': 0}, {'feature': 0, 'threshold': 5.55, 'mistakes': 0}, {'feature': 0, 'threshold': 5.65, 'mistakes': 1}, {'feature': 0, 'threshold': 5.75, 'mistakes': 2}, {'feature': 0, 'threshold': 5.85, 'mistakes': 3}, {'feature': 0, 'threshold': 5.883606557377049, 'mistakes': 2}, {'feature': 0, 'threshold': 5.95, 'mistakes': 2}, {'feature': 0, 'threshold': 6.05, 'mistakes': 1}, {'feature': 0, 'threshold': 6.15, 'mistakes': 1}, {'feature': 0, 'threshold': 6.25, 'mistakes': 1}, {'feature': 0, 'threshold': 6.35, 'mistakes': 0}, {'feature': 0, 'threshold': 6.45, 'mistakes': 2}, {'feature': 0, 'threshold': 6.55, 'mistakes': 4}, {'feature': 0, 'threshold': 6.65, 'mistakes': 4}, {'feature': 0, 'threshold': 6.75, 'mistakes': 6}, {'feature': 0, 'threshold': 6.85, 'mistakes': 7}, {'feature': 1, 'threshold': 2.740983606557377, 'mistakes': 5}, {'feature': 1, 'threshold': 2.75, 'mistakes': 5}, {'feature': 1, 'threshold': 2.8499999999999996, 'mistakes': 4}, {'feature': 1, 'threshold': 2.95, 'mistakes': 4}, {'feature': 1, 'threshold': 3.05, 'mistakes': 6}, {'feature': 1, 'threshold': 3.0769230769230766, 'mistakes': 7}, {'feature': 1, 'threshold': 3.1500000000000004, 'mistakes': 7}, {'feature': 1, 'threshold': 3.25, 'mistakes': 3}, {'feature': 1, 'threshold': 3.3499999999999996, 'mistakes': 2}, {'feature': 2, 'threshold': 1.4639999999999997, 'mistakes': 0}, {'feature': 2, 'threshold': 1.55, 'mistakes': 0}, {'feature': 2, 'threshold': 1.65, 'mistakes': 0}, {'feature': 2, 'threshold': 1.7999999999999998, 'mistakes': 0}, {'feature': 2, 'threshold': 2.45, 'mistakes': 0}, {'feature': 2, 'threshold': 3.15, 'mistakes': 0}, {'feature': 2, 'threshold': 3.4, 'mistakes': 0}, {'feature': 2, 'threshold': 3.55, 'mistakes': 0}, {'feature': 2, 'threshold': 3.6500000000000004, 'mistakes': 0}, {'feature': 2, 'threshold': 3.75, 'mistakes': 0}, {'feature': 2, 'threshold': 3.8499999999999996, 'mistakes': 0}, {'feature': 2, 'threshold': 4.05, 'mistakes': 0}, {'feature': 2, 'threshold': 4.15, 'mistakes': 0}, {'feature': 2, 'threshold': 4.25, 'mistakes': 0}, {'feature': 2, 'threshold': 4.388524590163936, 'mistakes': 5}, {'feature': 2, 'threshold': 4.45, 'mistakes': 5}, {'feature': 2, 'threshold': 4.55, 'mistakes': 5}, {'feature': 2, 'threshold': 4.65, 'mistakes': 5}, {'feature': 2, 'threshold': 4.75, 'mistakes': 5}, {'feature': 2, 'threshold': 4.85, 'mistakes': 5}, {'feature': 2, 'threshold': 4.95, 'mistakes': 3}, {'feature': 2, 'threshold': 5.05, 'mistakes': 1}, {'feature': 2, 'threshold': 5.15, 'mistakes': 1}, {'feature': 2, 'threshold': 5.25, 'mistakes': 1}, {'feature': 2, 'threshold': 5.35, 'mistakes': 3}, {'feature': 2, 'threshold': 5.45, 'mistakes': 3}, {'feature': 2, 'threshold': 5.55, 'mistakes': 5}, {'feature': 2, 'threshold': 5.65, 'mistakes': 5}, {'feature': 3, 'threshold': 0.24400000000000005, 'mistakes': 0}, {'feature': 3, 'threshold': 0.25, 'mistakes': 0}, {'feature': 3, 'threshold': 0.35, 'mistakes': 0}, {'feature': 3, 'threshold': 0.45, 'mistakes': 0}, {'feature': 3, 'threshold': 0.55, 'mistakes': 0}, {'feature': 3, 'threshold': 0.8, 'mistakes': 0}, {'feature': 3, 'threshold': 1.05, 'mistakes': 0}, {'feature': 3, 'threshold': 1.15, 'mistakes': 0}, {'feature': 3, 'threshold': 1.25, 'mistakes': 0}, {'feature': 3, 'threshold': 1.35, 'mistakes': 0}, {'feature': 3, 'threshold': 1.434426229508197, 'mistakes': 5}, {'feature': 3, 'threshold': 1.45, 'mistakes': 5}, {'feature': 3, 'threshold': 1.55, 'mistakes': 4}, {'feature': 3, 'threshold': 1.65, 'mistakes': 4}, {'feature': 3, 'threshold': 1.75, 'mistakes': 4}, {'feature': 3, 'threshold': 1.85, 'mistakes': 6}, {'feature': 3, 'threshold': 1.95, 'mistakes': 7}, {'feature': 3, 'threshold': 2.05, 'mistakes': 7}, {'feature': 0, 'threshold': 5.006, 'mistakes': 0}, {'feature': 0, 'threshold': 5.05, 'mistakes': 0}, {'feature': 0, 'threshold': 5.15, 'mistakes': 0}, {'feature': 0, 'threshold': 5.25, 'mistakes': 0}, {'feature': 0, 'threshold': 5.35, 'mistakes': 0}, {'feature': 0, 'threshold': 5.45, 'mistakes': 0}, {'feature': 0, 'threshold': 5.55, 'mistakes': 0}, {'feature': 0, 'threshold': 5.65, 'mistakes': 0}, {'feature': 0, 'threshold': 5.75, 'mistakes': 0}, {'feature': 0, 'threshold': 5.85, 'mistakes': 1}, {'feature': 0, 'threshold': 5.883606557377049, 'mistakes': 6}, {'feature': 0, 'threshold': 5.95, 'mistakes': 5}, {'feature': 0, 'threshold': 6.05, 'mistakes': 4}, {'feature': 0, 'threshold': 6.15, 'mistakes': 4}, {'feature': 0, 'threshold': 6.25, 'mistakes': 4}, {'feature': 0, 'threshold': 6.35, 'mistakes': 3}, {'feature': 0, 'threshold': 6.45, 'mistakes': 6}, {'feature': 0, 'threshold': 6.55, 'mistakes': 7}, {'feature': 0, 'threshold': 6.65, 'mistakes': 7}, {'feature': 0, 'threshold': 6.75, 'mistakes': 10}, {'feature': 0, 'threshold': 6.85, 'mistakes': 11}, {'feature': 1, 'threshold': 2.740983606557377, 'mistakes': 6}, {'feature': 1, 'threshold': 2.75, 'mistakes': 6}, {'feature': 1, 'threshold': 2.8499999999999996, 'mistakes': 7}, {'feature': 1, 'threshold': 2.95, 'mistakes': 7}, {'feature': 1, 'threshold': 3.05, 'mistakes': 8}, {'feature': 1, 'threshold': 3.0769230769230766, 'mistakes': 9}, {'feature': 1, 'threshold': 3.1500000000000004, 'mistakes': 5}, {'feature': 1, 'threshold': 3.25, 'mistakes': 4}, {'feature': 1, 'threshold': 3.3499999999999996, 'mistakes': 3}, {'feature': 2, 'threshold': 1.4639999999999997, 'mistakes': 0}, {'feature': 2, 'threshold': 1.55, 'mistakes': 0}, {'feature': 2, 'threshold': 1.65, 'mistakes': 0}, {'feature': 2, 'threshold': 1.7999999999999998, 'mistakes': 0}, {'feature': 2, 'threshold': 2.45, 'mistakes': 0}, {'feature': 2, 'threshold': 3.15, 'mistakes': 0}, {'feature': 2, 'threshold': 3.4, 'mistakes': 0}, {'feature': 2, 'threshold': 3.55, 'mistakes': 0}, {'feature': 2, 'threshold': 3.6500000000000004, 'mistakes': 0}, {'feature': 2, 'threshold': 3.75, 'mistakes': 0}, {'feature': 2, 'threshold': 3.8499999999999996, 'mistakes': 0}, {'feature': 2, 'threshold': 4.05, 'mistakes': 0}, {'feature': 2, 'threshold': 4.15, 'mistakes': 0}, {'feature': 2, 'threshold': 4.25, 'mistakes': 0}, {'feature': 2, 'threshold': 4.388524590163936, 'mistakes': 7}, {'feature': 2, 'threshold': 4.45, 'mistakes': 7}, {'feature': 2, 'threshold': 4.55, 'mistakes': 7}, {'feature': 2, 'threshold': 4.65, 'mistakes': 7}, {'feature': 2, 'threshold': 4.75, 'mistakes': 7}, {'feature': 2, 'threshold': 4.85, 'mistakes': 5}, {'feature': 2, 'threshold': 4.95, 'mistakes': 4}, {'feature': 2, 'threshold': 5.05, 'mistakes': 3}, {'feature': 2, 'threshold': 5.15, 'mistakes': 1}, {'feature': 2, 'threshold': 5.25, 'mistakes': 3}, {'feature': 2, 'threshold': 5.35, 'mistakes': 3}, {'feature': 2, 'threshold': 5.45, 'mistakes': 5}, {'feature': 2, 'threshold': 5.55, 'mistakes': 6}, {'feature': 2, 'threshold': 5.65, 'mistakes': 11}, {'feature': 3, 'threshold': 0.24400000000000005, 'mistakes': 0}, {'feature': 3, 'threshold': 0.25, 'mistakes': 0}, {'feature': 3, 'threshold': 0.35, 'mistakes': 0}, {'feature': 3, 'threshold': 0.45, 'mistakes': 0}, {'feature': 3, 'threshold': 0.55, 'mistakes': 0}, {'feature': 3, 'threshold': 0.8, 'mistakes': 0}, {'feature': 3, 'threshold': 1.05, 'mistakes': 0}, {'feature': 3, 'threshold': 1.15, 'mistakes': 0}, {'feature': 3, 'threshold': 1.25, 'mistakes': 0}, {'feature': 3, 'threshold': 1.35, 'mistakes': 0}, {'feature': 3, 'threshold': 1.434426229508197, 'mistakes': 8}, {'feature': 3, 'threshold': 1.45, 'mistakes': 8}, {'feature': 3, 'threshold': 1.55, 'mistakes': 7}, {'feature': 3, 'threshold': 1.65, 'mistakes': 8}, {'feature': 3, 'threshold': 1.75, 'mistakes': 8}, {'feature': 3, 'threshold': 1.85, 'mistakes': 5}, {'feature': 3, 'threshold': 1.95, 'mistakes': 4}, {'feature': 3, 'threshold': 2.05, 'mistakes': 6}]\n",
      "Aggregated results: [{'feature': 0, 'threshold': 5.006, 'mistakes': 26}, {'feature': 0, 'threshold': 5.05, 'mistakes': 26}, {'feature': 0, 'threshold': 5.15, 'mistakes': 19}, {'feature': 0, 'threshold': 5.25, 'mistakes': 17}, {'feature': 0, 'threshold': 5.35, 'mistakes': 16}, {'feature': 0, 'threshold': 5.45, 'mistakes': 12}, {'feature': 0, 'threshold': 5.55, 'mistakes': 15}, {'feature': 0, 'threshold': 5.65, 'mistakes': 21}, {'feature': 0, 'threshold': 5.75, 'mistakes': 25}, {'feature': 0, 'threshold': 5.85, 'mistakes': 30}, {'feature': 0, 'threshold': 5.883606557377049, 'mistakes': 31}, {'feature': 0, 'threshold': 5.95, 'mistakes': 28}, {'feature': 0, 'threshold': 6.05, 'mistakes': 22}, {'feature': 0, 'threshold': 6.15, 'mistakes': 18}, {'feature': 0, 'threshold': 6.25, 'mistakes': 16}, {'feature': 0, 'threshold': 6.35, 'mistakes': 13}, {'feature': 0, 'threshold': 6.45, 'mistakes': 16}, {'feature': 0, 'threshold': 6.55, 'mistakes': 19}, {'feature': 0, 'threshold': 6.65, 'mistakes': 17}, {'feature': 0, 'threshold': 6.75, 'mistakes': 21}, {'feature': 0, 'threshold': 6.85, 'mistakes': 22}, {'feature': 1, 'threshold': 2.740983606557377, 'mistakes': 38}, {'feature': 1, 'threshold': 2.75, 'mistakes': 38}, {'feature': 1, 'threshold': 2.8499999999999996, 'mistakes': 32}, {'feature': 1, 'threshold': 2.95, 'mistakes': 28}, {'feature': 1, 'threshold': 3.05, 'mistakes': 34}, {'feature': 1, 'threshold': 3.0769230769230766, 'mistakes': 33}, {'feature': 1, 'threshold': 3.1500000000000004, 'mistakes': 31}, {'feature': 1, 'threshold': 3.25, 'mistakes': 28}, {'feature': 1, 'threshold': 3.3499999999999996, 'mistakes': 26}, {'feature': 2, 'threshold': 1.4639999999999997, 'mistakes': 27}, {'feature': 2, 'threshold': 1.55, 'mistakes': 13}, {'feature': 2, 'threshold': 1.65, 'mistakes': 6}, {'feature': 2, 'threshold': 1.7999999999999998, 'mistakes': 2}, {'feature': 2, 'threshold': 2.45, 'mistakes': 0}, {'feature': 2, 'threshold': 3.15, 'mistakes': 1}, {'feature': 2, 'threshold': 3.4, 'mistakes': 3}, {'feature': 2, 'threshold': 3.55, 'mistakes': 5}, {'feature': 2, 'threshold': 3.6500000000000004, 'mistakes': 6}, {'feature': 2, 'threshold': 3.75, 'mistakes': 7}, {'feature': 2, 'threshold': 3.8499999999999996, 'mistakes': 8}, {'feature': 2, 'threshold': 4.05, 'mistakes': 16}, {'feature': 2, 'threshold': 4.15, 'mistakes': 19}, {'feature': 2, 'threshold': 4.25, 'mistakes': 23}, {'feature': 2, 'threshold': 4.388524590163936, 'mistakes': 36}, {'feature': 2, 'threshold': 4.45, 'mistakes': 32}, {'feature': 2, 'threshold': 4.55, 'mistakes': 24}, {'feature': 2, 'threshold': 4.65, 'mistakes': 21}, {'feature': 2, 'threshold': 4.75, 'mistakes': 18}, {'feature': 2, 'threshold': 4.85, 'mistakes': 14}, {'feature': 2, 'threshold': 4.95, 'mistakes': 11}, {'feature': 2, 'threshold': 5.05, 'mistakes': 9}, {'feature': 2, 'threshold': 5.15, 'mistakes': 5}, {'feature': 2, 'threshold': 5.25, 'mistakes': 7}, {'feature': 2, 'threshold': 5.35, 'mistakes': 9}, {'feature': 2, 'threshold': 5.45, 'mistakes': 11}, {'feature': 2, 'threshold': 5.55, 'mistakes': 14}, {'feature': 2, 'threshold': 5.65, 'mistakes': 20}, {'feature': 3, 'threshold': 0.24400000000000005, 'mistakes': 16}, {'feature': 3, 'threshold': 0.25, 'mistakes': 16}, {'feature': 3, 'threshold': 0.35, 'mistakes': 9}, {'feature': 3, 'threshold': 0.45, 'mistakes': 2}, {'feature': 3, 'threshold': 0.55, 'mistakes': 1}, {'feature': 3, 'threshold': 0.8, 'mistakes': 0}, {'feature': 3, 'threshold': 1.05, 'mistakes': 7}, {'feature': 3, 'threshold': 1.15, 'mistakes': 10}, {'feature': 3, 'threshold': 1.25, 'mistakes': 15}, {'feature': 3, 'threshold': 1.35, 'mistakes': 28}, {'feature': 3, 'threshold': 1.434426229508197, 'mistakes': 29}, {'feature': 3, 'threshold': 1.45, 'mistakes': 29}, {'feature': 3, 'threshold': 1.55, 'mistakes': 19}, {'feature': 3, 'threshold': 1.65, 'mistakes': 17}, {'feature': 3, 'threshold': 1.75, 'mistakes': 17}, {'feature': 3, 'threshold': 1.85, 'mistakes': 17}, {'feature': 3, 'threshold': 1.95, 'mistakes': 16}, {'feature': 3, 'threshold': 2.05, 'mistakes': 18}]\n",
      "Time taken to aggregate results: 0 minutes and 0.00 seconds\n",
      "Best split found: Feature 2, Threshold 2.45, Mistakes 0\n",
      "Time taken to find the best split: 0 minutes and 16.01 seconds\n",
      "Splitting on feature 2 at threshold 2.45 with mistakes 0\n",
      "Time taken to filter left and right data: 0 minutes and 0.04 seconds\n",
      "Time taken to update centers: 0 minutes and 0.00 seconds\n",
      "Building node at depth 1 with 50 samples\n",
      "Building node at depth 1 with 100 samples\n",
      "Finding the best split using histogram thresholds in a distributed manner\n",
      "Time taken to collect results from worker nodes: 0 minutes and 14.54 seconds\n",
      "Flattened results: [{'feature': 0, 'threshold': 5.883606557377049, 'mistakes': 1}, {'feature': 0, 'threshold': 5.95, 'mistakes': 1}, {'feature': 0, 'threshold': 6.05, 'mistakes': 1}, {'feature': 0, 'threshold': 6.15, 'mistakes': 1}, {'feature': 0, 'threshold': 6.25, 'mistakes': 1}, {'feature': 0, 'threshold': 6.35, 'mistakes': 1}, {'feature': 0, 'threshold': 6.45, 'mistakes': 0}, {'feature': 0, 'threshold': 6.55, 'mistakes': 0}, {'feature': 0, 'threshold': 6.65, 'mistakes': 0}, {'feature': 0, 'threshold': 6.75, 'mistakes': 0}, {'feature': 0, 'threshold': 6.85, 'mistakes': 0}, {'feature': 1, 'threshold': 2.740983606557377, 'mistakes': 1}, {'feature': 1, 'threshold': 2.75, 'mistakes': 1}, {'feature': 1, 'threshold': 2.8499999999999996, 'mistakes': 1}, {'feature': 1, 'threshold': 2.95, 'mistakes': 1}, {'feature': 1, 'threshold': 3.05, 'mistakes': 1}, {'feature': 2, 'threshold': 4.388524590163936, 'mistakes': 1}, {'feature': 2, 'threshold': 4.45, 'mistakes': 1}, {'feature': 2, 'threshold': 4.55, 'mistakes': 0}, {'feature': 2, 'threshold': 4.65, 'mistakes': 0}, {'feature': 2, 'threshold': 4.75, 'mistakes': 1}, {'feature': 2, 'threshold': 4.85, 'mistakes': 1}, {'feature': 2, 'threshold': 4.95, 'mistakes': 2}, {'feature': 2, 'threshold': 5.05, 'mistakes': 2}, {'feature': 2, 'threshold': 5.15, 'mistakes': 2}, {'feature': 2, 'threshold': 5.25, 'mistakes': 2}, {'feature': 2, 'threshold': 5.35, 'mistakes': 2}, {'feature': 2, 'threshold': 5.45, 'mistakes': 2}, {'feature': 2, 'threshold': 5.55, 'mistakes': 2}, {'feature': 2, 'threshold': 5.65, 'mistakes': 2}, {'feature': 3, 'threshold': 1.434426229508197, 'mistakes': 2}, {'feature': 3, 'threshold': 1.45, 'mistakes': 2}, {'feature': 3, 'threshold': 1.55, 'mistakes': 2}, {'feature': 3, 'threshold': 1.65, 'mistakes': 2}, {'feature': 3, 'threshold': 1.75, 'mistakes': 2}, {'feature': 3, 'threshold': 1.85, 'mistakes': 2}, {'feature': 3, 'threshold': 1.95, 'mistakes': 2}, {'feature': 3, 'threshold': 2.05, 'mistakes': 2}, {'feature': 0, 'threshold': 5.883606557377049, 'mistakes': 10}, {'feature': 0, 'threshold': 5.95, 'mistakes': 8}, {'feature': 0, 'threshold': 6.05, 'mistakes': 7}, {'feature': 0, 'threshold': 6.15, 'mistakes': 5}, {'feature': 0, 'threshold': 6.25, 'mistakes': 4}, {'feature': 0, 'threshold': 6.35, 'mistakes': 3}, {'feature': 0, 'threshold': 6.45, 'mistakes': 3}, {'feature': 0, 'threshold': 6.55, 'mistakes': 2}, {'feature': 0, 'threshold': 6.65, 'mistakes': 1}, {'feature': 0, 'threshold': 6.75, 'mistakes': 0}, {'feature': 0, 'threshold': 6.85, 'mistakes': 0}, {'feature': 1, 'threshold': 2.740983606557377, 'mistakes': 11}, {'feature': 1, 'threshold': 2.75, 'mistakes': 11}, {'feature': 1, 'threshold': 2.8499999999999996, 'mistakes': 8}, {'feature': 1, 'threshold': 2.95, 'mistakes': 5}, {'feature': 1, 'threshold': 3.05, 'mistakes': 3}, {'feature': 2, 'threshold': 4.388524590163936, 'mistakes': 9}, {'feature': 2, 'threshold': 4.45, 'mistakes': 8}, {'feature': 2, 'threshold': 4.55, 'mistakes': 5}, {'feature': 2, 'threshold': 4.65, 'mistakes': 3}, {'feature': 2, 'threshold': 4.75, 'mistakes': 1}, {'feature': 2, 'threshold': 4.85, 'mistakes': 0}, {'feature': 2, 'threshold': 4.95, 'mistakes': 0}, {'feature': 2, 'threshold': 5.05, 'mistakes': 0}, {'feature': 2, 'threshold': 5.15, 'mistakes': 0}, {'feature': 2, 'threshold': 5.25, 'mistakes': 0}, {'feature': 2, 'threshold': 5.35, 'mistakes': 0}, {'feature': 2, 'threshold': 5.45, 'mistakes': 0}, {'feature': 2, 'threshold': 5.55, 'mistakes': 0}, {'feature': 2, 'threshold': 5.65, 'mistakes': 0}, {'feature': 3, 'threshold': 1.434426229508197, 'mistakes': 6}, {'feature': 3, 'threshold': 1.45, 'mistakes': 6}, {'feature': 3, 'threshold': 1.55, 'mistakes': 2}, {'feature': 3, 'threshold': 1.65, 'mistakes': 1}, {'feature': 3, 'threshold': 1.75, 'mistakes': 1}, {'feature': 3, 'threshold': 1.85, 'mistakes': 0}, {'feature': 3, 'threshold': 1.95, 'mistakes': 0}, {'feature': 3, 'threshold': 2.05, 'mistakes': 0}, {'feature': 0, 'threshold': 5.883606557377049, 'mistakes': 10}, {'feature': 0, 'threshold': 5.95, 'mistakes': 10}, {'feature': 0, 'threshold': 6.05, 'mistakes': 7}, {'feature': 0, 'threshold': 6.15, 'mistakes': 6}, {'feature': 0, 'threshold': 6.25, 'mistakes': 6}, {'feature': 0, 'threshold': 6.35, 'mistakes': 4}, {'feature': 0, 'threshold': 6.45, 'mistakes': 3}, {'feature': 0, 'threshold': 6.55, 'mistakes': 3}, {'feature': 0, 'threshold': 6.65, 'mistakes': 2}, {'feature': 0, 'threshold': 6.75, 'mistakes': 2}, {'feature': 0, 'threshold': 6.85, 'mistakes': 1}, {'feature': 1, 'threshold': 2.740983606557377, 'mistakes': 9}, {'feature': 1, 'threshold': 2.75, 'mistakes': 9}, {'feature': 1, 'threshold': 2.8499999999999996, 'mistakes': 7}, {'feature': 1, 'threshold': 2.95, 'mistakes': 5}, {'feature': 1, 'threshold': 3.05, 'mistakes': 3}, {'feature': 2, 'threshold': 4.388524590163936, 'mistakes': 10}, {'feature': 2, 'threshold': 4.45, 'mistakes': 8}, {'feature': 2, 'threshold': 4.55, 'mistakes': 5}, {'feature': 2, 'threshold': 4.65, 'mistakes': 5}, {'feature': 2, 'threshold': 4.75, 'mistakes': 3}, {'feature': 2, 'threshold': 4.85, 'mistakes': 2}, {'feature': 2, 'threshold': 4.95, 'mistakes': 1}, {'feature': 2, 'threshold': 5.05, 'mistakes': 2}, {'feature': 2, 'threshold': 5.15, 'mistakes': 1}, {'feature': 2, 'threshold': 5.25, 'mistakes': 1}, {'feature': 2, 'threshold': 5.35, 'mistakes': 1}, {'feature': 2, 'threshold': 5.45, 'mistakes': 1}, {'feature': 2, 'threshold': 5.55, 'mistakes': 1}, {'feature': 2, 'threshold': 5.65, 'mistakes': 1}, {'feature': 3, 'threshold': 1.434426229508197, 'mistakes': 6}, {'feature': 3, 'threshold': 1.45, 'mistakes': 6}, {'feature': 3, 'threshold': 1.55, 'mistakes': 2}, {'feature': 3, 'threshold': 1.65, 'mistakes': 0}, {'feature': 3, 'threshold': 1.75, 'mistakes': 1}, {'feature': 3, 'threshold': 1.85, 'mistakes': 1}, {'feature': 3, 'threshold': 1.95, 'mistakes': 1}, {'feature': 3, 'threshold': 2.05, 'mistakes': 1}, {'feature': 0, 'threshold': 5.883606557377049, 'mistakes': 2}, {'feature': 0, 'threshold': 5.95, 'mistakes': 2}, {'feature': 0, 'threshold': 6.05, 'mistakes': 2}, {'feature': 0, 'threshold': 6.15, 'mistakes': 1}, {'feature': 0, 'threshold': 6.25, 'mistakes': 0}, {'feature': 0, 'threshold': 6.35, 'mistakes': 2}, {'feature': 0, 'threshold': 6.45, 'mistakes': 2}, {'feature': 0, 'threshold': 6.55, 'mistakes': 3}, {'feature': 0, 'threshold': 6.65, 'mistakes': 3}, {'feature': 0, 'threshold': 6.75, 'mistakes': 3}, {'feature': 0, 'threshold': 6.85, 'mistakes': 3}, {'feature': 1, 'threshold': 2.740983606557377, 'mistakes': 5}, {'feature': 1, 'threshold': 2.75, 'mistakes': 5}, {'feature': 1, 'threshold': 2.8499999999999996, 'mistakes': 4}, {'feature': 1, 'threshold': 2.95, 'mistakes': 4}, {'feature': 1, 'threshold': 3.05, 'mistakes': 5}, {'feature': 2, 'threshold': 4.388524590163936, 'mistakes': 4}, {'feature': 2, 'threshold': 4.45, 'mistakes': 3}, {'feature': 2, 'threshold': 4.55, 'mistakes': 2}, {'feature': 2, 'threshold': 4.65, 'mistakes': 1}, {'feature': 2, 'threshold': 4.75, 'mistakes': 1}, {'feature': 2, 'threshold': 4.85, 'mistakes': 1}, {'feature': 2, 'threshold': 4.95, 'mistakes': 1}, {'feature': 2, 'threshold': 5.05, 'mistakes': 1}, {'feature': 2, 'threshold': 5.15, 'mistakes': 0}, {'feature': 2, 'threshold': 5.25, 'mistakes': 0}, {'feature': 2, 'threshold': 5.35, 'mistakes': 0}, {'feature': 2, 'threshold': 5.45, 'mistakes': 0}, {'feature': 2, 'threshold': 5.55, 'mistakes': 0}, {'feature': 2, 'threshold': 5.65, 'mistakes': 1}, {'feature': 3, 'threshold': 1.434426229508197, 'mistakes': 2}, {'feature': 3, 'threshold': 1.45, 'mistakes': 2}, {'feature': 3, 'threshold': 1.55, 'mistakes': 2}, {'feature': 3, 'threshold': 1.65, 'mistakes': 2}, {'feature': 3, 'threshold': 1.75, 'mistakes': 1}, {'feature': 3, 'threshold': 1.85, 'mistakes': 3}, {'feature': 3, 'threshold': 1.95, 'mistakes': 2}, {'feature': 3, 'threshold': 2.05, 'mistakes': 2}, {'feature': 0, 'threshold': 5.883606557377049, 'mistakes': 2}, {'feature': 0, 'threshold': 5.95, 'mistakes': 2}, {'feature': 0, 'threshold': 6.05, 'mistakes': 1}, {'feature': 0, 'threshold': 6.15, 'mistakes': 1}, {'feature': 0, 'threshold': 6.25, 'mistakes': 1}, {'feature': 0, 'threshold': 6.35, 'mistakes': 0}, {'feature': 0, 'threshold': 6.45, 'mistakes': 2}, {'feature': 0, 'threshold': 6.55, 'mistakes': 4}, {'feature': 0, 'threshold': 6.65, 'mistakes': 4}, {'feature': 0, 'threshold': 6.75, 'mistakes': 6}, {'feature': 0, 'threshold': 6.85, 'mistakes': 7}, {'feature': 1, 'threshold': 2.740983606557377, 'mistakes': 5}, {'feature': 1, 'threshold': 2.75, 'mistakes': 5}, {'feature': 1, 'threshold': 2.8499999999999996, 'mistakes': 4}, {'feature': 1, 'threshold': 2.95, 'mistakes': 4}, {'feature': 1, 'threshold': 3.05, 'mistakes': 6}, {'feature': 2, 'threshold': 4.388524590163936, 'mistakes': 5}, {'feature': 2, 'threshold': 4.45, 'mistakes': 5}, {'feature': 2, 'threshold': 4.55, 'mistakes': 5}, {'feature': 2, 'threshold': 4.65, 'mistakes': 5}, {'feature': 2, 'threshold': 4.75, 'mistakes': 5}, {'feature': 2, 'threshold': 4.85, 'mistakes': 5}, {'feature': 2, 'threshold': 4.95, 'mistakes': 3}, {'feature': 2, 'threshold': 5.05, 'mistakes': 1}, {'feature': 2, 'threshold': 5.15, 'mistakes': 1}, {'feature': 2, 'threshold': 5.25, 'mistakes': 1}, {'feature': 2, 'threshold': 5.35, 'mistakes': 3}, {'feature': 2, 'threshold': 5.45, 'mistakes': 3}, {'feature': 2, 'threshold': 5.55, 'mistakes': 5}, {'feature': 2, 'threshold': 5.65, 'mistakes': 5}, {'feature': 3, 'threshold': 1.434426229508197, 'mistakes': 5}, {'feature': 3, 'threshold': 1.45, 'mistakes': 5}, {'feature': 3, 'threshold': 1.55, 'mistakes': 4}, {'feature': 3, 'threshold': 1.65, 'mistakes': 4}, {'feature': 3, 'threshold': 1.75, 'mistakes': 4}, {'feature': 3, 'threshold': 1.85, 'mistakes': 6}, {'feature': 3, 'threshold': 1.95, 'mistakes': 7}, {'feature': 3, 'threshold': 2.05, 'mistakes': 7}, {'feature': 0, 'threshold': 5.883606557377049, 'mistakes': 6}, {'feature': 0, 'threshold': 5.95, 'mistakes': 5}, {'feature': 0, 'threshold': 6.05, 'mistakes': 4}, {'feature': 0, 'threshold': 6.15, 'mistakes': 4}, {'feature': 0, 'threshold': 6.25, 'mistakes': 4}, {'feature': 0, 'threshold': 6.35, 'mistakes': 3}, {'feature': 0, 'threshold': 6.45, 'mistakes': 6}, {'feature': 0, 'threshold': 6.55, 'mistakes': 7}, {'feature': 0, 'threshold': 6.65, 'mistakes': 7}, {'feature': 0, 'threshold': 6.75, 'mistakes': 10}, {'feature': 0, 'threshold': 6.85, 'mistakes': 11}, {'feature': 1, 'threshold': 2.740983606557377, 'mistakes': 6}, {'feature': 1, 'threshold': 2.75, 'mistakes': 6}, {'feature': 1, 'threshold': 2.8499999999999996, 'mistakes': 7}, {'feature': 1, 'threshold': 2.95, 'mistakes': 7}, {'feature': 1, 'threshold': 3.05, 'mistakes': 8}, {'feature': 2, 'threshold': 4.388524590163936, 'mistakes': 7}, {'feature': 2, 'threshold': 4.45, 'mistakes': 7}, {'feature': 2, 'threshold': 4.55, 'mistakes': 7}, {'feature': 2, 'threshold': 4.65, 'mistakes': 7}, {'feature': 2, 'threshold': 4.75, 'mistakes': 7}, {'feature': 2, 'threshold': 4.85, 'mistakes': 5}, {'feature': 2, 'threshold': 4.95, 'mistakes': 4}, {'feature': 2, 'threshold': 5.05, 'mistakes': 3}, {'feature': 2, 'threshold': 5.15, 'mistakes': 1}, {'feature': 2, 'threshold': 5.25, 'mistakes': 3}, {'feature': 2, 'threshold': 5.35, 'mistakes': 3}, {'feature': 2, 'threshold': 5.45, 'mistakes': 5}, {'feature': 2, 'threshold': 5.55, 'mistakes': 6}, {'feature': 2, 'threshold': 5.65, 'mistakes': 11}, {'feature': 3, 'threshold': 1.434426229508197, 'mistakes': 8}, {'feature': 3, 'threshold': 1.45, 'mistakes': 8}, {'feature': 3, 'threshold': 1.55, 'mistakes': 7}, {'feature': 3, 'threshold': 1.65, 'mistakes': 8}, {'feature': 3, 'threshold': 1.75, 'mistakes': 8}, {'feature': 3, 'threshold': 1.85, 'mistakes': 5}, {'feature': 3, 'threshold': 1.95, 'mistakes': 4}, {'feature': 3, 'threshold': 2.05, 'mistakes': 6}]\n",
      "Aggregated results: [{'feature': 0, 'threshold': 5.883606557377049, 'mistakes': 31}, {'feature': 0, 'threshold': 5.95, 'mistakes': 28}, {'feature': 0, 'threshold': 6.05, 'mistakes': 22}, {'feature': 0, 'threshold': 6.15, 'mistakes': 18}, {'feature': 0, 'threshold': 6.25, 'mistakes': 16}, {'feature': 0, 'threshold': 6.35, 'mistakes': 13}, {'feature': 0, 'threshold': 6.45, 'mistakes': 16}, {'feature': 0, 'threshold': 6.55, 'mistakes': 19}, {'feature': 0, 'threshold': 6.65, 'mistakes': 17}, {'feature': 0, 'threshold': 6.75, 'mistakes': 21}, {'feature': 0, 'threshold': 6.85, 'mistakes': 22}, {'feature': 1, 'threshold': 2.740983606557377, 'mistakes': 37}, {'feature': 1, 'threshold': 2.75, 'mistakes': 37}, {'feature': 1, 'threshold': 2.8499999999999996, 'mistakes': 31}, {'feature': 1, 'threshold': 2.95, 'mistakes': 26}, {'feature': 1, 'threshold': 3.05, 'mistakes': 26}, {'feature': 2, 'threshold': 4.388524590163936, 'mistakes': 36}, {'feature': 2, 'threshold': 4.45, 'mistakes': 32}, {'feature': 2, 'threshold': 4.55, 'mistakes': 24}, {'feature': 2, 'threshold': 4.65, 'mistakes': 21}, {'feature': 2, 'threshold': 4.75, 'mistakes': 18}, {'feature': 2, 'threshold': 4.85, 'mistakes': 14}, {'feature': 2, 'threshold': 4.95, 'mistakes': 11}, {'feature': 2, 'threshold': 5.05, 'mistakes': 9}, {'feature': 2, 'threshold': 5.15, 'mistakes': 5}, {'feature': 2, 'threshold': 5.25, 'mistakes': 7}, {'feature': 2, 'threshold': 5.35, 'mistakes': 9}, {'feature': 2, 'threshold': 5.45, 'mistakes': 11}, {'feature': 2, 'threshold': 5.55, 'mistakes': 14}, {'feature': 2, 'threshold': 5.65, 'mistakes': 20}, {'feature': 3, 'threshold': 1.434426229508197, 'mistakes': 29}, {'feature': 3, 'threshold': 1.45, 'mistakes': 29}, {'feature': 3, 'threshold': 1.55, 'mistakes': 19}, {'feature': 3, 'threshold': 1.65, 'mistakes': 17}, {'feature': 3, 'threshold': 1.75, 'mistakes': 17}, {'feature': 3, 'threshold': 1.85, 'mistakes': 17}, {'feature': 3, 'threshold': 1.95, 'mistakes': 16}, {'feature': 3, 'threshold': 2.05, 'mistakes': 18}]\n",
      "Time taken to aggregate results: 0 minutes and 0.01 seconds\n",
      "Best split found: Feature 2, Threshold 5.15, Mistakes 5\n",
      "Time taken to find the best split: 0 minutes and 14.57 seconds\n",
      "Splitting on feature 2 at threshold 5.15 with mistakes 5\n",
      "Time taken to filter left and right data: 0 minutes and 0.02 seconds\n",
      "Time taken to update centers: 0 minutes and 0.00 seconds\n",
      "Building node at depth 2 with 66 samples\n",
      "Building node at depth 2 with 34 samples\n",
      "Time taken to build the tree: 1 minutes and 44.55 seconds\n",
      "Running '__fill_stats_distributed__' method\n",
      "Time taken to fill stats: 0 minutes and 46.87 seconds\n",
      "Tree building completed.\n"
     ]
    }
   ],
   "source": [
    "d_imm_tree = DistributedIMM(spark,3,verbose=4).fit(feature_df,model)"
   ],
   "metadata": {
    "collapsed": false,
    "ExecuteTime": {
     "end_time": "2025-03-08T13:24:31.135262Z",
     "start_time": "2025-03-08T13:21:52.077982Z"
    }
   },
   "id": "7a28edd8637b21cd",
   "execution_count": 10
  },
  {
   "cell_type": "code",
   "outputs": [
    {
     "name": "stdout",
     "output_type": "stream",
     "text": [
      "Feature names: ['sepal_length', 'sepal_width', 'petal_length', 'petal_width']\n",
      "Tree plot saved as 'iris_imm_tree_3.png' and displayed.\n"
     ]
    }
   ],
   "source": [
    "# Extract feature names from the VectorAssembler\n",
    "feature_names = assembler.getInputCols()\n",
    "\n",
    "# Print the feature names to confirm\n",
    "print(\"Feature names:\", feature_names)\n",
    "\n",
    "# Plot the tree using the dynamically retrieved feature names\n",
    "try:\n",
    "    d_imm_tree.plot(filename=\"iris_imm_tree_3\", feature_names=feature_names, view=True)\n",
    "    print(\"Tree plot saved as 'iris_imm_tree_3.png' and displayed.\")\n",
    "\n",
    "except Exception as e:\n",
    "    print(f\"An error occurred while plotting the tree: {e}\")"
   ],
   "metadata": {
    "collapsed": false,
    "ExecuteTime": {
     "end_time": "2025-03-08T13:24:33.779045Z",
     "start_time": "2025-03-08T13:24:31.145164Z"
    }
   },
   "id": "cf51cb88b442234a",
   "execution_count": 11
  },
  {
   "cell_type": "code",
   "outputs": [
    {
     "name": "stdout",
     "output_type": "stream",
     "text": [
      "Running 'feature_importance' method\n"
     ]
    },
    {
     "data": {
      "text/plain": "[0, 0, 2, 0]"
     },
     "execution_count": 12,
     "metadata": {},
     "output_type": "execute_result"
    }
   ],
   "source": [
    "d_imm_tree.feature_importance()"
   ],
   "metadata": {
    "collapsed": false,
    "ExecuteTime": {
     "end_time": "2025-03-08T13:24:33.913840Z",
     "start_time": "2025-03-08T13:24:33.780540Z"
    }
   },
   "id": "de2afbf1171561cd",
   "execution_count": 12
  },
  {
   "cell_type": "code",
   "outputs": [
    {
     "name": "stdout",
     "output_type": "stream",
     "text": [
      "IMM tree saved successfully to iris_imm_tree.pkl\n"
     ]
    }
   ],
   "source": [
    "import pickle\n",
    "\n",
    "# Define the file path to save the tree\n",
    "tree_save_path = \"iris_imm_tree.pkl\"\n",
    "\n",
    "# Save the trained IMM tree to a file\n",
    "with open(tree_save_path, \"wb\") as f:\n",
    "    pickle.dump(d_imm_tree.tree, f)\n",
    "\n",
    "print(f\"IMM tree saved successfully to {tree_save_path}\")\n",
    "\n",
    "\n"
   ],
   "metadata": {
    "collapsed": false,
    "ExecuteTime": {
     "end_time": "2025-03-08T13:36:46.373922Z",
     "start_time": "2025-03-08T13:36:46.365767Z"
    }
   },
   "id": "86ec21d73d2439ef",
   "execution_count": 23
  },
  {
   "cell_type": "code",
   "outputs": [],
   "source": [
    "# Load IMM tree\n",
    "with open(tree_save_path, \"rb\") as f:\n",
    "    loaded_d_imm_tree = pickle.load(f)\n",
    "\n",
    "# Use the tree directly\n",
    "print(loaded_d_imm_tree.tree)"
   ],
   "metadata": {
    "collapsed": false
   },
   "id": "3521916d4064feb9"
  },
  {
   "cell_type": "raw",
   "source": [
    "TESTING THE \"fill_stats_distributed\" METHOD"
   ],
   "metadata": {
    "collapsed": false
   },
   "id": "8485f0f030c03101"
  },
  {
   "cell_type": "code",
   "outputs": [
    {
     "name": "stdout",
     "output_type": "stream",
     "text": [
      "Root Node Stats: Samples = 150\n",
      "Left Child Stats: Samples = 50 Mistakes = 0\n",
      "Right Child Stats: Samples = 100\n",
      "Right-Left Child Stats: Samples = 66 Mistakes = 5\n",
      "Right-Right Child Stats: Samples = 34 Mistakes = 0\n"
     ]
    }
   ],
   "source": [
    "from d_imm.imm_model import Node\n",
    "\n",
    "# Root Node\n",
    "root_node = Node()\n",
    "root_node.feature = 2  # petal length (cm) column index\n",
    "root_node.value = 1.9  # Threshold for split\n",
    "\n",
    "# Left Child - Leaf Node\n",
    "root_node.left = Node()\n",
    "root_node.left.value = 1  # Cluster label\n",
    "# root_node.left.samples = 50\n",
    "# root_node.left.mistakes = 0\n",
    "\n",
    "# Right Child - Internal Node\n",
    "root_node.right = Node()\n",
    "root_node.right.feature = 2  # petal length (cm) column index\n",
    "root_node.right.value = 5.1  # Threshold for split\n",
    "\n",
    "# Right-Left Child - Leaf Node\n",
    "root_node.right.left = Node()\n",
    "root_node.right.left.value = 2  # Cluster label\n",
    "# root_node.right.left.samples = 66\n",
    "# root_node.right.left.mistakes = 5\n",
    "\n",
    "# Right-Right Child - Leaf Node\n",
    "root_node.right.right = Node()\n",
    "root_node.right.right.value = 0  # Cluster label\n",
    "# root_node.right.right.samples = 34\n",
    "# root_node.right.right.mistakes = 0\n",
    "\n",
    "from pyspark.ml.functions import vector_to_array\n",
    "\n",
    "d_imm = DistributedIMM(spark, k=3, verbose=1)\n",
    "\n",
    "clustered_data = model.transform(feature_df).select(\"features\", \"prediction\")\n",
    "clustered_data_vector = clustered_data.withColumn(\"features_array\", vector_to_array(\"features\"))\n",
    "\n",
    "# Test the fill_stats_distributed method with the manually created tree\n",
    "d_imm.fill_stats_distributed(root_node,clustered_data_vector)\n",
    "\n",
    "# Print the results for verification\n",
    "print(\"Root Node Stats: Samples =\", root_node.samples)\n",
    "print(\"Left Child Stats: Samples =\", root_node.left.samples, \"Mistakes =\", root_node.left.mistakes)\n",
    "print(\"Right Child Stats: Samples =\", root_node.right.samples)\n",
    "print(\"Right-Left Child Stats: Samples =\", root_node.right.left.samples, \"Mistakes =\", root_node.right.left.mistakes)\n",
    "print(\"Right-Right Child Stats: Samples =\", root_node.right.right.samples, \"Mistakes =\", root_node.right.right.mistakes)"
   ],
   "metadata": {
    "collapsed": false,
    "ExecuteTime": {
     "end_time": "2025-03-08T13:25:27.935339Z",
     "start_time": "2025-03-08T13:24:33.917134Z"
    }
   },
   "id": "49ab78c79365f4fd",
   "execution_count": 13
  },
  {
   "cell_type": "markdown",
   "source": [
    "TESTING FEATURE IMPORTANCE "
   ],
   "metadata": {
    "collapsed": false
   },
   "id": "c5d9308a659743da"
  },
  {
   "cell_type": "code",
   "outputs": [
    {
     "name": "stdout",
     "output_type": "stream",
     "text": [
      "Running 'feature_importance' method\n",
      "[0, 0, 2, 0]\n"
     ]
    }
   ],
   "source": [
    "feature_imp = d_imm.feature_importance()\n",
    "print(feature_imp)"
   ],
   "metadata": {
    "collapsed": false,
    "ExecuteTime": {
     "end_time": "2025-03-08T13:25:27.946205Z",
     "start_time": "2025-03-08T13:25:27.937553Z"
    }
   },
   "id": "e146bd7eb2805c4b",
   "execution_count": 14
  },
  {
   "cell_type": "code",
   "outputs": [
    {
     "data": {
      "text/plain": "<d_imm.imm_model.Node at 0x1e0c26dd910>"
     },
     "execution_count": 17,
     "metadata": {},
     "output_type": "execute_result"
    }
   ],
   "source": [
    "d_imm_tree.tree"
   ],
   "metadata": {
    "collapsed": false,
    "ExecuteTime": {
     "end_time": "2025-03-08T13:26:21.373367Z",
     "start_time": "2025-03-08T13:26:21.364603Z"
    }
   },
   "id": "62a06902f513897c",
   "execution_count": 17
  },
  {
   "cell_type": "markdown",
   "source": [
    "TESTING SCORE FUNCTIONS"
   ],
   "metadata": {
    "collapsed": false
   },
   "id": "ab14e284fc4e108c"
  },
  {
   "cell_type": "code",
   "outputs": [
    {
     "ename": "ImportError",
     "evalue": "PyArrow >= 4.0.0 must be installed; however, it was not found.",
     "output_type": "error",
     "traceback": [
      "\u001B[1;31m---------------------------------------------------------------------------\u001B[0m",
      "\u001B[1;31mModuleNotFoundError\u001B[0m                       Traceback (most recent call last)",
      "File \u001B[1;32m~\\Desktop\\FYP-code\\distributed_imm\\venv\\Lib\\site-packages\\pyspark\\sql\\pandas\\utils.py:53\u001B[0m, in \u001B[0;36mrequire_minimum_pyarrow_version\u001B[1;34m()\u001B[0m\n\u001B[0;32m     52\u001B[0m \u001B[38;5;28;01mtry\u001B[39;00m:\n\u001B[1;32m---> 53\u001B[0m     \u001B[38;5;28;01mimport\u001B[39;00m \u001B[38;5;21;01mpyarrow\u001B[39;00m\n\u001B[0;32m     55\u001B[0m     have_arrow \u001B[38;5;241m=\u001B[39m \u001B[38;5;28;01mTrue\u001B[39;00m\n",
      "\u001B[1;31mModuleNotFoundError\u001B[0m: No module named 'pyarrow'",
      "\nThe above exception was the direct cause of the following exception:\n",
      "\u001B[1;31mImportError\u001B[0m                               Traceback (most recent call last)",
      "Cell \u001B[1;32mIn[15], line 2\u001B[0m\n\u001B[0;32m      1\u001B[0m \u001B[38;5;66;03m# Compute Score and Surrogate Score with udf\u001B[39;00m\n\u001B[1;32m----> 2\u001B[0m score_value \u001B[38;5;241m=\u001B[39m \u001B[43md_imm_tree\u001B[49m\u001B[38;5;241;43m.\u001B[39;49m\u001B[43mscore\u001B[49m\u001B[43m(\u001B[49m\u001B[43mfeature_df\u001B[49m\u001B[43m)\u001B[49m\n\u001B[0;32m      3\u001B[0m surrogate_score_value \u001B[38;5;241m=\u001B[39m d_imm_tree\u001B[38;5;241m.\u001B[39msurrogate_score(feature_df)\n\u001B[0;32m      5\u001B[0m \u001B[38;5;66;03m# Print results\u001B[39;00m\n",
      "File \u001B[1;32m~\\Desktop\\FYP-code\\distributed_imm\\d_imm\\imm_model.py:526\u001B[0m, in \u001B[0;36mDistributedIMM.score\u001B[1;34m(self, x_data)\u001B[0m\n\u001B[0;32m    520\u001B[0m \u001B[38;5;250m\u001B[39m\u001B[38;5;124;03m\"\"\"\u001B[39;00m\n\u001B[0;32m    521\u001B[0m \u001B[38;5;124;03mCompute the k-means cost: sum of squared distances of points to their cluster means.\u001B[39;00m\n\u001B[0;32m    522\u001B[0m \u001B[38;5;124;03m:param x_data: The input samples as a Spark DataFrame.\u001B[39;00m\n\u001B[0;32m    523\u001B[0m \u001B[38;5;124;03m:return: k-means cost.\u001B[39;00m\n\u001B[0;32m    524\u001B[0m \u001B[38;5;124;03m\"\"\"\u001B[39;00m\n\u001B[0;32m    525\u001B[0m \u001B[38;5;66;03m# Predict clusters\u001B[39;00m\n\u001B[1;32m--> 526\u001B[0m predicted_data \u001B[38;5;241m=\u001B[39m \u001B[38;5;28;43mself\u001B[39;49m\u001B[38;5;241;43m.\u001B[39;49m\u001B[43mpredict\u001B[49m\u001B[43m(\u001B[49m\u001B[43mx_data\u001B[49m\u001B[43m)\u001B[49m\n\u001B[0;32m    528\u001B[0m \u001B[38;5;66;03m# Compute cluster means\u001B[39;00m\n\u001B[0;32m    529\u001B[0m cluster_means \u001B[38;5;241m=\u001B[39m (\n\u001B[0;32m    530\u001B[0m     predicted_data\n\u001B[0;32m    531\u001B[0m     \u001B[38;5;241m.\u001B[39mgroupBy(\u001B[38;5;124m\"\u001B[39m\u001B[38;5;124mprediction\u001B[39m\u001B[38;5;124m\"\u001B[39m)\n\u001B[0;32m    532\u001B[0m     \u001B[38;5;241m.\u001B[39magg(F\u001B[38;5;241m.\u001B[39mmean(\u001B[38;5;124m\"\u001B[39m\u001B[38;5;124mfeatures\u001B[39m\u001B[38;5;124m\"\u001B[39m)\u001B[38;5;241m.\u001B[39malias(\u001B[38;5;124m\"\u001B[39m\u001B[38;5;124mcluster_mean\u001B[39m\u001B[38;5;124m\"\u001B[39m))\n\u001B[0;32m    533\u001B[0m )\n",
      "File \u001B[1;32m~\\Desktop\\FYP-code\\distributed_imm\\d_imm\\imm_model.py:497\u001B[0m, in \u001B[0;36mDistributedIMM.predict\u001B[1;34m(self, x_data)\u001B[0m\n\u001B[0;32m    494\u001B[0m tree_broadcast \u001B[38;5;241m=\u001B[39m \u001B[38;5;28mself\u001B[39m\u001B[38;5;241m.\u001B[39mspark\u001B[38;5;241m.\u001B[39msparkContext\u001B[38;5;241m.\u001B[39mbroadcast(\u001B[38;5;28mself\u001B[39m\u001B[38;5;241m.\u001B[39mtree)\n\u001B[0;32m    496\u001B[0m \u001B[38;5;66;03m# Define Pandas UDF for batch processing\u001B[39;00m\n\u001B[1;32m--> 497\u001B[0m \u001B[38;5;129m@pandas_udf\u001B[39m\u001B[43m(\u001B[49m\u001B[43mIntegerType\u001B[49m\u001B[43m(\u001B[49m\u001B[43m)\u001B[49m\u001B[43m)\u001B[49m\n\u001B[0;32m    498\u001B[0m \u001B[38;5;28;01mdef\u001B[39;00m \u001B[38;5;21mpredict_batch\u001B[39m(features_batch: pd\u001B[38;5;241m.\u001B[39mSeries) \u001B[38;5;241m-\u001B[39m\u001B[38;5;241m>\u001B[39m pd\u001B[38;5;241m.\u001B[39mSeries:\n\u001B[0;32m    499\u001B[0m     \u001B[38;5;28;01mreturn\u001B[39;00m features_batch\u001B[38;5;241m.\u001B[39mapply(\u001B[38;5;28;01mlambda\u001B[39;00m features: \u001B[38;5;28mself\u001B[39m\u001B[38;5;241m.\u001B[39m_predict_subtree(tree_broadcast\u001B[38;5;241m.\u001B[39mvalue, np\u001B[38;5;241m.\u001B[39marray(features)))\n\u001B[0;32m    501\u001B[0m \u001B[38;5;66;03m# Apply UDF\u001B[39;00m\n",
      "File \u001B[1;32m~\\Desktop\\FYP-code\\distributed_imm\\venv\\Lib\\site-packages\\pyspark\\sql\\pandas\\functions.py:338\u001B[0m, in \u001B[0;36mpandas_udf\u001B[1;34m(f, returnType, functionType)\u001B[0m\n\u001B[0;32m    306\u001B[0m \u001B[38;5;66;03m# The following table shows most of Pandas data and SQL type conversions in Pandas UDFs that\u001B[39;00m\n\u001B[0;32m    307\u001B[0m \u001B[38;5;66;03m# are not yet visible to the user. Some of behaviors are buggy and might be changed in the near\u001B[39;00m\n\u001B[0;32m    308\u001B[0m \u001B[38;5;66;03m# future. The table might have to be eventually documented externally.\u001B[39;00m\n\u001B[1;32m   (...)\u001B[0m\n\u001B[0;32m    335\u001B[0m \u001B[38;5;66;03m# Note: Timezone is KST.\u001B[39;00m\n\u001B[0;32m    336\u001B[0m \u001B[38;5;66;03m# Note: 'X' means it throws an exception during the conversion.\u001B[39;00m\n\u001B[0;32m    337\u001B[0m require_minimum_pandas_version()\n\u001B[1;32m--> 338\u001B[0m \u001B[43mrequire_minimum_pyarrow_version\u001B[49m\u001B[43m(\u001B[49m\u001B[43m)\u001B[49m\n\u001B[0;32m    340\u001B[0m \u001B[38;5;66;03m# decorator @pandas_udf(returnType, functionType)\u001B[39;00m\n\u001B[0;32m    341\u001B[0m is_decorator \u001B[38;5;241m=\u001B[39m f \u001B[38;5;129;01mis\u001B[39;00m \u001B[38;5;28;01mNone\u001B[39;00m \u001B[38;5;129;01mor\u001B[39;00m \u001B[38;5;28misinstance\u001B[39m(f, (\u001B[38;5;28mstr\u001B[39m, DataType))\n",
      "File \u001B[1;32m~\\Desktop\\FYP-code\\distributed_imm\\venv\\Lib\\site-packages\\pyspark\\sql\\pandas\\utils.py:60\u001B[0m, in \u001B[0;36mrequire_minimum_pyarrow_version\u001B[1;34m()\u001B[0m\n\u001B[0;32m     58\u001B[0m     raised_error \u001B[38;5;241m=\u001B[39m error\n\u001B[0;32m     59\u001B[0m \u001B[38;5;28;01mif\u001B[39;00m \u001B[38;5;129;01mnot\u001B[39;00m have_arrow:\n\u001B[1;32m---> 60\u001B[0m     \u001B[38;5;28;01mraise\u001B[39;00m \u001B[38;5;167;01mImportError\u001B[39;00m(\n\u001B[0;32m     61\u001B[0m         \u001B[38;5;124m\"\u001B[39m\u001B[38;5;124mPyArrow >= \u001B[39m\u001B[38;5;132;01m%s\u001B[39;00m\u001B[38;5;124m must be installed; however, \u001B[39m\u001B[38;5;124m\"\u001B[39m\n\u001B[0;32m     62\u001B[0m         \u001B[38;5;124m\"\u001B[39m\u001B[38;5;124mit was not found.\u001B[39m\u001B[38;5;124m\"\u001B[39m \u001B[38;5;241m%\u001B[39m minimum_pyarrow_version\n\u001B[0;32m     63\u001B[0m     ) \u001B[38;5;28;01mfrom\u001B[39;00m \u001B[38;5;21;01mraised_error\u001B[39;00m\n\u001B[0;32m     64\u001B[0m \u001B[38;5;28;01mif\u001B[39;00m LooseVersion(pyarrow\u001B[38;5;241m.\u001B[39m__version__) \u001B[38;5;241m<\u001B[39m LooseVersion(minimum_pyarrow_version):\n\u001B[0;32m     65\u001B[0m     \u001B[38;5;28;01mraise\u001B[39;00m \u001B[38;5;167;01mImportError\u001B[39;00m(\n\u001B[0;32m     66\u001B[0m         \u001B[38;5;124m\"\u001B[39m\u001B[38;5;124mPyArrow >= \u001B[39m\u001B[38;5;132;01m%s\u001B[39;00m\u001B[38;5;124m must be installed; however, \u001B[39m\u001B[38;5;124m\"\u001B[39m\n\u001B[0;32m     67\u001B[0m         \u001B[38;5;124m\"\u001B[39m\u001B[38;5;124myour version was \u001B[39m\u001B[38;5;132;01m%s\u001B[39;00m\u001B[38;5;124m.\u001B[39m\u001B[38;5;124m\"\u001B[39m \u001B[38;5;241m%\u001B[39m (minimum_pyarrow_version, pyarrow\u001B[38;5;241m.\u001B[39m__version__)\n\u001B[0;32m     68\u001B[0m     )\n",
      "\u001B[1;31mImportError\u001B[0m: PyArrow >= 4.0.0 must be installed; however, it was not found."
     ]
    }
   ],
   "source": [
    "# Compute Score and Surrogate Score with udf\n",
    "score_value = d_imm_tree.score(feature_df)\n",
    "surrogate_score_value = d_imm_tree.surrogate_score(feature_df)\n",
    "\n",
    "# Print results\n",
    "print(\"\\n===== Distributed IMM Score Testing =====\")\n",
    "print(f\"Score (K-Means Cost): {score_value:.4f}\")\n",
    "print(f\"Surrogate Score (K-Means Surrogate Cost): {surrogate_score_value:.4f}\")\n",
    "\n",
    "# Validate that surrogate score is greater than or equal to k-means score\n",
    "assert surrogate_score_value >= score_value, \"Surrogate score should be greater than or equal to the normal score.\"\n",
    "\n",
    "print(\"✅ Score function tests passed successfully.\")"
   ],
   "metadata": {
    "collapsed": false,
    "ExecuteTime": {
     "end_time": "2025-03-08T13:25:28.236841Z",
     "start_time": "2025-03-08T13:25:27.949566Z"
    }
   },
   "id": "1b42e11312c13dd1",
   "execution_count": 15
  },
  {
   "cell_type": "code",
   "outputs": [
    {
     "ename": "ImportError",
     "evalue": "PyArrow >= 4.0.0 must be installed; however, it was not found.",
     "output_type": "error",
     "traceback": [
      "\u001B[1;31m---------------------------------------------------------------------------\u001B[0m",
      "\u001B[1;31mModuleNotFoundError\u001B[0m                       Traceback (most recent call last)",
      "File \u001B[1;32m~\\Desktop\\FYP-code\\distributed_imm\\venv\\Lib\\site-packages\\pyspark\\sql\\pandas\\utils.py:53\u001B[0m, in \u001B[0;36mrequire_minimum_pyarrow_version\u001B[1;34m()\u001B[0m\n\u001B[0;32m     52\u001B[0m \u001B[38;5;28;01mtry\u001B[39;00m:\n\u001B[1;32m---> 53\u001B[0m     \u001B[38;5;28;01mimport\u001B[39;00m \u001B[38;5;21;01mpyarrow\u001B[39;00m\n\u001B[0;32m     55\u001B[0m     have_arrow \u001B[38;5;241m=\u001B[39m \u001B[38;5;28;01mTrue\u001B[39;00m\n",
      "\u001B[1;31mModuleNotFoundError\u001B[0m: No module named 'pyarrow'",
      "\nThe above exception was the direct cause of the following exception:\n",
      "\u001B[1;31mImportError\u001B[0m                               Traceback (most recent call last)",
      "Cell \u001B[1;32mIn[16], line 2\u001B[0m\n\u001B[0;32m      1\u001B[0m \u001B[38;5;66;03m# Compute Score and Surrogate Score with spark sql\u001B[39;00m\n\u001B[1;32m----> 2\u001B[0m score_value \u001B[38;5;241m=\u001B[39m \u001B[43md_imm_tree\u001B[49m\u001B[38;5;241;43m.\u001B[39;49m\u001B[43mscore_sql\u001B[49m\u001B[43m(\u001B[49m\u001B[43mfeature_df\u001B[49m\u001B[43m)\u001B[49m\n\u001B[0;32m      3\u001B[0m surrogate_score_value \u001B[38;5;241m=\u001B[39m d_imm_tree\u001B[38;5;241m.\u001B[39msurrogate_score_sql(feature_df)\n\u001B[0;32m      5\u001B[0m \u001B[38;5;66;03m# Print results\u001B[39;00m\n",
      "File \u001B[1;32m~\\Desktop\\FYP-code\\distributed_imm\\d_imm\\imm_model.py:589\u001B[0m, in \u001B[0;36mDistributedIMM.score_sql\u001B[1;34m(self, x_data)\u001B[0m\n\u001B[0;32m    583\u001B[0m \u001B[38;5;250m\u001B[39m\u001B[38;5;124;03m\"\"\"\u001B[39;00m\n\u001B[0;32m    584\u001B[0m \u001B[38;5;124;03mCompute the k-means cost in a distributed manner.\u001B[39;00m\n\u001B[0;32m    585\u001B[0m \u001B[38;5;124;03m:param x_data: The input samples as a Spark DataFrame.\u001B[39;00m\n\u001B[0;32m    586\u001B[0m \u001B[38;5;124;03m:return: k-means cost.\u001B[39;00m\n\u001B[0;32m    587\u001B[0m \u001B[38;5;124;03m\"\"\"\u001B[39;00m\n\u001B[0;32m    588\u001B[0m \u001B[38;5;66;03m# Predict clusters\u001B[39;00m\n\u001B[1;32m--> 589\u001B[0m predicted_data \u001B[38;5;241m=\u001B[39m \u001B[38;5;28;43mself\u001B[39;49m\u001B[38;5;241;43m.\u001B[39;49m\u001B[43mpredict\u001B[49m\u001B[43m(\u001B[49m\u001B[43mx_data\u001B[49m\u001B[43m)\u001B[49m\n\u001B[0;32m    591\u001B[0m \u001B[38;5;66;03m# Compute cluster means\u001B[39;00m\n\u001B[0;32m    592\u001B[0m cluster_means \u001B[38;5;241m=\u001B[39m (\n\u001B[0;32m    593\u001B[0m     predicted_data\n\u001B[0;32m    594\u001B[0m     \u001B[38;5;241m.\u001B[39mgroupBy(\u001B[38;5;124m\"\u001B[39m\u001B[38;5;124mprediction\u001B[39m\u001B[38;5;124m\"\u001B[39m)\n\u001B[0;32m    595\u001B[0m     \u001B[38;5;241m.\u001B[39magg(F\u001B[38;5;241m.\u001B[39mmean(\u001B[38;5;124m\"\u001B[39m\u001B[38;5;124mfeatures\u001B[39m\u001B[38;5;124m\"\u001B[39m)\u001B[38;5;241m.\u001B[39malias(\u001B[38;5;124m\"\u001B[39m\u001B[38;5;124mcluster_mean\u001B[39m\u001B[38;5;124m\"\u001B[39m))\n\u001B[0;32m    596\u001B[0m )\n",
      "File \u001B[1;32m~\\Desktop\\FYP-code\\distributed_imm\\d_imm\\imm_model.py:497\u001B[0m, in \u001B[0;36mDistributedIMM.predict\u001B[1;34m(self, x_data)\u001B[0m\n\u001B[0;32m    494\u001B[0m tree_broadcast \u001B[38;5;241m=\u001B[39m \u001B[38;5;28mself\u001B[39m\u001B[38;5;241m.\u001B[39mspark\u001B[38;5;241m.\u001B[39msparkContext\u001B[38;5;241m.\u001B[39mbroadcast(\u001B[38;5;28mself\u001B[39m\u001B[38;5;241m.\u001B[39mtree)\n\u001B[0;32m    496\u001B[0m \u001B[38;5;66;03m# Define Pandas UDF for batch processing\u001B[39;00m\n\u001B[1;32m--> 497\u001B[0m \u001B[38;5;129m@pandas_udf\u001B[39m\u001B[43m(\u001B[49m\u001B[43mIntegerType\u001B[49m\u001B[43m(\u001B[49m\u001B[43m)\u001B[49m\u001B[43m)\u001B[49m\n\u001B[0;32m    498\u001B[0m \u001B[38;5;28;01mdef\u001B[39;00m \u001B[38;5;21mpredict_batch\u001B[39m(features_batch: pd\u001B[38;5;241m.\u001B[39mSeries) \u001B[38;5;241m-\u001B[39m\u001B[38;5;241m>\u001B[39m pd\u001B[38;5;241m.\u001B[39mSeries:\n\u001B[0;32m    499\u001B[0m     \u001B[38;5;28;01mreturn\u001B[39;00m features_batch\u001B[38;5;241m.\u001B[39mapply(\u001B[38;5;28;01mlambda\u001B[39;00m features: \u001B[38;5;28mself\u001B[39m\u001B[38;5;241m.\u001B[39m_predict_subtree(tree_broadcast\u001B[38;5;241m.\u001B[39mvalue, np\u001B[38;5;241m.\u001B[39marray(features)))\n\u001B[0;32m    501\u001B[0m \u001B[38;5;66;03m# Apply UDF\u001B[39;00m\n",
      "File \u001B[1;32m~\\Desktop\\FYP-code\\distributed_imm\\venv\\Lib\\site-packages\\pyspark\\sql\\pandas\\functions.py:338\u001B[0m, in \u001B[0;36mpandas_udf\u001B[1;34m(f, returnType, functionType)\u001B[0m\n\u001B[0;32m    306\u001B[0m \u001B[38;5;66;03m# The following table shows most of Pandas data and SQL type conversions in Pandas UDFs that\u001B[39;00m\n\u001B[0;32m    307\u001B[0m \u001B[38;5;66;03m# are not yet visible to the user. Some of behaviors are buggy and might be changed in the near\u001B[39;00m\n\u001B[0;32m    308\u001B[0m \u001B[38;5;66;03m# future. The table might have to be eventually documented externally.\u001B[39;00m\n\u001B[1;32m   (...)\u001B[0m\n\u001B[0;32m    335\u001B[0m \u001B[38;5;66;03m# Note: Timezone is KST.\u001B[39;00m\n\u001B[0;32m    336\u001B[0m \u001B[38;5;66;03m# Note: 'X' means it throws an exception during the conversion.\u001B[39;00m\n\u001B[0;32m    337\u001B[0m require_minimum_pandas_version()\n\u001B[1;32m--> 338\u001B[0m \u001B[43mrequire_minimum_pyarrow_version\u001B[49m\u001B[43m(\u001B[49m\u001B[43m)\u001B[49m\n\u001B[0;32m    340\u001B[0m \u001B[38;5;66;03m# decorator @pandas_udf(returnType, functionType)\u001B[39;00m\n\u001B[0;32m    341\u001B[0m is_decorator \u001B[38;5;241m=\u001B[39m f \u001B[38;5;129;01mis\u001B[39;00m \u001B[38;5;28;01mNone\u001B[39;00m \u001B[38;5;129;01mor\u001B[39;00m \u001B[38;5;28misinstance\u001B[39m(f, (\u001B[38;5;28mstr\u001B[39m, DataType))\n",
      "File \u001B[1;32m~\\Desktop\\FYP-code\\distributed_imm\\venv\\Lib\\site-packages\\pyspark\\sql\\pandas\\utils.py:60\u001B[0m, in \u001B[0;36mrequire_minimum_pyarrow_version\u001B[1;34m()\u001B[0m\n\u001B[0;32m     58\u001B[0m     raised_error \u001B[38;5;241m=\u001B[39m error\n\u001B[0;32m     59\u001B[0m \u001B[38;5;28;01mif\u001B[39;00m \u001B[38;5;129;01mnot\u001B[39;00m have_arrow:\n\u001B[1;32m---> 60\u001B[0m     \u001B[38;5;28;01mraise\u001B[39;00m \u001B[38;5;167;01mImportError\u001B[39;00m(\n\u001B[0;32m     61\u001B[0m         \u001B[38;5;124m\"\u001B[39m\u001B[38;5;124mPyArrow >= \u001B[39m\u001B[38;5;132;01m%s\u001B[39;00m\u001B[38;5;124m must be installed; however, \u001B[39m\u001B[38;5;124m\"\u001B[39m\n\u001B[0;32m     62\u001B[0m         \u001B[38;5;124m\"\u001B[39m\u001B[38;5;124mit was not found.\u001B[39m\u001B[38;5;124m\"\u001B[39m \u001B[38;5;241m%\u001B[39m minimum_pyarrow_version\n\u001B[0;32m     63\u001B[0m     ) \u001B[38;5;28;01mfrom\u001B[39;00m \u001B[38;5;21;01mraised_error\u001B[39;00m\n\u001B[0;32m     64\u001B[0m \u001B[38;5;28;01mif\u001B[39;00m LooseVersion(pyarrow\u001B[38;5;241m.\u001B[39m__version__) \u001B[38;5;241m<\u001B[39m LooseVersion(minimum_pyarrow_version):\n\u001B[0;32m     65\u001B[0m     \u001B[38;5;28;01mraise\u001B[39;00m \u001B[38;5;167;01mImportError\u001B[39;00m(\n\u001B[0;32m     66\u001B[0m         \u001B[38;5;124m\"\u001B[39m\u001B[38;5;124mPyArrow >= \u001B[39m\u001B[38;5;132;01m%s\u001B[39;00m\u001B[38;5;124m must be installed; however, \u001B[39m\u001B[38;5;124m\"\u001B[39m\n\u001B[0;32m     67\u001B[0m         \u001B[38;5;124m\"\u001B[39m\u001B[38;5;124myour version was \u001B[39m\u001B[38;5;132;01m%s\u001B[39;00m\u001B[38;5;124m.\u001B[39m\u001B[38;5;124m\"\u001B[39m \u001B[38;5;241m%\u001B[39m (minimum_pyarrow_version, pyarrow\u001B[38;5;241m.\u001B[39m__version__)\n\u001B[0;32m     68\u001B[0m     )\n",
      "\u001B[1;31mImportError\u001B[0m: PyArrow >= 4.0.0 must be installed; however, it was not found."
     ]
    }
   ],
   "source": [
    "# Compute Score and Surrogate Score with spark sql\n",
    "score_value = d_imm_tree.score_sql(feature_df)\n",
    "surrogate_score_value = d_imm_tree.surrogate_score_sql(feature_df)\n",
    "\n",
    "# Print results\n",
    "print(\"\\n===== Distributed IMM Score Testing =====\")\n",
    "print(f\"Score (K-Means Cost): {score_value:.4f}\")\n",
    "print(f\"Surrogate Score (K-Means Surrogate Cost): {surrogate_score_value:.4f}\")\n",
    "\n",
    "# Validate that surrogate score is greater than or equal to k-means score\n",
    "assert surrogate_score_value >= score_value, \"Surrogate score should be greater than or equal to the normal score.\"\n",
    "\n",
    "print(\"✅ Score function tests passed successfully.\")"
   ],
   "metadata": {
    "collapsed": false,
    "ExecuteTime": {
     "end_time": "2025-03-08T13:25:55.952482Z",
     "start_time": "2025-03-08T13:25:55.871487Z"
    }
   },
   "id": "ed535c9822b6a11f",
   "execution_count": 16
  },
  {
   "cell_type": "code",
   "outputs": [],
   "source": [],
   "metadata": {
    "collapsed": false,
    "ExecuteTime": {
     "start_time": "2025-03-07T17:38:29.473398Z"
    }
   },
   "id": "8cf331f6c6819436"
  },
  {
   "cell_type": "code",
   "outputs": [],
   "source": [],
   "metadata": {
    "collapsed": false
   },
   "id": "94ea9c8d3a33b9cd"
  },
  {
   "cell_type": "code",
   "outputs": [],
   "source": [],
   "metadata": {
    "collapsed": false
   },
   "id": "34858a0eb8455015"
  }
 ],
 "metadata": {
  "kernelspec": {
   "display_name": "Python 3",
   "language": "python",
   "name": "python3"
  },
  "language_info": {
   "codemirror_mode": {
    "name": "ipython",
    "version": 2
   },
   "file_extension": ".py",
   "mimetype": "text/x-python",
   "name": "python",
   "nbconvert_exporter": "python",
   "pygments_lexer": "ipython2",
   "version": "2.7.6"
  }
 },
 "nbformat": 4,
 "nbformat_minor": 5
}
