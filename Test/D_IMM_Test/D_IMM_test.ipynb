{
 "cells": [
  {
   "cell_type": "code",
   "execution_count": 1,
   "id": "initial_id",
   "metadata": {
    "collapsed": true,
    "ExecuteTime": {
     "end_time": "2025-02-27T09:14:39.115115Z",
     "start_time": "2025-02-27T09:14:29.918141Z"
    }
   },
   "outputs": [],
   "source": [
    "from pyspark.sql import SparkSession\n",
    "from pyspark.ml.clustering import KMeans\n",
    "from pyspark.ml.feature import VectorAssembler\n",
    "import pandas as pd\n",
    "\n",
    "from d_imm.imm_model import DistributedIMM"
   ]
  },
  {
   "cell_type": "code",
   "outputs": [],
   "source": [
    "import os\n",
    "\n",
    "# Set Java environment variable if needed\n",
    "os.environ[\"JAVA_HOME\"] = \"C:\\\\Program Files\\\\Java\\\\jdk1.8.0_261\"\n",
    "os.environ[\"PYSPARK_PYTHON\"] = \"C:\\\\Users\\\\saadha\\\\Desktop\\\\FYP-code\\\\GITHUB\\\\distributed-imm\\\\d-imm-python\\\\version-1\\\\venv\\\\Scripts\\\\python.exe\"\n",
    "os.environ[\"PYSPARK_DRIVER_PYTHON\"] = \"C:\\\\Users\\\\saadha\\\\Desktop\\\\FYP-code\\\\GITHUB\\\\distributed-imm\\\\d-imm-python\\\\version-1\\\\venv\\\\Scripts\\\\python.exe\""
   ],
   "metadata": {
    "collapsed": false,
    "ExecuteTime": {
     "end_time": "2025-02-27T09:14:39.122796Z",
     "start_time": "2025-02-27T09:14:39.117273Z"
    }
   },
   "id": "1059671c73eec2d5",
   "execution_count": 2
  },
  {
   "cell_type": "code",
   "outputs": [],
   "source": [
    "spark = SparkSession.builder \\\n",
    "    .appName(\"KMeansIrisExample\") \\\n",
    "    .master(\"local[*]\") \\\n",
    "    .config(\"spark.executor.memory\", \"4g\") \\\n",
    "    .config(\"spark.driver.memory\", \"4g\") \\\n",
    "    .getOrCreate()"
   ],
   "metadata": {
    "collapsed": false,
    "ExecuteTime": {
     "end_time": "2025-02-27T09:15:33.330357Z",
     "start_time": "2025-02-27T09:14:39.124999Z"
    }
   },
   "id": "1cb6d646eb22c860",
   "execution_count": 3
  },
  {
   "cell_type": "code",
   "outputs": [],
   "source": [
    "sc = spark.sparkContext"
   ],
   "metadata": {
    "collapsed": false,
    "ExecuteTime": {
     "end_time": "2025-02-27T09:15:33.378838Z",
     "start_time": "2025-02-27T09:15:33.352109Z"
    }
   },
   "id": "4f4968f2137853d7",
   "execution_count": 4
  },
  {
   "cell_type": "code",
   "outputs": [],
   "source": [
    "# Load the Iris dataset from the UCI Machine Learning Repository\n",
    "url = \"https://archive.ics.uci.edu/ml/machine-learning-databases/iris/iris.data\"\n",
    "column_names = [\"sepal_length\", \"sepal_width\", \"petal_length\", \"petal_width\", \"species\"]\n",
    "iris_df = pd.read_csv(url, header=None, names=column_names)"
   ],
   "metadata": {
    "collapsed": false,
    "ExecuteTime": {
     "end_time": "2025-02-27T09:16:01.218734Z",
     "start_time": "2025-02-27T09:15:58.694633Z"
    }
   },
   "id": "b3b9d0a575578fdd",
   "execution_count": 6
  },
  {
   "cell_type": "code",
   "outputs": [],
   "source": [
    "# Convert the pandas DataFrame to a Spark DataFrame\n",
    "df_1 = spark.createDataFrame(iris_df)\n",
    "\n",
    "# Stack the dataset 5 times row-wise\n",
    "df = df_1\n",
    "for _ in range(0):  # Repeat 4 more times to stack 5 times total\n",
    "    df = df.union(df_1)"
   ],
   "metadata": {
    "collapsed": false,
    "ExecuteTime": {
     "end_time": "2025-02-27T09:16:05.011656Z",
     "start_time": "2025-02-27T09:16:01.220203Z"
    }
   },
   "id": "35079de4f208c08d",
   "execution_count": 7
  },
  {
   "cell_type": "code",
   "outputs": [],
   "source": [
    "# Assemble features into a single vector column\n",
    "assembler = VectorAssembler(\n",
    "    inputCols=[\"sepal_length\", \"sepal_width\", \"petal_length\", \"petal_width\"],\n",
    "    outputCol=\"features\"\n",
    ")\n",
    "\n",
    "feature_df = assembler.transform(df)"
   ],
   "metadata": {
    "collapsed": false,
    "ExecuteTime": {
     "end_time": "2025-02-27T09:16:07.325049Z",
     "start_time": "2025-02-27T09:16:05.014181Z"
    }
   },
   "id": "24e16358ad51cdac",
   "execution_count": 8
  },
  {
   "cell_type": "code",
   "outputs": [],
   "source": [
    "# Set up the KMeans model (k=3 for the three species in the Iris dataset)\n",
    "kmeans = KMeans().setK(3).setSeed(1).setFeaturesCol(\"features\")\n",
    "\n",
    "# Fit the model\n",
    "model = kmeans.fit(feature_df)"
   ],
   "metadata": {
    "collapsed": false,
    "ExecuteTime": {
     "end_time": "2025-02-27T09:16:51.326103Z",
     "start_time": "2025-02-27T09:16:07.530093Z"
    }
   },
   "id": "3a96f2c1e3cdb9c6",
   "execution_count": 9
  },
  {
   "cell_type": "code",
   "outputs": [
    {
     "name": "stdout",
     "output_type": "stream",
     "text": [
      "Running 'fit' method\n",
      "Cluster centers: [array([6.85384615, 3.07692308, 5.71538462, 2.05384615]), array([5.006, 3.418, 1.464, 0.244]), array([5.88360656, 2.74098361, 4.38852459, 1.43442623])]\n",
      "Sample of clustered data:\n",
      "+-----------------+----------+\n",
      "|         features|prediction|\n",
      "+-----------------+----------+\n",
      "|[5.1,3.5,1.4,0.2]|         1|\n",
      "|[4.9,3.0,1.4,0.2]|         1|\n",
      "|[4.7,3.2,1.3,0.2]|         1|\n",
      "|[4.6,3.1,1.5,0.2]|         1|\n",
      "|[5.0,3.6,1.4,0.2]|         1|\n",
      "+-----------------+----------+\n",
      "only showing top 5 rows\n",
      "Time taken to build the histogram: 0 minutes and 44.82 seconds\n",
      "Histogram: [[Split(feature_index=0, threshold=np.float64(4.55), categories=None, is_continuous=True), Split(feature_index=0, threshold=np.float64(4.65), categories=None, is_continuous=True), Split(feature_index=0, threshold=np.float64(4.85), categories=None, is_continuous=True), Split(feature_index=0, threshold=np.float64(4.95), categories=None, is_continuous=True), Split(feature_index=0, threshold=np.float64(5.05), categories=None, is_continuous=True), Split(feature_index=0, threshold=np.float64(5.15), categories=None, is_continuous=True), Split(feature_index=0, threshold=np.float64(5.25), categories=None, is_continuous=True), Split(feature_index=0, threshold=np.float64(5.35), categories=None, is_continuous=True), Split(feature_index=0, threshold=np.float64(5.45), categories=None, is_continuous=True), Split(feature_index=0, threshold=np.float64(5.55), categories=None, is_continuous=True), Split(feature_index=0, threshold=np.float64(5.65), categories=None, is_continuous=True), Split(feature_index=0, threshold=np.float64(5.75), categories=None, is_continuous=True), Split(feature_index=0, threshold=np.float64(5.85), categories=None, is_continuous=True), Split(feature_index=0, threshold=np.float64(5.95), categories=None, is_continuous=True), Split(feature_index=0, threshold=np.float64(6.05), categories=None, is_continuous=True), Split(feature_index=0, threshold=np.float64(6.15), categories=None, is_continuous=True), Split(feature_index=0, threshold=np.float64(6.25), categories=None, is_continuous=True), Split(feature_index=0, threshold=np.float64(6.35), categories=None, is_continuous=True), Split(feature_index=0, threshold=np.float64(6.45), categories=None, is_continuous=True), Split(feature_index=0, threshold=np.float64(6.55), categories=None, is_continuous=True), Split(feature_index=0, threshold=np.float64(6.65), categories=None, is_continuous=True), Split(feature_index=0, threshold=np.float64(6.75), categories=None, is_continuous=True), Split(feature_index=0, threshold=np.float64(6.85), categories=None, is_continuous=True), Split(feature_index=0, threshold=np.float64(6.95), categories=None, is_continuous=True), Split(feature_index=0, threshold=np.float64(7.05), categories=None, is_continuous=True), Split(feature_index=0, threshold=np.float64(7.15), categories=None, is_continuous=True), Split(feature_index=0, threshold=np.float64(7.25), categories=None, is_continuous=True), Split(feature_index=0, threshold=np.float64(7.35), categories=None, is_continuous=True), Split(feature_index=0, threshold=np.float64(7.5), categories=None, is_continuous=True), Split(feature_index=0, threshold=np.float64(7.65), categories=None, is_continuous=True), Split(feature_index=0, threshold=np.float64(7.800000000000001), categories=None, is_continuous=True)], [Split(feature_index=1, threshold=np.float64(2.1), categories=None, is_continuous=True), Split(feature_index=1, threshold=np.float64(2.25), categories=None, is_continuous=True), Split(feature_index=1, threshold=np.float64(2.3499999999999996), categories=None, is_continuous=True), Split(feature_index=1, threshold=np.float64(2.45), categories=None, is_continuous=True), Split(feature_index=1, threshold=np.float64(2.55), categories=None, is_continuous=True), Split(feature_index=1, threshold=np.float64(2.6500000000000004), categories=None, is_continuous=True), Split(feature_index=1, threshold=np.float64(2.75), categories=None, is_continuous=True), Split(feature_index=1, threshold=np.float64(2.8499999999999996), categories=None, is_continuous=True), Split(feature_index=1, threshold=np.float64(2.95), categories=None, is_continuous=True), Split(feature_index=1, threshold=np.float64(3.05), categories=None, is_continuous=True), Split(feature_index=1, threshold=np.float64(3.1500000000000004), categories=None, is_continuous=True), Split(feature_index=1, threshold=np.float64(3.25), categories=None, is_continuous=True), Split(feature_index=1, threshold=np.float64(3.3499999999999996), categories=None, is_continuous=True), Split(feature_index=1, threshold=np.float64(3.45), categories=None, is_continuous=True), Split(feature_index=1, threshold=np.float64(3.55), categories=None, is_continuous=True), Split(feature_index=1, threshold=np.float64(3.6500000000000004), categories=None, is_continuous=True), Split(feature_index=1, threshold=np.float64(3.75), categories=None, is_continuous=True), Split(feature_index=1, threshold=np.float64(3.8499999999999996), categories=None, is_continuous=True), Split(feature_index=1, threshold=np.float64(3.95), categories=None, is_continuous=True), Split(feature_index=1, threshold=np.float64(4.05), categories=None, is_continuous=True), Split(feature_index=1, threshold=np.float64(4.15), categories=None, is_continuous=True), Split(feature_index=1, threshold=np.float64(4.300000000000001), categories=None, is_continuous=True)], [Split(feature_index=2, threshold=np.float64(1.25), categories=None, is_continuous=True), Split(feature_index=2, threshold=np.float64(1.35), categories=None, is_continuous=True), Split(feature_index=2, threshold=np.float64(1.45), categories=None, is_continuous=True), Split(feature_index=2, threshold=np.float64(1.55), categories=None, is_continuous=True), Split(feature_index=2, threshold=np.float64(1.65), categories=None, is_continuous=True), Split(feature_index=2, threshold=np.float64(1.7999999999999998), categories=None, is_continuous=True), Split(feature_index=2, threshold=np.float64(2.45), categories=None, is_continuous=True), Split(feature_index=2, threshold=np.float64(3.15), categories=None, is_continuous=True), Split(feature_index=2, threshold=np.float64(3.4), categories=None, is_continuous=True), Split(feature_index=2, threshold=np.float64(3.55), categories=None, is_continuous=True), Split(feature_index=2, threshold=np.float64(3.6500000000000004), categories=None, is_continuous=True), Split(feature_index=2, threshold=np.float64(3.75), categories=None, is_continuous=True), Split(feature_index=2, threshold=np.float64(3.8499999999999996), categories=None, is_continuous=True), Split(feature_index=2, threshold=np.float64(4.05), categories=None, is_continuous=True), Split(feature_index=2, threshold=np.float64(4.15), categories=None, is_continuous=True), Split(feature_index=2, threshold=np.float64(4.25), categories=None, is_continuous=True), Split(feature_index=2, threshold=np.float64(4.45), categories=None, is_continuous=True), Split(feature_index=2, threshold=np.float64(4.55), categories=None, is_continuous=True), Split(feature_index=2, threshold=np.float64(4.65), categories=None, is_continuous=True), Split(feature_index=2, threshold=np.float64(4.75), categories=None, is_continuous=True), Split(feature_index=2, threshold=np.float64(4.85), categories=None, is_continuous=True), Split(feature_index=2, threshold=np.float64(4.95), categories=None, is_continuous=True), Split(feature_index=2, threshold=np.float64(5.05), categories=None, is_continuous=True), Split(feature_index=2, threshold=np.float64(5.15), categories=None, is_continuous=True), Split(feature_index=2, threshold=np.float64(5.25), categories=None, is_continuous=True), Split(feature_index=2, threshold=np.float64(5.35), categories=None, is_continuous=True), Split(feature_index=2, threshold=np.float64(5.45), categories=None, is_continuous=True), Split(feature_index=2, threshold=np.float64(5.55), categories=None, is_continuous=True), Split(feature_index=2, threshold=np.float64(5.65), categories=None, is_continuous=True), Split(feature_index=2, threshold=np.float64(5.85), categories=None, is_continuous=True), Split(feature_index=2, threshold=np.float64(6.05), categories=None, is_continuous=True), Split(feature_index=2, threshold=np.float64(6.35), categories=None, is_continuous=True)], [Split(feature_index=3, threshold=np.float64(0.15000000000000002), categories=None, is_continuous=True), Split(feature_index=3, threshold=np.float64(0.25), categories=None, is_continuous=True), Split(feature_index=3, threshold=np.float64(0.35), categories=None, is_continuous=True), Split(feature_index=3, threshold=np.float64(0.45), categories=None, is_continuous=True), Split(feature_index=3, threshold=np.float64(0.55), categories=None, is_continuous=True), Split(feature_index=3, threshold=np.float64(0.8), categories=None, is_continuous=True), Split(feature_index=3, threshold=np.float64(1.05), categories=None, is_continuous=True), Split(feature_index=3, threshold=np.float64(1.15), categories=None, is_continuous=True), Split(feature_index=3, threshold=np.float64(1.25), categories=None, is_continuous=True), Split(feature_index=3, threshold=np.float64(1.35), categories=None, is_continuous=True), Split(feature_index=3, threshold=np.float64(1.45), categories=None, is_continuous=True), Split(feature_index=3, threshold=np.float64(1.55), categories=None, is_continuous=True), Split(feature_index=3, threshold=np.float64(1.65), categories=None, is_continuous=True), Split(feature_index=3, threshold=np.float64(1.75), categories=None, is_continuous=True), Split(feature_index=3, threshold=np.float64(1.85), categories=None, is_continuous=True), Split(feature_index=3, threshold=np.float64(1.95), categories=None, is_continuous=True), Split(feature_index=3, threshold=np.float64(2.05), categories=None, is_continuous=True), Split(feature_index=3, threshold=np.float64(2.1500000000000004), categories=None, is_continuous=True), Split(feature_index=3, threshold=np.float64(2.25), categories=None, is_continuous=True), Split(feature_index=3, threshold=np.float64(2.3499999999999996), categories=None, is_continuous=True), Split(feature_index=3, threshold=np.float64(2.45), categories=None, is_continuous=True)]]\n",
      "Building node at depth 0 with 150 samples\n",
      "Finding the best split using histogram thresholds in a distributed manner\n",
      "Time taken to collect results from worker nodes: 0 minutes and 21.13 seconds\n",
      "Flattened results: [{'feature': 0, 'threshold': 5.006, 'mistakes': 7}, {'feature': 0, 'threshold': 5.05, 'mistakes': 7}, {'feature': 0, 'threshold': 5.15, 'mistakes': 5}, {'feature': 0, 'threshold': 5.25, 'mistakes': 5}, {'feature': 0, 'threshold': 5.35, 'mistakes': 5}, {'feature': 0, 'threshold': 5.45, 'mistakes': 2}, {'feature': 0, 'threshold': 5.55, 'mistakes': 2}, {'feature': 0, 'threshold': 5.65, 'mistakes': 2}, {'feature': 0, 'threshold': 5.75, 'mistakes': 1}, {'feature': 0, 'threshold': 5.85, 'mistakes': 0}, {'feature': 0, 'threshold': 5.883606557377049, 'mistakes': 0}, {'feature': 0, 'threshold': 5.95, 'mistakes': 0}, {'feature': 0, 'threshold': 6.05, 'mistakes': 0}, {'feature': 0, 'threshold': 6.15, 'mistakes': 0}, {'feature': 0, 'threshold': 6.25, 'mistakes': 0}, {'feature': 0, 'threshold': 6.35, 'mistakes': 0}, {'feature': 0, 'threshold': 6.45, 'mistakes': 0}, {'feature': 0, 'threshold': 6.55, 'mistakes': 0}, {'feature': 0, 'threshold': 6.65, 'mistakes': 0}, {'feature': 0, 'threshold': 6.75, 'mistakes': 0}, {'feature': 0, 'threshold': 6.85, 'mistakes': 0}, {'feature': 1, 'threshold': 2.740983606557377, 'mistakes': 0}, {'feature': 1, 'threshold': 2.75, 'mistakes': 0}, {'feature': 1, 'threshold': 2.8499999999999996, 'mistakes': 0}, {'feature': 1, 'threshold': 2.95, 'mistakes': 1}, {'feature': 1, 'threshold': 3.05, 'mistakes': 4}, {'feature': 1, 'threshold': 3.0769230769230766, 'mistakes': 4}, {'feature': 1, 'threshold': 3.1500000000000004, 'mistakes': 6}, {'feature': 1, 'threshold': 3.25, 'mistakes': 7}, {'feature': 1, 'threshold': 3.3499999999999996, 'mistakes': 7}, {'feature': 2, 'threshold': 1.4639999999999997, 'mistakes': 7}, {'feature': 2, 'threshold': 1.55, 'mistakes': 2}, {'feature': 2, 'threshold': 1.65, 'mistakes': 1}, {'feature': 2, 'threshold': 1.7999999999999998, 'mistakes': 0}, {'feature': 2, 'threshold': 2.45, 'mistakes': 0}, {'feature': 2, 'threshold': 3.15, 'mistakes': 0}, {'feature': 2, 'threshold': 3.4, 'mistakes': 0}, {'feature': 2, 'threshold': 3.55, 'mistakes': 0}, {'feature': 2, 'threshold': 3.6500000000000004, 'mistakes': 0}, {'feature': 2, 'threshold': 3.75, 'mistakes': 0}, {'feature': 2, 'threshold': 3.8499999999999996, 'mistakes': 0}, {'feature': 2, 'threshold': 4.05, 'mistakes': 0}, {'feature': 2, 'threshold': 4.15, 'mistakes': 0}, {'feature': 2, 'threshold': 4.25, 'mistakes': 0}, {'feature': 2, 'threshold': 4.388524590163936, 'mistakes': 0}, {'feature': 2, 'threshold': 4.45, 'mistakes': 0}, {'feature': 2, 'threshold': 4.55, 'mistakes': 0}, {'feature': 2, 'threshold': 4.65, 'mistakes': 0}, {'feature': 2, 'threshold': 4.75, 'mistakes': 0}, {'feature': 2, 'threshold': 4.85, 'mistakes': 0}, {'feature': 2, 'threshold': 4.95, 'mistakes': 0}, {'feature': 2, 'threshold': 5.05, 'mistakes': 0}, {'feature': 2, 'threshold': 5.15, 'mistakes': 0}, {'feature': 2, 'threshold': 5.25, 'mistakes': 0}, {'feature': 2, 'threshold': 5.35, 'mistakes': 0}, {'feature': 2, 'threshold': 5.45, 'mistakes': 0}, {'feature': 2, 'threshold': 5.55, 'mistakes': 0}, {'feature': 2, 'threshold': 5.65, 'mistakes': 0}, {'feature': 3, 'threshold': 0.24400000000000005, 'mistakes': 5}, {'feature': 3, 'threshold': 0.25, 'mistakes': 5}, {'feature': 3, 'threshold': 0.35, 'mistakes': 3}, {'feature': 3, 'threshold': 0.45, 'mistakes': 0}, {'feature': 3, 'threshold': 0.55, 'mistakes': 0}, {'feature': 3, 'threshold': 0.8, 'mistakes': 0}, {'feature': 3, 'threshold': 1.05, 'mistakes': 0}, {'feature': 3, 'threshold': 1.15, 'mistakes': 0}, {'feature': 3, 'threshold': 1.25, 'mistakes': 0}, {'feature': 3, 'threshold': 1.35, 'mistakes': 0}, {'feature': 3, 'threshold': 1.434426229508197, 'mistakes': 0}, {'feature': 3, 'threshold': 1.45, 'mistakes': 0}, {'feature': 3, 'threshold': 1.55, 'mistakes': 0}, {'feature': 3, 'threshold': 1.65, 'mistakes': 0}, {'feature': 3, 'threshold': 1.75, 'mistakes': 0}, {'feature': 3, 'threshold': 1.85, 'mistakes': 0}, {'feature': 3, 'threshold': 1.95, 'mistakes': 0}, {'feature': 3, 'threshold': 2.05, 'mistakes': 0}, {'feature': 0, 'threshold': 5.006, 'mistakes': 10}, {'feature': 0, 'threshold': 5.05, 'mistakes': 10}, {'feature': 0, 'threshold': 5.15, 'mistakes': 7}, {'feature': 0, 'threshold': 5.25, 'mistakes': 4}, {'feature': 0, 'threshold': 5.35, 'mistakes': 4}, {'feature': 0, 'threshold': 5.45, 'mistakes': 2}, {'feature': 0, 'threshold': 5.55, 'mistakes': 1}, {'feature': 0, 'threshold': 5.65, 'mistakes': 1}, {'feature': 0, 'threshold': 5.75, 'mistakes': 0}, {'feature': 0, 'threshold': 5.85, 'mistakes': 0}, {'feature': 0, 'threshold': 5.883606557377049, 'mistakes': 0}, {'feature': 0, 'threshold': 5.95, 'mistakes': 0}, {'feature': 0, 'threshold': 6.05, 'mistakes': 0}, {'feature': 0, 'threshold': 6.15, 'mistakes': 0}, {'feature': 0, 'threshold': 6.25, 'mistakes': 0}, {'feature': 0, 'threshold': 6.35, 'mistakes': 0}, {'feature': 0, 'threshold': 6.45, 'mistakes': 0}, {'feature': 0, 'threshold': 6.55, 'mistakes': 0}, {'feature': 0, 'threshold': 6.65, 'mistakes': 0}, {'feature': 0, 'threshold': 6.75, 'mistakes': 0}, {'feature': 0, 'threshold': 6.85, 'mistakes': 0}, {'feature': 1, 'threshold': 2.740983606557377, 'mistakes': 0}, {'feature': 1, 'threshold': 2.75, 'mistakes': 0}, {'feature': 1, 'threshold': 2.8499999999999996, 'mistakes': 0}, {'feature': 1, 'threshold': 2.95, 'mistakes': 0}, {'feature': 1, 'threshold': 3.05, 'mistakes': 1}, {'feature': 1, 'threshold': 3.0769230769230766, 'mistakes': 1}, {'feature': 1, 'threshold': 3.1500000000000004, 'mistakes': 3}, {'feature': 1, 'threshold': 3.25, 'mistakes': 5}, {'feature': 1, 'threshold': 3.3499999999999996, 'mistakes': 6}, {'feature': 2, 'threshold': 1.4639999999999997, 'mistakes': 14}, {'feature': 2, 'threshold': 1.55, 'mistakes': 8}, {'feature': 2, 'threshold': 1.65, 'mistakes': 4}, {'feature': 2, 'threshold': 1.7999999999999998, 'mistakes': 1}, {'feature': 2, 'threshold': 2.45, 'mistakes': 0}, {'feature': 2, 'threshold': 3.15, 'mistakes': 0}, {'feature': 2, 'threshold': 3.4, 'mistakes': 0}, {'feature': 2, 'threshold': 3.55, 'mistakes': 0}, {'feature': 2, 'threshold': 3.6500000000000004, 'mistakes': 0}, {'feature': 2, 'threshold': 3.75, 'mistakes': 0}, {'feature': 2, 'threshold': 3.8499999999999996, 'mistakes': 0}, {'feature': 2, 'threshold': 4.05, 'mistakes': 0}, {'feature': 2, 'threshold': 4.15, 'mistakes': 0}, {'feature': 2, 'threshold': 4.25, 'mistakes': 0}, {'feature': 2, 'threshold': 4.388524590163936, 'mistakes': 0}, {'feature': 2, 'threshold': 4.45, 'mistakes': 0}, {'feature': 2, 'threshold': 4.55, 'mistakes': 0}, {'feature': 2, 'threshold': 4.65, 'mistakes': 0}, {'feature': 2, 'threshold': 4.75, 'mistakes': 0}, {'feature': 2, 'threshold': 4.85, 'mistakes': 0}, {'feature': 2, 'threshold': 4.95, 'mistakes': 0}, {'feature': 2, 'threshold': 5.05, 'mistakes': 0}, {'feature': 2, 'threshold': 5.15, 'mistakes': 0}, {'feature': 2, 'threshold': 5.25, 'mistakes': 0}, {'feature': 2, 'threshold': 5.35, 'mistakes': 0}, {'feature': 2, 'threshold': 5.45, 'mistakes': 0}, {'feature': 2, 'threshold': 5.55, 'mistakes': 0}, {'feature': 2, 'threshold': 5.65, 'mistakes': 0}, {'feature': 3, 'threshold': 0.24400000000000005, 'mistakes': 6}, {'feature': 3, 'threshold': 0.25, 'mistakes': 6}, {'feature': 3, 'threshold': 0.35, 'mistakes': 4}, {'feature': 3, 'threshold': 0.45, 'mistakes': 1}, {'feature': 3, 'threshold': 0.55, 'mistakes': 0}, {'feature': 3, 'threshold': 0.8, 'mistakes': 0}, {'feature': 3, 'threshold': 1.05, 'mistakes': 0}, {'feature': 3, 'threshold': 1.15, 'mistakes': 0}, {'feature': 3, 'threshold': 1.25, 'mistakes': 0}, {'feature': 3, 'threshold': 1.35, 'mistakes': 0}, {'feature': 3, 'threshold': 1.434426229508197, 'mistakes': 0}, {'feature': 3, 'threshold': 1.45, 'mistakes': 0}, {'feature': 3, 'threshold': 1.55, 'mistakes': 0}, {'feature': 3, 'threshold': 1.65, 'mistakes': 0}, {'feature': 3, 'threshold': 1.75, 'mistakes': 0}, {'feature': 3, 'threshold': 1.85, 'mistakes': 0}, {'feature': 3, 'threshold': 1.95, 'mistakes': 0}, {'feature': 3, 'threshold': 2.05, 'mistakes': 0}, {'feature': 0, 'threshold': 5.006, 'mistakes': 5}, {'feature': 0, 'threshold': 5.05, 'mistakes': 5}, {'feature': 0, 'threshold': 5.15, 'mistakes': 2}, {'feature': 0, 'threshold': 5.25, 'mistakes': 2}, {'feature': 0, 'threshold': 5.35, 'mistakes': 1}, {'feature': 0, 'threshold': 5.45, 'mistakes': 1}, {'feature': 0, 'threshold': 5.55, 'mistakes': 1}, {'feature': 0, 'threshold': 5.65, 'mistakes': 1}, {'feature': 0, 'threshold': 5.75, 'mistakes': 1}, {'feature': 0, 'threshold': 5.85, 'mistakes': 1}, {'feature': 0, 'threshold': 5.883606557377049, 'mistakes': 1}, {'feature': 0, 'threshold': 5.95, 'mistakes': 1}, {'feature': 0, 'threshold': 6.05, 'mistakes': 1}, {'feature': 0, 'threshold': 6.15, 'mistakes': 1}, {'feature': 0, 'threshold': 6.25, 'mistakes': 1}, {'feature': 0, 'threshold': 6.35, 'mistakes': 1}, {'feature': 0, 'threshold': 6.45, 'mistakes': 0}, {'feature': 0, 'threshold': 6.55, 'mistakes': 0}, {'feature': 0, 'threshold': 6.65, 'mistakes': 0}, {'feature': 0, 'threshold': 6.75, 'mistakes': 0}, {'feature': 0, 'threshold': 6.85, 'mistakes': 0}, {'feature': 1, 'threshold': 2.740983606557377, 'mistakes': 2}, {'feature': 1, 'threshold': 2.75, 'mistakes': 2}, {'feature': 1, 'threshold': 2.8499999999999996, 'mistakes': 2}, {'feature': 1, 'threshold': 2.95, 'mistakes': 2}, {'feature': 1, 'threshold': 3.05, 'mistakes': 4}, {'feature': 1, 'threshold': 3.0769230769230766, 'mistakes': 6}, {'feature': 1, 'threshold': 3.1500000000000004, 'mistakes': 6}, {'feature': 1, 'threshold': 3.25, 'mistakes': 6}, {'feature': 1, 'threshold': 3.3499999999999996, 'mistakes': 7}, {'feature': 2, 'threshold': 1.4639999999999997, 'mistakes': 6}, {'feature': 2, 'threshold': 1.55, 'mistakes': 3}, {'feature': 2, 'threshold': 1.65, 'mistakes': 1}, {'feature': 2, 'threshold': 1.7999999999999998, 'mistakes': 1}, {'feature': 2, 'threshold': 2.45, 'mistakes': 0}, {'feature': 2, 'threshold': 3.15, 'mistakes': 0}, {'feature': 2, 'threshold': 3.4, 'mistakes': 0}, {'feature': 2, 'threshold': 3.55, 'mistakes': 0}, {'feature': 2, 'threshold': 3.6500000000000004, 'mistakes': 0}, {'feature': 2, 'threshold': 3.75, 'mistakes': 0}, {'feature': 2, 'threshold': 3.8499999999999996, 'mistakes': 0}, {'feature': 2, 'threshold': 4.05, 'mistakes': 1}, {'feature': 2, 'threshold': 4.15, 'mistakes': 1}, {'feature': 2, 'threshold': 4.25, 'mistakes': 1}, {'feature': 2, 'threshold': 4.388524590163936, 'mistakes': 1}, {'feature': 2, 'threshold': 4.45, 'mistakes': 1}, {'feature': 2, 'threshold': 4.55, 'mistakes': 0}, {'feature': 2, 'threshold': 4.65, 'mistakes': 0}, {'feature': 2, 'threshold': 4.75, 'mistakes': 1}, {'feature': 2, 'threshold': 4.85, 'mistakes': 1}, {'feature': 2, 'threshold': 4.95, 'mistakes': 2}, {'feature': 2, 'threshold': 5.05, 'mistakes': 2}, {'feature': 2, 'threshold': 5.15, 'mistakes': 2}, {'feature': 2, 'threshold': 5.25, 'mistakes': 2}, {'feature': 2, 'threshold': 5.35, 'mistakes': 2}, {'feature': 2, 'threshold': 5.45, 'mistakes': 2}, {'feature': 2, 'threshold': 5.55, 'mistakes': 2}, {'feature': 2, 'threshold': 5.65, 'mistakes': 2}, {'feature': 3, 'threshold': 0.24400000000000005, 'mistakes': 5}, {'feature': 3, 'threshold': 0.25, 'mistakes': 5}, {'feature': 3, 'threshold': 0.35, 'mistakes': 2}, {'feature': 3, 'threshold': 0.45, 'mistakes': 1}, {'feature': 3, 'threshold': 0.55, 'mistakes': 1}, {'feature': 3, 'threshold': 0.8, 'mistakes': 0}, {'feature': 3, 'threshold': 1.05, 'mistakes': 0}, {'feature': 3, 'threshold': 1.15, 'mistakes': 0}, {'feature': 3, 'threshold': 1.25, 'mistakes': 0}, {'feature': 3, 'threshold': 1.35, 'mistakes': 1}, {'feature': 3, 'threshold': 1.434426229508197, 'mistakes': 2}, {'feature': 3, 'threshold': 1.45, 'mistakes': 2}, {'feature': 3, 'threshold': 1.55, 'mistakes': 2}, {'feature': 3, 'threshold': 1.65, 'mistakes': 2}, {'feature': 3, 'threshold': 1.75, 'mistakes': 2}, {'feature': 3, 'threshold': 1.85, 'mistakes': 2}, {'feature': 3, 'threshold': 1.95, 'mistakes': 2}, {'feature': 3, 'threshold': 2.05, 'mistakes': 2}, {'feature': 0, 'threshold': 5.006, 'mistakes': 2}, {'feature': 0, 'threshold': 5.05, 'mistakes': 2}, {'feature': 0, 'threshold': 5.15, 'mistakes': 2}, {'feature': 0, 'threshold': 5.25, 'mistakes': 3}, {'feature': 0, 'threshold': 5.35, 'mistakes': 3}, {'feature': 0, 'threshold': 5.45, 'mistakes': 3}, {'feature': 0, 'threshold': 5.55, 'mistakes': 3}, {'feature': 0, 'threshold': 5.65, 'mistakes': 6}, {'feature': 0, 'threshold': 5.75, 'mistakes': 7}, {'feature': 0, 'threshold': 5.85, 'mistakes': 8}, {'feature': 0, 'threshold': 5.883606557377049, 'mistakes': 10}, {'feature': 0, 'threshold': 5.95, 'mistakes': 8}, {'feature': 0, 'threshold': 6.05, 'mistakes': 7}, {'feature': 0, 'threshold': 6.15, 'mistakes': 5}, {'feature': 0, 'threshold': 6.25, 'mistakes': 4}, {'feature': 0, 'threshold': 6.35, 'mistakes': 3}, {'feature': 0, 'threshold': 6.45, 'mistakes': 3}, {'feature': 0, 'threshold': 6.55, 'mistakes': 2}, {'feature': 0, 'threshold': 6.65, 'mistakes': 1}, {'feature': 0, 'threshold': 6.75, 'mistakes': 0}, {'feature': 0, 'threshold': 6.85, 'mistakes': 0}, {'feature': 1, 'threshold': 2.740983606557377, 'mistakes': 11}, {'feature': 1, 'threshold': 2.75, 'mistakes': 11}, {'feature': 1, 'threshold': 2.8499999999999996, 'mistakes': 8}, {'feature': 1, 'threshold': 2.95, 'mistakes': 5}, {'feature': 1, 'threshold': 3.05, 'mistakes': 3}, {'feature': 1, 'threshold': 3.0769230769230766, 'mistakes': 3}, {'feature': 1, 'threshold': 3.1500000000000004, 'mistakes': 2}, {'feature': 1, 'threshold': 3.25, 'mistakes': 1}, {'feature': 1, 'threshold': 3.3499999999999996, 'mistakes': 0}, {'feature': 2, 'threshold': 1.4639999999999997, 'mistakes': 0}, {'feature': 2, 'threshold': 1.55, 'mistakes': 0}, {'feature': 2, 'threshold': 1.65, 'mistakes': 0}, {'feature': 2, 'threshold': 1.7999999999999998, 'mistakes': 0}, {'feature': 2, 'threshold': 2.45, 'mistakes': 0}, {'feature': 2, 'threshold': 3.15, 'mistakes': 0}, {'feature': 2, 'threshold': 3.4, 'mistakes': 1}, {'feature': 2, 'threshold': 3.55, 'mistakes': 2}, {'feature': 2, 'threshold': 3.6500000000000004, 'mistakes': 3}, {'feature': 2, 'threshold': 3.75, 'mistakes': 3}, {'feature': 2, 'threshold': 3.8499999999999996, 'mistakes': 3}, {'feature': 2, 'threshold': 4.05, 'mistakes': 7}, {'feature': 2, 'threshold': 4.15, 'mistakes': 8}, {'feature': 2, 'threshold': 4.25, 'mistakes': 9}, {'feature': 2, 'threshold': 4.388524590163936, 'mistakes': 9}, {'feature': 2, 'threshold': 4.45, 'mistakes': 8}, {'feature': 2, 'threshold': 4.55, 'mistakes': 5}, {'feature': 2, 'threshold': 4.65, 'mistakes': 3}, {'feature': 2, 'threshold': 4.75, 'mistakes': 1}, {'feature': 2, 'threshold': 4.85, 'mistakes': 0}, {'feature': 2, 'threshold': 4.95, 'mistakes': 0}, {'feature': 2, 'threshold': 5.05, 'mistakes': 0}, {'feature': 2, 'threshold': 5.15, 'mistakes': 0}, {'feature': 2, 'threshold': 5.25, 'mistakes': 0}, {'feature': 2, 'threshold': 5.35, 'mistakes': 0}, {'feature': 2, 'threshold': 5.45, 'mistakes': 0}, {'feature': 2, 'threshold': 5.55, 'mistakes': 0}, {'feature': 2, 'threshold': 5.65, 'mistakes': 0}, {'feature': 3, 'threshold': 0.24400000000000005, 'mistakes': 0}, {'feature': 3, 'threshold': 0.25, 'mistakes': 0}, {'feature': 3, 'threshold': 0.35, 'mistakes': 0}, {'feature': 3, 'threshold': 0.45, 'mistakes': 0}, {'feature': 3, 'threshold': 0.55, 'mistakes': 0}, {'feature': 3, 'threshold': 0.8, 'mistakes': 0}, {'feature': 3, 'threshold': 1.05, 'mistakes': 4}, {'feature': 3, 'threshold': 1.15, 'mistakes': 5}, {'feature': 3, 'threshold': 1.25, 'mistakes': 5}, {'feature': 3, 'threshold': 1.35, 'mistakes': 9}, {'feature': 3, 'threshold': 1.434426229508197, 'mistakes': 6}, {'feature': 3, 'threshold': 1.45, 'mistakes': 6}, {'feature': 3, 'threshold': 1.55, 'mistakes': 2}, {'feature': 3, 'threshold': 1.65, 'mistakes': 1}, {'feature': 3, 'threshold': 1.75, 'mistakes': 1}, {'feature': 3, 'threshold': 1.85, 'mistakes': 0}, {'feature': 3, 'threshold': 1.95, 'mistakes': 0}, {'feature': 3, 'threshold': 2.05, 'mistakes': 0}, {'feature': 0, 'threshold': 5.006, 'mistakes': 0}, {'feature': 0, 'threshold': 5.05, 'mistakes': 0}, {'feature': 0, 'threshold': 5.15, 'mistakes': 0}, {'feature': 0, 'threshold': 5.25, 'mistakes': 0}, {'feature': 0, 'threshold': 5.35, 'mistakes': 0}, {'feature': 0, 'threshold': 5.45, 'mistakes': 1}, {'feature': 0, 'threshold': 5.55, 'mistakes': 4}, {'feature': 0, 'threshold': 5.65, 'mistakes': 5}, {'feature': 0, 'threshold': 5.75, 'mistakes': 6}, {'feature': 0, 'threshold': 5.85, 'mistakes': 7}, {'feature': 0, 'threshold': 5.883606557377049, 'mistakes': 10}, {'feature': 0, 'threshold': 5.95, 'mistakes': 10}, {'feature': 0, 'threshold': 6.05, 'mistakes': 7}, {'feature': 0, 'threshold': 6.15, 'mistakes': 6}, {'feature': 0, 'threshold': 6.25, 'mistakes': 6}, {'feature': 0, 'threshold': 6.35, 'mistakes': 4}, {'feature': 0, 'threshold': 6.45, 'mistakes': 3}, {'feature': 0, 'threshold': 6.55, 'mistakes': 3}, {'feature': 0, 'threshold': 6.65, 'mistakes': 2}, {'feature': 0, 'threshold': 6.75, 'mistakes': 2}, {'feature': 0, 'threshold': 6.85, 'mistakes': 1}, {'feature': 1, 'threshold': 2.740983606557377, 'mistakes': 9}, {'feature': 1, 'threshold': 2.75, 'mistakes': 9}, {'feature': 1, 'threshold': 2.8499999999999996, 'mistakes': 7}, {'feature': 1, 'threshold': 2.95, 'mistakes': 5}, {'feature': 1, 'threshold': 3.05, 'mistakes': 3}, {'feature': 1, 'threshold': 3.0769230769230766, 'mistakes': 2}, {'feature': 1, 'threshold': 3.1500000000000004, 'mistakes': 1}, {'feature': 1, 'threshold': 3.25, 'mistakes': 1}, {'feature': 1, 'threshold': 3.3499999999999996, 'mistakes': 1}, {'feature': 2, 'threshold': 1.4639999999999997, 'mistakes': 0}, {'feature': 2, 'threshold': 1.55, 'mistakes': 0}, {'feature': 2, 'threshold': 1.65, 'mistakes': 0}, {'feature': 2, 'threshold': 1.7999999999999998, 'mistakes': 0}, {'feature': 2, 'threshold': 2.45, 'mistakes': 0}, {'feature': 2, 'threshold': 3.15, 'mistakes': 0}, {'feature': 2, 'threshold': 3.4, 'mistakes': 0}, {'feature': 2, 'threshold': 3.55, 'mistakes': 1}, {'feature': 2, 'threshold': 3.6500000000000004, 'mistakes': 1}, {'feature': 2, 'threshold': 3.75, 'mistakes': 2}, {'feature': 2, 'threshold': 3.8499999999999996, 'mistakes': 3}, {'feature': 2, 'threshold': 4.05, 'mistakes': 5}, {'feature': 2, 'threshold': 4.15, 'mistakes': 6}, {'feature': 2, 'threshold': 4.25, 'mistakes': 6}, {'feature': 2, 'threshold': 4.388524590163936, 'mistakes': 10}, {'feature': 2, 'threshold': 4.45, 'mistakes': 8}, {'feature': 2, 'threshold': 4.55, 'mistakes': 5}, {'feature': 2, 'threshold': 4.65, 'mistakes': 5}, {'feature': 2, 'threshold': 4.75, 'mistakes': 3}, {'feature': 2, 'threshold': 4.85, 'mistakes': 2}, {'feature': 2, 'threshold': 4.95, 'mistakes': 1}, {'feature': 2, 'threshold': 5.05, 'mistakes': 2}, {'feature': 2, 'threshold': 5.15, 'mistakes': 1}, {'feature': 2, 'threshold': 5.25, 'mistakes': 1}, {'feature': 2, 'threshold': 5.35, 'mistakes': 1}, {'feature': 2, 'threshold': 5.45, 'mistakes': 1}, {'feature': 2, 'threshold': 5.55, 'mistakes': 1}, {'feature': 2, 'threshold': 5.65, 'mistakes': 1}, {'feature': 3, 'threshold': 0.24400000000000005, 'mistakes': 0}, {'feature': 3, 'threshold': 0.25, 'mistakes': 0}, {'feature': 3, 'threshold': 0.35, 'mistakes': 0}, {'feature': 3, 'threshold': 0.45, 'mistakes': 0}, {'feature': 3, 'threshold': 0.55, 'mistakes': 0}, {'feature': 3, 'threshold': 0.8, 'mistakes': 0}, {'feature': 3, 'threshold': 1.05, 'mistakes': 2}, {'feature': 3, 'threshold': 1.15, 'mistakes': 3}, {'feature': 3, 'threshold': 1.25, 'mistakes': 5}, {'feature': 3, 'threshold': 1.35, 'mistakes': 9}, {'feature': 3, 'threshold': 1.434426229508197, 'mistakes': 6}, {'feature': 3, 'threshold': 1.45, 'mistakes': 6}, {'feature': 3, 'threshold': 1.55, 'mistakes': 2}, {'feature': 3, 'threshold': 1.65, 'mistakes': 0}, {'feature': 3, 'threshold': 1.75, 'mistakes': 1}, {'feature': 3, 'threshold': 1.85, 'mistakes': 1}, {'feature': 3, 'threshold': 1.95, 'mistakes': 1}, {'feature': 3, 'threshold': 2.05, 'mistakes': 1}, {'feature': 0, 'threshold': 5.006, 'mistakes': 2}, {'feature': 0, 'threshold': 5.05, 'mistakes': 2}, {'feature': 0, 'threshold': 5.15, 'mistakes': 3}, {'feature': 0, 'threshold': 5.25, 'mistakes': 3}, {'feature': 0, 'threshold': 5.35, 'mistakes': 3}, {'feature': 0, 'threshold': 5.45, 'mistakes': 3}, {'feature': 0, 'threshold': 5.55, 'mistakes': 4}, {'feature': 0, 'threshold': 5.65, 'mistakes': 5}, {'feature': 0, 'threshold': 5.75, 'mistakes': 8}, {'feature': 0, 'threshold': 5.85, 'mistakes': 10}, {'feature': 0, 'threshold': 5.883606557377049, 'mistakes': 2}, {'feature': 0, 'threshold': 5.95, 'mistakes': 2}, {'feature': 0, 'threshold': 6.05, 'mistakes': 2}, {'feature': 0, 'threshold': 6.15, 'mistakes': 1}, {'feature': 0, 'threshold': 6.25, 'mistakes': 0}, {'feature': 0, 'threshold': 6.35, 'mistakes': 2}, {'feature': 0, 'threshold': 6.45, 'mistakes': 2}, {'feature': 0, 'threshold': 6.55, 'mistakes': 3}, {'feature': 0, 'threshold': 6.65, 'mistakes': 3}, {'feature': 0, 'threshold': 6.75, 'mistakes': 3}, {'feature': 0, 'threshold': 6.85, 'mistakes': 3}, {'feature': 1, 'threshold': 2.740983606557377, 'mistakes': 5}, {'feature': 1, 'threshold': 2.75, 'mistakes': 5}, {'feature': 1, 'threshold': 2.8499999999999996, 'mistakes': 4}, {'feature': 1, 'threshold': 2.95, 'mistakes': 4}, {'feature': 1, 'threshold': 3.05, 'mistakes': 5}, {'feature': 1, 'threshold': 3.0769230769230766, 'mistakes': 1}, {'feature': 1, 'threshold': 3.1500000000000004, 'mistakes': 1}, {'feature': 1, 'threshold': 3.25, 'mistakes': 1}, {'feature': 1, 'threshold': 3.3499999999999996, 'mistakes': 0}, {'feature': 2, 'threshold': 1.4639999999999997, 'mistakes': 0}, {'feature': 2, 'threshold': 1.55, 'mistakes': 0}, {'feature': 2, 'threshold': 1.65, 'mistakes': 0}, {'feature': 2, 'threshold': 1.7999999999999998, 'mistakes': 0}, {'feature': 2, 'threshold': 2.45, 'mistakes': 0}, {'feature': 2, 'threshold': 3.15, 'mistakes': 1}, {'feature': 2, 'threshold': 3.4, 'mistakes': 2}, {'feature': 2, 'threshold': 3.55, 'mistakes': 2}, {'feature': 2, 'threshold': 3.6500000000000004, 'mistakes': 2}, {'feature': 2, 'threshold': 3.75, 'mistakes': 2}, {'feature': 2, 'threshold': 3.8499999999999996, 'mistakes': 2}, {'feature': 2, 'threshold': 4.05, 'mistakes': 3}, {'feature': 2, 'threshold': 4.15, 'mistakes': 4}, {'feature': 2, 'threshold': 4.25, 'mistakes': 7}, {'feature': 2, 'threshold': 4.388524590163936, 'mistakes': 4}, {'feature': 2, 'threshold': 4.45, 'mistakes': 3}, {'feature': 2, 'threshold': 4.55, 'mistakes': 2}, {'feature': 2, 'threshold': 4.65, 'mistakes': 1}, {'feature': 2, 'threshold': 4.75, 'mistakes': 1}, {'feature': 2, 'threshold': 4.85, 'mistakes': 1}, {'feature': 2, 'threshold': 4.95, 'mistakes': 1}, {'feature': 2, 'threshold': 5.05, 'mistakes': 1}, {'feature': 2, 'threshold': 5.15, 'mistakes': 0}, {'feature': 2, 'threshold': 5.25, 'mistakes': 0}, {'feature': 2, 'threshold': 5.35, 'mistakes': 0}, {'feature': 2, 'threshold': 5.45, 'mistakes': 0}, {'feature': 2, 'threshold': 5.55, 'mistakes': 0}, {'feature': 2, 'threshold': 5.65, 'mistakes': 1}, {'feature': 3, 'threshold': 0.24400000000000005, 'mistakes': 0}, {'feature': 3, 'threshold': 0.25, 'mistakes': 0}, {'feature': 3, 'threshold': 0.35, 'mistakes': 0}, {'feature': 3, 'threshold': 0.45, 'mistakes': 0}, {'feature': 3, 'threshold': 0.55, 'mistakes': 0}, {'feature': 3, 'threshold': 0.8, 'mistakes': 0}, {'feature': 3, 'threshold': 1.05, 'mistakes': 1}, {'feature': 3, 'threshold': 1.15, 'mistakes': 2}, {'feature': 3, 'threshold': 1.25, 'mistakes': 5}, {'feature': 3, 'threshold': 1.35, 'mistakes': 9}, {'feature': 3, 'threshold': 1.434426229508197, 'mistakes': 2}, {'feature': 3, 'threshold': 1.45, 'mistakes': 2}, {'feature': 3, 'threshold': 1.55, 'mistakes': 2}, {'feature': 3, 'threshold': 1.65, 'mistakes': 2}, {'feature': 3, 'threshold': 1.75, 'mistakes': 1}, {'feature': 3, 'threshold': 1.85, 'mistakes': 3}, {'feature': 3, 'threshold': 1.95, 'mistakes': 2}, {'feature': 3, 'threshold': 2.05, 'mistakes': 2}, {'feature': 0, 'threshold': 5.006, 'mistakes': 0}, {'feature': 0, 'threshold': 5.05, 'mistakes': 0}, {'feature': 0, 'threshold': 5.15, 'mistakes': 0}, {'feature': 0, 'threshold': 5.25, 'mistakes': 0}, {'feature': 0, 'threshold': 5.35, 'mistakes': 0}, {'feature': 0, 'threshold': 5.45, 'mistakes': 0}, {'feature': 0, 'threshold': 5.55, 'mistakes': 0}, {'feature': 0, 'threshold': 5.65, 'mistakes': 1}, {'feature': 0, 'threshold': 5.75, 'mistakes': 2}, {'feature': 0, 'threshold': 5.85, 'mistakes': 3}, {'feature': 0, 'threshold': 5.883606557377049, 'mistakes': 2}, {'feature': 0, 'threshold': 5.95, 'mistakes': 2}, {'feature': 0, 'threshold': 6.05, 'mistakes': 1}, {'feature': 0, 'threshold': 6.15, 'mistakes': 1}, {'feature': 0, 'threshold': 6.25, 'mistakes': 1}, {'feature': 0, 'threshold': 6.35, 'mistakes': 0}, {'feature': 0, 'threshold': 6.45, 'mistakes': 2}, {'feature': 0, 'threshold': 6.55, 'mistakes': 4}, {'feature': 0, 'threshold': 6.65, 'mistakes': 4}, {'feature': 0, 'threshold': 6.75, 'mistakes': 6}, {'feature': 0, 'threshold': 6.85, 'mistakes': 7}, {'feature': 1, 'threshold': 2.740983606557377, 'mistakes': 5}, {'feature': 1, 'threshold': 2.75, 'mistakes': 5}, {'feature': 1, 'threshold': 2.8499999999999996, 'mistakes': 4}, {'feature': 1, 'threshold': 2.95, 'mistakes': 4}, {'feature': 1, 'threshold': 3.05, 'mistakes': 6}, {'feature': 1, 'threshold': 3.0769230769230766, 'mistakes': 7}, {'feature': 1, 'threshold': 3.1500000000000004, 'mistakes': 7}, {'feature': 1, 'threshold': 3.25, 'mistakes': 3}, {'feature': 1, 'threshold': 3.3499999999999996, 'mistakes': 2}, {'feature': 2, 'threshold': 1.4639999999999997, 'mistakes': 0}, {'feature': 2, 'threshold': 1.55, 'mistakes': 0}, {'feature': 2, 'threshold': 1.65, 'mistakes': 0}, {'feature': 2, 'threshold': 1.7999999999999998, 'mistakes': 0}, {'feature': 2, 'threshold': 2.45, 'mistakes': 0}, {'feature': 2, 'threshold': 3.15, 'mistakes': 0}, {'feature': 2, 'threshold': 3.4, 'mistakes': 0}, {'feature': 2, 'threshold': 3.55, 'mistakes': 0}, {'feature': 2, 'threshold': 3.6500000000000004, 'mistakes': 0}, {'feature': 2, 'threshold': 3.75, 'mistakes': 0}, {'feature': 2, 'threshold': 3.8499999999999996, 'mistakes': 0}, {'feature': 2, 'threshold': 4.05, 'mistakes': 0}, {'feature': 2, 'threshold': 4.15, 'mistakes': 0}, {'feature': 2, 'threshold': 4.25, 'mistakes': 0}, {'feature': 2, 'threshold': 4.388524590163936, 'mistakes': 5}, {'feature': 2, 'threshold': 4.45, 'mistakes': 5}, {'feature': 2, 'threshold': 4.55, 'mistakes': 5}, {'feature': 2, 'threshold': 4.65, 'mistakes': 5}, {'feature': 2, 'threshold': 4.75, 'mistakes': 5}, {'feature': 2, 'threshold': 4.85, 'mistakes': 5}, {'feature': 2, 'threshold': 4.95, 'mistakes': 3}, {'feature': 2, 'threshold': 5.05, 'mistakes': 1}, {'feature': 2, 'threshold': 5.15, 'mistakes': 1}, {'feature': 2, 'threshold': 5.25, 'mistakes': 1}, {'feature': 2, 'threshold': 5.35, 'mistakes': 3}, {'feature': 2, 'threshold': 5.45, 'mistakes': 3}, {'feature': 2, 'threshold': 5.55, 'mistakes': 5}, {'feature': 2, 'threshold': 5.65, 'mistakes': 5}, {'feature': 3, 'threshold': 0.24400000000000005, 'mistakes': 0}, {'feature': 3, 'threshold': 0.25, 'mistakes': 0}, {'feature': 3, 'threshold': 0.35, 'mistakes': 0}, {'feature': 3, 'threshold': 0.45, 'mistakes': 0}, {'feature': 3, 'threshold': 0.55, 'mistakes': 0}, {'feature': 3, 'threshold': 0.8, 'mistakes': 0}, {'feature': 3, 'threshold': 1.05, 'mistakes': 0}, {'feature': 3, 'threshold': 1.15, 'mistakes': 0}, {'feature': 3, 'threshold': 1.25, 'mistakes': 0}, {'feature': 3, 'threshold': 1.35, 'mistakes': 0}, {'feature': 3, 'threshold': 1.434426229508197, 'mistakes': 5}, {'feature': 3, 'threshold': 1.45, 'mistakes': 5}, {'feature': 3, 'threshold': 1.55, 'mistakes': 4}, {'feature': 3, 'threshold': 1.65, 'mistakes': 4}, {'feature': 3, 'threshold': 1.75, 'mistakes': 4}, {'feature': 3, 'threshold': 1.85, 'mistakes': 6}, {'feature': 3, 'threshold': 1.95, 'mistakes': 7}, {'feature': 3, 'threshold': 2.05, 'mistakes': 7}, {'feature': 0, 'threshold': 5.006, 'mistakes': 0}, {'feature': 0, 'threshold': 5.05, 'mistakes': 0}, {'feature': 0, 'threshold': 5.15, 'mistakes': 0}, {'feature': 0, 'threshold': 5.25, 'mistakes': 0}, {'feature': 0, 'threshold': 5.35, 'mistakes': 0}, {'feature': 0, 'threshold': 5.45, 'mistakes': 0}, {'feature': 0, 'threshold': 5.55, 'mistakes': 0}, {'feature': 0, 'threshold': 5.65, 'mistakes': 0}, {'feature': 0, 'threshold': 5.75, 'mistakes': 0}, {'feature': 0, 'threshold': 5.85, 'mistakes': 1}, {'feature': 0, 'threshold': 5.883606557377049, 'mistakes': 6}, {'feature': 0, 'threshold': 5.95, 'mistakes': 5}, {'feature': 0, 'threshold': 6.05, 'mistakes': 4}, {'feature': 0, 'threshold': 6.15, 'mistakes': 4}, {'feature': 0, 'threshold': 6.25, 'mistakes': 4}, {'feature': 0, 'threshold': 6.35, 'mistakes': 3}, {'feature': 0, 'threshold': 6.45, 'mistakes': 6}, {'feature': 0, 'threshold': 6.55, 'mistakes': 7}, {'feature': 0, 'threshold': 6.65, 'mistakes': 7}, {'feature': 0, 'threshold': 6.75, 'mistakes': 10}, {'feature': 0, 'threshold': 6.85, 'mistakes': 11}, {'feature': 1, 'threshold': 2.740983606557377, 'mistakes': 6}, {'feature': 1, 'threshold': 2.75, 'mistakes': 6}, {'feature': 1, 'threshold': 2.8499999999999996, 'mistakes': 7}, {'feature': 1, 'threshold': 2.95, 'mistakes': 7}, {'feature': 1, 'threshold': 3.05, 'mistakes': 8}, {'feature': 1, 'threshold': 3.0769230769230766, 'mistakes': 9}, {'feature': 1, 'threshold': 3.1500000000000004, 'mistakes': 5}, {'feature': 1, 'threshold': 3.25, 'mistakes': 4}, {'feature': 1, 'threshold': 3.3499999999999996, 'mistakes': 3}, {'feature': 2, 'threshold': 1.4639999999999997, 'mistakes': 0}, {'feature': 2, 'threshold': 1.55, 'mistakes': 0}, {'feature': 2, 'threshold': 1.65, 'mistakes': 0}, {'feature': 2, 'threshold': 1.7999999999999998, 'mistakes': 0}, {'feature': 2, 'threshold': 2.45, 'mistakes': 0}, {'feature': 2, 'threshold': 3.15, 'mistakes': 0}, {'feature': 2, 'threshold': 3.4, 'mistakes': 0}, {'feature': 2, 'threshold': 3.55, 'mistakes': 0}, {'feature': 2, 'threshold': 3.6500000000000004, 'mistakes': 0}, {'feature': 2, 'threshold': 3.75, 'mistakes': 0}, {'feature': 2, 'threshold': 3.8499999999999996, 'mistakes': 0}, {'feature': 2, 'threshold': 4.05, 'mistakes': 0}, {'feature': 2, 'threshold': 4.15, 'mistakes': 0}, {'feature': 2, 'threshold': 4.25, 'mistakes': 0}, {'feature': 2, 'threshold': 4.388524590163936, 'mistakes': 7}, {'feature': 2, 'threshold': 4.45, 'mistakes': 7}, {'feature': 2, 'threshold': 4.55, 'mistakes': 7}, {'feature': 2, 'threshold': 4.65, 'mistakes': 7}, {'feature': 2, 'threshold': 4.75, 'mistakes': 7}, {'feature': 2, 'threshold': 4.85, 'mistakes': 5}, {'feature': 2, 'threshold': 4.95, 'mistakes': 4}, {'feature': 2, 'threshold': 5.05, 'mistakes': 3}, {'feature': 2, 'threshold': 5.15, 'mistakes': 1}, {'feature': 2, 'threshold': 5.25, 'mistakes': 3}, {'feature': 2, 'threshold': 5.35, 'mistakes': 3}, {'feature': 2, 'threshold': 5.45, 'mistakes': 5}, {'feature': 2, 'threshold': 5.55, 'mistakes': 6}, {'feature': 2, 'threshold': 5.65, 'mistakes': 11}, {'feature': 3, 'threshold': 0.24400000000000005, 'mistakes': 0}, {'feature': 3, 'threshold': 0.25, 'mistakes': 0}, {'feature': 3, 'threshold': 0.35, 'mistakes': 0}, {'feature': 3, 'threshold': 0.45, 'mistakes': 0}, {'feature': 3, 'threshold': 0.55, 'mistakes': 0}, {'feature': 3, 'threshold': 0.8, 'mistakes': 0}, {'feature': 3, 'threshold': 1.05, 'mistakes': 0}, {'feature': 3, 'threshold': 1.15, 'mistakes': 0}, {'feature': 3, 'threshold': 1.25, 'mistakes': 0}, {'feature': 3, 'threshold': 1.35, 'mistakes': 0}, {'feature': 3, 'threshold': 1.434426229508197, 'mistakes': 8}, {'feature': 3, 'threshold': 1.45, 'mistakes': 8}, {'feature': 3, 'threshold': 1.55, 'mistakes': 7}, {'feature': 3, 'threshold': 1.65, 'mistakes': 8}, {'feature': 3, 'threshold': 1.75, 'mistakes': 8}, {'feature': 3, 'threshold': 1.85, 'mistakes': 5}, {'feature': 3, 'threshold': 1.95, 'mistakes': 4}, {'feature': 3, 'threshold': 2.05, 'mistakes': 6}]\n",
      "Aggregated results: [{'feature': 0, 'threshold': 5.006, 'mistakes': 26}, {'feature': 0, 'threshold': 5.05, 'mistakes': 26}, {'feature': 0, 'threshold': 5.15, 'mistakes': 19}, {'feature': 0, 'threshold': 5.25, 'mistakes': 17}, {'feature': 0, 'threshold': 5.35, 'mistakes': 16}, {'feature': 0, 'threshold': 5.45, 'mistakes': 12}, {'feature': 0, 'threshold': 5.55, 'mistakes': 15}, {'feature': 0, 'threshold': 5.65, 'mistakes': 21}, {'feature': 0, 'threshold': 5.75, 'mistakes': 25}, {'feature': 0, 'threshold': 5.85, 'mistakes': 30}, {'feature': 0, 'threshold': 5.883606557377049, 'mistakes': 31}, {'feature': 0, 'threshold': 5.95, 'mistakes': 28}, {'feature': 0, 'threshold': 6.05, 'mistakes': 22}, {'feature': 0, 'threshold': 6.15, 'mistakes': 18}, {'feature': 0, 'threshold': 6.25, 'mistakes': 16}, {'feature': 0, 'threshold': 6.35, 'mistakes': 13}, {'feature': 0, 'threshold': 6.45, 'mistakes': 16}, {'feature': 0, 'threshold': 6.55, 'mistakes': 19}, {'feature': 0, 'threshold': 6.65, 'mistakes': 17}, {'feature': 0, 'threshold': 6.75, 'mistakes': 21}, {'feature': 0, 'threshold': 6.85, 'mistakes': 22}, {'feature': 1, 'threshold': 2.740983606557377, 'mistakes': 38}, {'feature': 1, 'threshold': 2.75, 'mistakes': 38}, {'feature': 1, 'threshold': 2.8499999999999996, 'mistakes': 32}, {'feature': 1, 'threshold': 2.95, 'mistakes': 28}, {'feature': 1, 'threshold': 3.05, 'mistakes': 34}, {'feature': 1, 'threshold': 3.0769230769230766, 'mistakes': 33}, {'feature': 1, 'threshold': 3.1500000000000004, 'mistakes': 31}, {'feature': 1, 'threshold': 3.25, 'mistakes': 28}, {'feature': 1, 'threshold': 3.3499999999999996, 'mistakes': 26}, {'feature': 2, 'threshold': 1.4639999999999997, 'mistakes': 27}, {'feature': 2, 'threshold': 1.55, 'mistakes': 13}, {'feature': 2, 'threshold': 1.65, 'mistakes': 6}, {'feature': 2, 'threshold': 1.7999999999999998, 'mistakes': 2}, {'feature': 2, 'threshold': 2.45, 'mistakes': 0}, {'feature': 2, 'threshold': 3.15, 'mistakes': 1}, {'feature': 2, 'threshold': 3.4, 'mistakes': 3}, {'feature': 2, 'threshold': 3.55, 'mistakes': 5}, {'feature': 2, 'threshold': 3.6500000000000004, 'mistakes': 6}, {'feature': 2, 'threshold': 3.75, 'mistakes': 7}, {'feature': 2, 'threshold': 3.8499999999999996, 'mistakes': 8}, {'feature': 2, 'threshold': 4.05, 'mistakes': 16}, {'feature': 2, 'threshold': 4.15, 'mistakes': 19}, {'feature': 2, 'threshold': 4.25, 'mistakes': 23}, {'feature': 2, 'threshold': 4.388524590163936, 'mistakes': 36}, {'feature': 2, 'threshold': 4.45, 'mistakes': 32}, {'feature': 2, 'threshold': 4.55, 'mistakes': 24}, {'feature': 2, 'threshold': 4.65, 'mistakes': 21}, {'feature': 2, 'threshold': 4.75, 'mistakes': 18}, {'feature': 2, 'threshold': 4.85, 'mistakes': 14}, {'feature': 2, 'threshold': 4.95, 'mistakes': 11}, {'feature': 2, 'threshold': 5.05, 'mistakes': 9}, {'feature': 2, 'threshold': 5.15, 'mistakes': 5}, {'feature': 2, 'threshold': 5.25, 'mistakes': 7}, {'feature': 2, 'threshold': 5.35, 'mistakes': 9}, {'feature': 2, 'threshold': 5.45, 'mistakes': 11}, {'feature': 2, 'threshold': 5.55, 'mistakes': 14}, {'feature': 2, 'threshold': 5.65, 'mistakes': 20}, {'feature': 3, 'threshold': 0.24400000000000005, 'mistakes': 16}, {'feature': 3, 'threshold': 0.25, 'mistakes': 16}, {'feature': 3, 'threshold': 0.35, 'mistakes': 9}, {'feature': 3, 'threshold': 0.45, 'mistakes': 2}, {'feature': 3, 'threshold': 0.55, 'mistakes': 1}, {'feature': 3, 'threshold': 0.8, 'mistakes': 0}, {'feature': 3, 'threshold': 1.05, 'mistakes': 7}, {'feature': 3, 'threshold': 1.15, 'mistakes': 10}, {'feature': 3, 'threshold': 1.25, 'mistakes': 15}, {'feature': 3, 'threshold': 1.35, 'mistakes': 28}, {'feature': 3, 'threshold': 1.434426229508197, 'mistakes': 29}, {'feature': 3, 'threshold': 1.45, 'mistakes': 29}, {'feature': 3, 'threshold': 1.55, 'mistakes': 19}, {'feature': 3, 'threshold': 1.65, 'mistakes': 17}, {'feature': 3, 'threshold': 1.75, 'mistakes': 17}, {'feature': 3, 'threshold': 1.85, 'mistakes': 17}, {'feature': 3, 'threshold': 1.95, 'mistakes': 16}, {'feature': 3, 'threshold': 2.05, 'mistakes': 18}]\n",
      "Time taken to aggregate results: 0 minutes and 0.01 seconds\n",
      "Best split found: Feature 2, Threshold 2.45, Mistakes 0\n",
      "Time taken to find the best split: 0 minutes and 21.23 seconds\n",
      "Splitting on feature 2 at threshold 2.45 with mistakes 0\n",
      "Time taken to filter left and right data: 0 minutes and 0.07 seconds\n",
      "Time taken to update centers: 0 minutes and 0.01 seconds\n",
      "Building node at depth 1 with 50 samples\n",
      "Building node at depth 1 with 100 samples\n",
      "Finding the best split using histogram thresholds in a distributed manner\n",
      "Time taken to collect results from worker nodes: 0 minutes and 41.31 seconds\n",
      "Flattened results: [{'feature': 0, 'threshold': 5.883606557377049, 'mistakes': 1}, {'feature': 0, 'threshold': 5.95, 'mistakes': 1}, {'feature': 0, 'threshold': 6.05, 'mistakes': 1}, {'feature': 0, 'threshold': 6.15, 'mistakes': 1}, {'feature': 0, 'threshold': 6.25, 'mistakes': 1}, {'feature': 0, 'threshold': 6.35, 'mistakes': 1}, {'feature': 0, 'threshold': 6.45, 'mistakes': 0}, {'feature': 0, 'threshold': 6.55, 'mistakes': 0}, {'feature': 0, 'threshold': 6.65, 'mistakes': 0}, {'feature': 0, 'threshold': 6.75, 'mistakes': 0}, {'feature': 0, 'threshold': 6.85, 'mistakes': 0}, {'feature': 1, 'threshold': 2.740983606557377, 'mistakes': 1}, {'feature': 1, 'threshold': 2.75, 'mistakes': 1}, {'feature': 1, 'threshold': 2.8499999999999996, 'mistakes': 1}, {'feature': 1, 'threshold': 2.95, 'mistakes': 1}, {'feature': 1, 'threshold': 3.05, 'mistakes': 1}, {'feature': 2, 'threshold': 4.388524590163936, 'mistakes': 1}, {'feature': 2, 'threshold': 4.45, 'mistakes': 1}, {'feature': 2, 'threshold': 4.55, 'mistakes': 0}, {'feature': 2, 'threshold': 4.65, 'mistakes': 0}, {'feature': 2, 'threshold': 4.75, 'mistakes': 1}, {'feature': 2, 'threshold': 4.85, 'mistakes': 1}, {'feature': 2, 'threshold': 4.95, 'mistakes': 2}, {'feature': 2, 'threshold': 5.05, 'mistakes': 2}, {'feature': 2, 'threshold': 5.15, 'mistakes': 2}, {'feature': 2, 'threshold': 5.25, 'mistakes': 2}, {'feature': 2, 'threshold': 5.35, 'mistakes': 2}, {'feature': 2, 'threshold': 5.45, 'mistakes': 2}, {'feature': 2, 'threshold': 5.55, 'mistakes': 2}, {'feature': 2, 'threshold': 5.65, 'mistakes': 2}, {'feature': 3, 'threshold': 1.434426229508197, 'mistakes': 2}, {'feature': 3, 'threshold': 1.45, 'mistakes': 2}, {'feature': 3, 'threshold': 1.55, 'mistakes': 2}, {'feature': 3, 'threshold': 1.65, 'mistakes': 2}, {'feature': 3, 'threshold': 1.75, 'mistakes': 2}, {'feature': 3, 'threshold': 1.85, 'mistakes': 2}, {'feature': 3, 'threshold': 1.95, 'mistakes': 2}, {'feature': 3, 'threshold': 2.05, 'mistakes': 2}, {'feature': 0, 'threshold': 5.883606557377049, 'mistakes': 10}, {'feature': 0, 'threshold': 5.95, 'mistakes': 8}, {'feature': 0, 'threshold': 6.05, 'mistakes': 7}, {'feature': 0, 'threshold': 6.15, 'mistakes': 5}, {'feature': 0, 'threshold': 6.25, 'mistakes': 4}, {'feature': 0, 'threshold': 6.35, 'mistakes': 3}, {'feature': 0, 'threshold': 6.45, 'mistakes': 3}, {'feature': 0, 'threshold': 6.55, 'mistakes': 2}, {'feature': 0, 'threshold': 6.65, 'mistakes': 1}, {'feature': 0, 'threshold': 6.75, 'mistakes': 0}, {'feature': 0, 'threshold': 6.85, 'mistakes': 0}, {'feature': 1, 'threshold': 2.740983606557377, 'mistakes': 11}, {'feature': 1, 'threshold': 2.75, 'mistakes': 11}, {'feature': 1, 'threshold': 2.8499999999999996, 'mistakes': 8}, {'feature': 1, 'threshold': 2.95, 'mistakes': 5}, {'feature': 1, 'threshold': 3.05, 'mistakes': 3}, {'feature': 2, 'threshold': 4.388524590163936, 'mistakes': 9}, {'feature': 2, 'threshold': 4.45, 'mistakes': 8}, {'feature': 2, 'threshold': 4.55, 'mistakes': 5}, {'feature': 2, 'threshold': 4.65, 'mistakes': 3}, {'feature': 2, 'threshold': 4.75, 'mistakes': 1}, {'feature': 2, 'threshold': 4.85, 'mistakes': 0}, {'feature': 2, 'threshold': 4.95, 'mistakes': 0}, {'feature': 2, 'threshold': 5.05, 'mistakes': 0}, {'feature': 2, 'threshold': 5.15, 'mistakes': 0}, {'feature': 2, 'threshold': 5.25, 'mistakes': 0}, {'feature': 2, 'threshold': 5.35, 'mistakes': 0}, {'feature': 2, 'threshold': 5.45, 'mistakes': 0}, {'feature': 2, 'threshold': 5.55, 'mistakes': 0}, {'feature': 2, 'threshold': 5.65, 'mistakes': 0}, {'feature': 3, 'threshold': 1.434426229508197, 'mistakes': 6}, {'feature': 3, 'threshold': 1.45, 'mistakes': 6}, {'feature': 3, 'threshold': 1.55, 'mistakes': 2}, {'feature': 3, 'threshold': 1.65, 'mistakes': 1}, {'feature': 3, 'threshold': 1.75, 'mistakes': 1}, {'feature': 3, 'threshold': 1.85, 'mistakes': 0}, {'feature': 3, 'threshold': 1.95, 'mistakes': 0}, {'feature': 3, 'threshold': 2.05, 'mistakes': 0}, {'feature': 0, 'threshold': 5.883606557377049, 'mistakes': 10}, {'feature': 0, 'threshold': 5.95, 'mistakes': 10}, {'feature': 0, 'threshold': 6.05, 'mistakes': 7}, {'feature': 0, 'threshold': 6.15, 'mistakes': 6}, {'feature': 0, 'threshold': 6.25, 'mistakes': 6}, {'feature': 0, 'threshold': 6.35, 'mistakes': 4}, {'feature': 0, 'threshold': 6.45, 'mistakes': 3}, {'feature': 0, 'threshold': 6.55, 'mistakes': 3}, {'feature': 0, 'threshold': 6.65, 'mistakes': 2}, {'feature': 0, 'threshold': 6.75, 'mistakes': 2}, {'feature': 0, 'threshold': 6.85, 'mistakes': 1}, {'feature': 1, 'threshold': 2.740983606557377, 'mistakes': 9}, {'feature': 1, 'threshold': 2.75, 'mistakes': 9}, {'feature': 1, 'threshold': 2.8499999999999996, 'mistakes': 7}, {'feature': 1, 'threshold': 2.95, 'mistakes': 5}, {'feature': 1, 'threshold': 3.05, 'mistakes': 3}, {'feature': 2, 'threshold': 4.388524590163936, 'mistakes': 10}, {'feature': 2, 'threshold': 4.45, 'mistakes': 8}, {'feature': 2, 'threshold': 4.55, 'mistakes': 5}, {'feature': 2, 'threshold': 4.65, 'mistakes': 5}, {'feature': 2, 'threshold': 4.75, 'mistakes': 3}, {'feature': 2, 'threshold': 4.85, 'mistakes': 2}, {'feature': 2, 'threshold': 4.95, 'mistakes': 1}, {'feature': 2, 'threshold': 5.05, 'mistakes': 2}, {'feature': 2, 'threshold': 5.15, 'mistakes': 1}, {'feature': 2, 'threshold': 5.25, 'mistakes': 1}, {'feature': 2, 'threshold': 5.35, 'mistakes': 1}, {'feature': 2, 'threshold': 5.45, 'mistakes': 1}, {'feature': 2, 'threshold': 5.55, 'mistakes': 1}, {'feature': 2, 'threshold': 5.65, 'mistakes': 1}, {'feature': 3, 'threshold': 1.434426229508197, 'mistakes': 6}, {'feature': 3, 'threshold': 1.45, 'mistakes': 6}, {'feature': 3, 'threshold': 1.55, 'mistakes': 2}, {'feature': 3, 'threshold': 1.65, 'mistakes': 0}, {'feature': 3, 'threshold': 1.75, 'mistakes': 1}, {'feature': 3, 'threshold': 1.85, 'mistakes': 1}, {'feature': 3, 'threshold': 1.95, 'mistakes': 1}, {'feature': 3, 'threshold': 2.05, 'mistakes': 1}, {'feature': 0, 'threshold': 5.883606557377049, 'mistakes': 2}, {'feature': 0, 'threshold': 5.95, 'mistakes': 2}, {'feature': 0, 'threshold': 6.05, 'mistakes': 2}, {'feature': 0, 'threshold': 6.15, 'mistakes': 1}, {'feature': 0, 'threshold': 6.25, 'mistakes': 0}, {'feature': 0, 'threshold': 6.35, 'mistakes': 2}, {'feature': 0, 'threshold': 6.45, 'mistakes': 2}, {'feature': 0, 'threshold': 6.55, 'mistakes': 3}, {'feature': 0, 'threshold': 6.65, 'mistakes': 3}, {'feature': 0, 'threshold': 6.75, 'mistakes': 3}, {'feature': 0, 'threshold': 6.85, 'mistakes': 3}, {'feature': 1, 'threshold': 2.740983606557377, 'mistakes': 5}, {'feature': 1, 'threshold': 2.75, 'mistakes': 5}, {'feature': 1, 'threshold': 2.8499999999999996, 'mistakes': 4}, {'feature': 1, 'threshold': 2.95, 'mistakes': 4}, {'feature': 1, 'threshold': 3.05, 'mistakes': 5}, {'feature': 2, 'threshold': 4.388524590163936, 'mistakes': 4}, {'feature': 2, 'threshold': 4.45, 'mistakes': 3}, {'feature': 2, 'threshold': 4.55, 'mistakes': 2}, {'feature': 2, 'threshold': 4.65, 'mistakes': 1}, {'feature': 2, 'threshold': 4.75, 'mistakes': 1}, {'feature': 2, 'threshold': 4.85, 'mistakes': 1}, {'feature': 2, 'threshold': 4.95, 'mistakes': 1}, {'feature': 2, 'threshold': 5.05, 'mistakes': 1}, {'feature': 2, 'threshold': 5.15, 'mistakes': 0}, {'feature': 2, 'threshold': 5.25, 'mistakes': 0}, {'feature': 2, 'threshold': 5.35, 'mistakes': 0}, {'feature': 2, 'threshold': 5.45, 'mistakes': 0}, {'feature': 2, 'threshold': 5.55, 'mistakes': 0}, {'feature': 2, 'threshold': 5.65, 'mistakes': 1}, {'feature': 3, 'threshold': 1.434426229508197, 'mistakes': 2}, {'feature': 3, 'threshold': 1.45, 'mistakes': 2}, {'feature': 3, 'threshold': 1.55, 'mistakes': 2}, {'feature': 3, 'threshold': 1.65, 'mistakes': 2}, {'feature': 3, 'threshold': 1.75, 'mistakes': 1}, {'feature': 3, 'threshold': 1.85, 'mistakes': 3}, {'feature': 3, 'threshold': 1.95, 'mistakes': 2}, {'feature': 3, 'threshold': 2.05, 'mistakes': 2}, {'feature': 0, 'threshold': 5.883606557377049, 'mistakes': 2}, {'feature': 0, 'threshold': 5.95, 'mistakes': 2}, {'feature': 0, 'threshold': 6.05, 'mistakes': 1}, {'feature': 0, 'threshold': 6.15, 'mistakes': 1}, {'feature': 0, 'threshold': 6.25, 'mistakes': 1}, {'feature': 0, 'threshold': 6.35, 'mistakes': 0}, {'feature': 0, 'threshold': 6.45, 'mistakes': 2}, {'feature': 0, 'threshold': 6.55, 'mistakes': 4}, {'feature': 0, 'threshold': 6.65, 'mistakes': 4}, {'feature': 0, 'threshold': 6.75, 'mistakes': 6}, {'feature': 0, 'threshold': 6.85, 'mistakes': 7}, {'feature': 1, 'threshold': 2.740983606557377, 'mistakes': 5}, {'feature': 1, 'threshold': 2.75, 'mistakes': 5}, {'feature': 1, 'threshold': 2.8499999999999996, 'mistakes': 4}, {'feature': 1, 'threshold': 2.95, 'mistakes': 4}, {'feature': 1, 'threshold': 3.05, 'mistakes': 6}, {'feature': 2, 'threshold': 4.388524590163936, 'mistakes': 5}, {'feature': 2, 'threshold': 4.45, 'mistakes': 5}, {'feature': 2, 'threshold': 4.55, 'mistakes': 5}, {'feature': 2, 'threshold': 4.65, 'mistakes': 5}, {'feature': 2, 'threshold': 4.75, 'mistakes': 5}, {'feature': 2, 'threshold': 4.85, 'mistakes': 5}, {'feature': 2, 'threshold': 4.95, 'mistakes': 3}, {'feature': 2, 'threshold': 5.05, 'mistakes': 1}, {'feature': 2, 'threshold': 5.15, 'mistakes': 1}, {'feature': 2, 'threshold': 5.25, 'mistakes': 1}, {'feature': 2, 'threshold': 5.35, 'mistakes': 3}, {'feature': 2, 'threshold': 5.45, 'mistakes': 3}, {'feature': 2, 'threshold': 5.55, 'mistakes': 5}, {'feature': 2, 'threshold': 5.65, 'mistakes': 5}, {'feature': 3, 'threshold': 1.434426229508197, 'mistakes': 5}, {'feature': 3, 'threshold': 1.45, 'mistakes': 5}, {'feature': 3, 'threshold': 1.55, 'mistakes': 4}, {'feature': 3, 'threshold': 1.65, 'mistakes': 4}, {'feature': 3, 'threshold': 1.75, 'mistakes': 4}, {'feature': 3, 'threshold': 1.85, 'mistakes': 6}, {'feature': 3, 'threshold': 1.95, 'mistakes': 7}, {'feature': 3, 'threshold': 2.05, 'mistakes': 7}, {'feature': 0, 'threshold': 5.883606557377049, 'mistakes': 6}, {'feature': 0, 'threshold': 5.95, 'mistakes': 5}, {'feature': 0, 'threshold': 6.05, 'mistakes': 4}, {'feature': 0, 'threshold': 6.15, 'mistakes': 4}, {'feature': 0, 'threshold': 6.25, 'mistakes': 4}, {'feature': 0, 'threshold': 6.35, 'mistakes': 3}, {'feature': 0, 'threshold': 6.45, 'mistakes': 6}, {'feature': 0, 'threshold': 6.55, 'mistakes': 7}, {'feature': 0, 'threshold': 6.65, 'mistakes': 7}, {'feature': 0, 'threshold': 6.75, 'mistakes': 10}, {'feature': 0, 'threshold': 6.85, 'mistakes': 11}, {'feature': 1, 'threshold': 2.740983606557377, 'mistakes': 6}, {'feature': 1, 'threshold': 2.75, 'mistakes': 6}, {'feature': 1, 'threshold': 2.8499999999999996, 'mistakes': 7}, {'feature': 1, 'threshold': 2.95, 'mistakes': 7}, {'feature': 1, 'threshold': 3.05, 'mistakes': 8}, {'feature': 2, 'threshold': 4.388524590163936, 'mistakes': 7}, {'feature': 2, 'threshold': 4.45, 'mistakes': 7}, {'feature': 2, 'threshold': 4.55, 'mistakes': 7}, {'feature': 2, 'threshold': 4.65, 'mistakes': 7}, {'feature': 2, 'threshold': 4.75, 'mistakes': 7}, {'feature': 2, 'threshold': 4.85, 'mistakes': 5}, {'feature': 2, 'threshold': 4.95, 'mistakes': 4}, {'feature': 2, 'threshold': 5.05, 'mistakes': 3}, {'feature': 2, 'threshold': 5.15, 'mistakes': 1}, {'feature': 2, 'threshold': 5.25, 'mistakes': 3}, {'feature': 2, 'threshold': 5.35, 'mistakes': 3}, {'feature': 2, 'threshold': 5.45, 'mistakes': 5}, {'feature': 2, 'threshold': 5.55, 'mistakes': 6}, {'feature': 2, 'threshold': 5.65, 'mistakes': 11}, {'feature': 3, 'threshold': 1.434426229508197, 'mistakes': 8}, {'feature': 3, 'threshold': 1.45, 'mistakes': 8}, {'feature': 3, 'threshold': 1.55, 'mistakes': 7}, {'feature': 3, 'threshold': 1.65, 'mistakes': 8}, {'feature': 3, 'threshold': 1.75, 'mistakes': 8}, {'feature': 3, 'threshold': 1.85, 'mistakes': 5}, {'feature': 3, 'threshold': 1.95, 'mistakes': 4}, {'feature': 3, 'threshold': 2.05, 'mistakes': 6}]\n",
      "Aggregated results: [{'feature': 0, 'threshold': 5.883606557377049, 'mistakes': 31}, {'feature': 0, 'threshold': 5.95, 'mistakes': 28}, {'feature': 0, 'threshold': 6.05, 'mistakes': 22}, {'feature': 0, 'threshold': 6.15, 'mistakes': 18}, {'feature': 0, 'threshold': 6.25, 'mistakes': 16}, {'feature': 0, 'threshold': 6.35, 'mistakes': 13}, {'feature': 0, 'threshold': 6.45, 'mistakes': 16}, {'feature': 0, 'threshold': 6.55, 'mistakes': 19}, {'feature': 0, 'threshold': 6.65, 'mistakes': 17}, {'feature': 0, 'threshold': 6.75, 'mistakes': 21}, {'feature': 0, 'threshold': 6.85, 'mistakes': 22}, {'feature': 1, 'threshold': 2.740983606557377, 'mistakes': 37}, {'feature': 1, 'threshold': 2.75, 'mistakes': 37}, {'feature': 1, 'threshold': 2.8499999999999996, 'mistakes': 31}, {'feature': 1, 'threshold': 2.95, 'mistakes': 26}, {'feature': 1, 'threshold': 3.05, 'mistakes': 26}, {'feature': 2, 'threshold': 4.388524590163936, 'mistakes': 36}, {'feature': 2, 'threshold': 4.45, 'mistakes': 32}, {'feature': 2, 'threshold': 4.55, 'mistakes': 24}, {'feature': 2, 'threshold': 4.65, 'mistakes': 21}, {'feature': 2, 'threshold': 4.75, 'mistakes': 18}, {'feature': 2, 'threshold': 4.85, 'mistakes': 14}, {'feature': 2, 'threshold': 4.95, 'mistakes': 11}, {'feature': 2, 'threshold': 5.05, 'mistakes': 9}, {'feature': 2, 'threshold': 5.15, 'mistakes': 5}, {'feature': 2, 'threshold': 5.25, 'mistakes': 7}, {'feature': 2, 'threshold': 5.35, 'mistakes': 9}, {'feature': 2, 'threshold': 5.45, 'mistakes': 11}, {'feature': 2, 'threshold': 5.55, 'mistakes': 14}, {'feature': 2, 'threshold': 5.65, 'mistakes': 20}, {'feature': 3, 'threshold': 1.434426229508197, 'mistakes': 29}, {'feature': 3, 'threshold': 1.45, 'mistakes': 29}, {'feature': 3, 'threshold': 1.55, 'mistakes': 19}, {'feature': 3, 'threshold': 1.65, 'mistakes': 17}, {'feature': 3, 'threshold': 1.75, 'mistakes': 17}, {'feature': 3, 'threshold': 1.85, 'mistakes': 17}, {'feature': 3, 'threshold': 1.95, 'mistakes': 16}, {'feature': 3, 'threshold': 2.05, 'mistakes': 18}]\n",
      "Time taken to aggregate results: 0 minutes and 0.01 seconds\n",
      "Best split found: Feature 2, Threshold 5.15, Mistakes 5\n",
      "Time taken to find the best split: 0 minutes and 41.89 seconds\n",
      "Splitting on feature 2 at threshold 5.15 with mistakes 5\n",
      "Time taken to filter left and right data: 0 minutes and 0.14 seconds\n",
      "Time taken to update centers: 0 minutes and 0.00 seconds\n",
      "Building node at depth 2 with 66 samples\n",
      "Building node at depth 2 with 34 samples\n",
      "Time taken to build the tree: 2 minutes and 58.66 seconds\n",
      "Running '__fill_stats_distributed__' method\n",
      "Time taken to fill stats: 1 minutes and 16.37 seconds\n",
      "Tree building completed.\n"
     ]
    }
   ],
   "source": [
    "d_imm_tree = DistributedIMM(spark,3,verbose=4).fit(feature_df,model)"
   ],
   "metadata": {
    "collapsed": false,
    "ExecuteTime": {
     "end_time": "2025-02-27T09:21:15.151813Z",
     "start_time": "2025-02-27T09:16:51.345981Z"
    }
   },
   "id": "7a28edd8637b21cd",
   "execution_count": 10
  },
  {
   "cell_type": "code",
   "outputs": [
    {
     "name": "stdout",
     "output_type": "stream",
     "text": [
      "Feature names: ['sepal_length', 'sepal_width', 'petal_length', 'petal_width']\n",
      "Tree plot saved as 'iris_imm_tree_3.png' and displayed.\n"
     ]
    }
   ],
   "source": [
    "# Extract feature names from the VectorAssembler\n",
    "feature_names = assembler.getInputCols()\n",
    "\n",
    "# Print the feature names to confirm\n",
    "print(\"Feature names:\", feature_names)\n",
    "\n",
    "# Plot the tree using the dynamically retrieved feature names\n",
    "try:\n",
    "    d_imm_tree.plot(filename=\"iris_imm_tree_3\", feature_names=feature_names, view=True)\n",
    "    print(\"Tree plot saved as 'iris_imm_tree_3.png' and displayed.\")\n",
    "\n",
    "except Exception as e:\n",
    "    print(f\"An error occurred while plotting the tree: {e}\")"
   ],
   "metadata": {
    "collapsed": false,
    "ExecuteTime": {
     "end_time": "2025-02-27T09:21:19.773661Z",
     "start_time": "2025-02-27T09:21:15.203171Z"
    }
   },
   "id": "cf51cb88b442234a",
   "execution_count": 11
  },
  {
   "cell_type": "code",
   "outputs": [
    {
     "name": "stdout",
     "output_type": "stream",
     "text": [
      "Running 'feature_importance' method\n"
     ]
    },
    {
     "data": {
      "text/plain": "[0, 0, 2, 0]"
     },
     "execution_count": 12,
     "metadata": {},
     "output_type": "execute_result"
    }
   ],
   "source": [
    "d_imm_tree.feature_importance()"
   ],
   "metadata": {
    "collapsed": false,
    "ExecuteTime": {
     "end_time": "2025-02-27T09:21:19.883246Z",
     "start_time": "2025-02-27T09:21:19.777936Z"
    }
   },
   "id": "de2afbf1171561cd",
   "execution_count": 12
  },
  {
   "cell_type": "raw",
   "source": [
    "TESTING THE \"fill_stats_distributed\" METHOD"
   ],
   "metadata": {
    "collapsed": false
   },
   "id": "8485f0f030c03101"
  },
  {
   "cell_type": "code",
   "outputs": [
    {
     "name": "stdout",
     "output_type": "stream",
     "text": [
      "Root Node Stats: Samples = 150\n",
      "Left Child Stats: Samples = 50 Mistakes = 0\n",
      "Right Child Stats: Samples = 100\n",
      "Right-Left Child Stats: Samples = 66 Mistakes = 5\n",
      "Right-Right Child Stats: Samples = 34 Mistakes = 0\n"
     ]
    }
   ],
   "source": [
    "from d_imm.imm_model import Node\n",
    "\n",
    "# Root Node\n",
    "root_node = Node()\n",
    "root_node.feature = 2  # petal length (cm) column index\n",
    "root_node.value = 1.9  # Threshold for split\n",
    "\n",
    "# Left Child - Leaf Node\n",
    "root_node.left = Node()\n",
    "root_node.left.value = 1  # Cluster label\n",
    "# root_node.left.samples = 50\n",
    "# root_node.left.mistakes = 0\n",
    "\n",
    "# Right Child - Internal Node\n",
    "root_node.right = Node()\n",
    "root_node.right.feature = 2  # petal length (cm) column index\n",
    "root_node.right.value = 5.1  # Threshold for split\n",
    "\n",
    "# Right-Left Child - Leaf Node\n",
    "root_node.right.left = Node()\n",
    "root_node.right.left.value = 2  # Cluster label\n",
    "# root_node.right.left.samples = 66\n",
    "# root_node.right.left.mistakes = 5\n",
    "\n",
    "# Right-Right Child - Leaf Node\n",
    "root_node.right.right = Node()\n",
    "root_node.right.right.value = 0  # Cluster label\n",
    "# root_node.right.right.samples = 34\n",
    "# root_node.right.right.mistakes = 0\n",
    "\n",
    "from pyspark.ml.functions import vector_to_array\n",
    "\n",
    "d_imm = DistributedIMM(spark, k=3, verbose=1)\n",
    "\n",
    "clustered_data = model.transform(feature_df).select(\"features\", \"prediction\")\n",
    "clustered_data_vector = clustered_data.withColumn(\"features_array\", vector_to_array(\"features\"))\n",
    "\n",
    "# Test the fill_stats_distributed method with the manually created tree\n",
    "d_imm.fill_stats_distributed(root_node,clustered_data_vector)\n",
    "\n",
    "# Print the results for verification\n",
    "print(\"Root Node Stats: Samples =\", root_node.samples)\n",
    "print(\"Left Child Stats: Samples =\", root_node.left.samples, \"Mistakes =\", root_node.left.mistakes)\n",
    "print(\"Right Child Stats: Samples =\", root_node.right.samples)\n",
    "print(\"Right-Left Child Stats: Samples =\", root_node.right.left.samples, \"Mistakes =\", root_node.right.left.mistakes)\n",
    "print(\"Right-Right Child Stats: Samples =\", root_node.right.right.samples, \"Mistakes =\", root_node.right.right.mistakes)"
   ],
   "metadata": {
    "collapsed": false,
    "ExecuteTime": {
     "end_time": "2025-02-27T09:23:34.922748Z",
     "start_time": "2025-02-27T09:21:19.887471Z"
    }
   },
   "id": "49ab78c79365f4fd",
   "execution_count": 13
  },
  {
   "cell_type": "markdown",
   "source": [
    "TESTING FEATURE IMPORTANCE "
   ],
   "metadata": {
    "collapsed": false
   },
   "id": "c5d9308a659743da"
  },
  {
   "cell_type": "code",
   "outputs": [
    {
     "name": "stdout",
     "output_type": "stream",
     "text": [
      "Running 'feature_importance' method\n",
      "[0, 0, 2, 0]\n"
     ]
    }
   ],
   "source": [
    "feature_imp = d_imm.feature_importance()\n",
    "print(feature_imp)"
   ],
   "metadata": {
    "collapsed": false,
    "ExecuteTime": {
     "end_time": "2025-02-27T09:23:35.034818Z",
     "start_time": "2025-02-27T09:23:34.970750Z"
    }
   },
   "id": "e146bd7eb2805c4b",
   "execution_count": 14
  },
  {
   "cell_type": "code",
   "outputs": [],
   "source": [],
   "metadata": {
    "collapsed": false
   },
   "id": "1b42e11312c13dd1"
  }
 ],
 "metadata": {
  "kernelspec": {
   "display_name": "Python 3",
   "language": "python",
   "name": "python3"
  },
  "language_info": {
   "codemirror_mode": {
    "name": "ipython",
    "version": 2
   },
   "file_extension": ".py",
   "mimetype": "text/x-python",
   "name": "python",
   "nbconvert_exporter": "python",
   "pygments_lexer": "ipython2",
   "version": "2.7.6"
  }
 },
 "nbformat": 4,
 "nbformat_minor": 5
}
